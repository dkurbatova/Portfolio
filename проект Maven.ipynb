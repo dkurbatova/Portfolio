{
 "cells": [
  {
   "cell_type": "markdown",
   "id": "63d088a1",
   "metadata": {
    "toc": true
   },
   "source": [
    "<h1>Table of Contents<span class=\"tocSkip\"></span></h1>\n",
    "<div class=\"toc\"><ul class=\"toc-item\"><li><span><a href=\"#Загрузка-данных-и-подготовка-их-к-анализу\" data-toc-modified-id=\"Загрузка-данных-и-подготовка-их-к-анализу-1\"><span class=\"toc-item-num\">1&nbsp;&nbsp;</span>Загрузка данных и подготовка их к анализу</a></span><ul class=\"toc-item\"><li><span><a href=\"#Загрузка-данных\" data-toc-modified-id=\"Загрузка-данных-1.1\"><span class=\"toc-item-num\">1.1&nbsp;&nbsp;</span>Загрузка данных</a></span></li><li><span><a href=\"#Обзор-данных\" data-toc-modified-id=\"Обзор-данных-1.2\"><span class=\"toc-item-num\">1.2&nbsp;&nbsp;</span>Обзор данных</a></span></li></ul></li><li><span><a href=\"#Предобработка-данных\" data-toc-modified-id=\"Предобработка-данных-2\"><span class=\"toc-item-num\">2&nbsp;&nbsp;</span>Предобработка данных</a></span><ul class=\"toc-item\"><li><span><a href=\"#Обработка-пропусков\" data-toc-modified-id=\"Обработка-пропусков-2.1\"><span class=\"toc-item-num\">2.1&nbsp;&nbsp;</span>Обработка пропусков</a></span></li><li><span><a href=\"#Поиск-дубликатов\" data-toc-modified-id=\"Поиск-дубликатов-2.2\"><span class=\"toc-item-num\">2.2&nbsp;&nbsp;</span>Поиск дубликатов</a></span></li><li><span><a href=\"#Изменение-типов-данных\" data-toc-modified-id=\"Изменение-типов-данных-2.3\"><span class=\"toc-item-num\">2.3&nbsp;&nbsp;</span>Изменение типов данных</a></span></li><li><span><a href=\"#Файл-events\" data-toc-modified-id=\"Файл-events-2.4\"><span class=\"toc-item-num\">2.4&nbsp;&nbsp;</span>Файл events</a></span></li></ul></li><li><span><a href=\"#Аналитическая-часть\" data-toc-modified-id=\"Аналитическая-часть-3\"><span class=\"toc-item-num\">3&nbsp;&nbsp;</span>Аналитическая часть</a></span><ul class=\"toc-item\"><li><span><a href=\"#RFM---анализ.-Сегментация.\" data-toc-modified-id=\"RFM---анализ.-Сегментация.-3.1\"><span class=\"toc-item-num\">3.1&nbsp;&nbsp;</span>RFM - анализ. Сегментация.</a></span><ul class=\"toc-item\"><li><span><a href=\"#Recency\" data-toc-modified-id=\"Recency-3.1.1\"><span class=\"toc-item-num\">3.1.1&nbsp;&nbsp;</span>Recency</a></span></li><li><span><a href=\"#Frequency\" data-toc-modified-id=\"Frequency-3.1.2\"><span class=\"toc-item-num\">3.1.2&nbsp;&nbsp;</span>Frequency</a></span></li><li><span><a href=\"#Monetary\" data-toc-modified-id=\"Monetary-3.1.3\"><span class=\"toc-item-num\">3.1.3&nbsp;&nbsp;</span>Monetary</a></span></li></ul></li><li><span><a href=\"#Портрет-клиентов\" data-toc-modified-id=\"Портрет-клиентов-3.2\"><span class=\"toc-item-num\">3.2&nbsp;&nbsp;</span>Портрет клиентов</a></span><ul class=\"toc-item\"><li><span><a href=\"#Категории-по-возрастам\" data-toc-modified-id=\"Категории-по-возрастам-3.2.1\"><span class=\"toc-item-num\">3.2.1&nbsp;&nbsp;</span>Категории по возрастам</a></span></li><li><span><a href=\"#Категории-по-доходам\" data-toc-modified-id=\"Категории-по-доходам-3.2.2\"><span class=\"toc-item-num\">3.2.2&nbsp;&nbsp;</span>Категории по доходам</a></span></li></ul></li></ul></li><li><span><a href=\"#Объединяю-файлы\" data-toc-modified-id=\"Объединяю-файлы-4\"><span class=\"toc-item-num\">4&nbsp;&nbsp;</span>Объединяю файлы</a></span><ul class=\"toc-item\"><li><span><a href=\"#Воронка\" data-toc-modified-id=\"Воронка-4.1\"><span class=\"toc-item-num\">4.1&nbsp;&nbsp;</span>Воронка</a></span></li></ul></li><li><span><a href=\"#скачиваю-файл\" data-toc-modified-id=\"скачиваю-файл-5\"><span class=\"toc-item-num\">5&nbsp;&nbsp;</span>скачиваю файл</a></span></li></ul></div>"
   ]
  },
  {
   "cell_type": "markdown",
   "id": "74959ba6",
   "metadata": {},
   "source": [
    "# Анализ поведения участников программы лояльности Maven Cafe\n"
   ]
  },
  {
   "cell_type": "markdown",
   "id": "e3ee2a4a",
   "metadata": {},
   "source": [
    "Отдел маркетинга Maven Cafe только что провел тест, отправив различные комбинации рекламных предложений существующим участникам программы лояльности. Теперь, когда 30-дневный период теста завершился, стоит задача — определить ключевые сегменты клиентов и разработать стратегию, основанную на данных, для будущих рекламных сообщений и таргетирования.\n",
    "Результаты должны быть изложены в отчете, который будет представлен директору по маркетингу (CMO).\n",
    "\n",
    "**Описание данных**\n",
    "\n",
    "Данные симулируют поведение участников программы Cafe Rewards в течение 30-дневного периода, включая их транзакции и реакции на рекламные предложения. Данные представлены в трех файлах: \n",
    "- offers.csv содержит информацию о каждом предложении, \n",
    "- customers.csv — демографические данные о каждом клиенте, \n",
    "- events.csv — о действиях каждого клиента в течение периода. Эти действия разделены на получение предложения, просмотр предложения, принятие предложения и транзакцию. Чтобы транзакция была приписана предложению, она должна произойти в то же время, когда клиент «завершил» предложение.\n",
    "\n",
    "**offers** – Данные о предложениях, отправленных клиентам в течение 30-дневного периода.\n",
    "- offer_id – Уникальный ID предложения (первичный ключ).\n",
    "- offer_type – Тип предложения: \"bogo\" (Buy One Get One - купи один, получи второй в подарок), \"discount\" (скидка) или \"informational\" (информационное).\n",
    "- difficulty – Минимальная сумма, которую необходимо потратить для выполнения предложения.\n",
    "- reward – Награда (в долларах), полученная за выполнение предложения.\n",
    "- duration – Количество дней, в течение которых клиент может выполнить предложение с момента его получения.\n",
    "- channels – Список маркетинговых каналов, использованных для отправки предложения клиентам.\n",
    "\n",
    "**customers** – Демографические данные каждого клиента.\n",
    "- customer_id – Уникальный ID клиента (первичный ключ).\n",
    "- became_member_on – Дата регистрации клиента (в формате ггггммдд).\n",
    "- gender – Пол клиента: (M)ужчина, (F)женщина или (O)другой.\n",
    "- age – Возраст клиента.\n",
    "- income – Ожидаемый годовой доход клиента в долларах США.\n",
    "\n",
    "**events** – Данные о действиях клиентов, включая транзакции, получение предложений, просмотр предложений и выполнение предложений.\n",
    "- customer_id – Клиент, с которым связано событие (внешний ключ).\n",
    "- event – Описание события (транзакция, получение предложения, просмотр предложения или выполнение предложения).\n",
    "- value – Словарь значений, связанных с событием (сумма для транзакций, offer_id для полученных и просмотренных предложений, offer_id и reward для выполненных предложений).\n",
    "- time – Количество часов, прошедших в течение 30-дневного периода (начиная с 0).\n",
    "\n"
   ]
  },
  {
   "cell_type": "markdown",
   "id": "55bd6f14",
   "metadata": {},
   "source": [
    "##  Загрузка данных и подготовка их к анализу"
   ]
  },
  {
   "cell_type": "markdown",
   "id": "6bfb5d47",
   "metadata": {},
   "source": [
    "### Загрузка данных"
   ]
  },
  {
   "cell_type": "code",
   "execution_count": 1,
   "id": "53f30079",
   "metadata": {},
   "outputs": [
    {
     "name": "stderr",
     "output_type": "stream",
     "text": [
      "/Users/dajaanakurbatova/opt/anaconda3/envs/practicum/lib/python3.9/site-packages/scipy/__init__.py:146: UserWarning: A NumPy version >=1.16.5 and <1.23.0 is required for this version of SciPy (detected version 1.24.3\n",
      "  warnings.warn(f\"A NumPy version >={np_minversion} and <{np_maxversion}\"\n"
     ]
    }
   ],
   "source": [
    "import pandas as pd\n",
    "import numpy as np\n",
    "import re\n",
    "import seaborn as sns\n",
    "import matplotlib.pyplot as plt\n",
    "from datetime import datetime"
   ]
  },
  {
   "cell_type": "code",
   "execution_count": 2,
   "id": "8bac6047",
   "metadata": {},
   "outputs": [],
   "source": [
    "offers = pd.read_csv('offers.csv')\n",
    "events = pd.read_csv('events.csv')\n",
    "customers = pd.read_csv('customers.csv')"
   ]
  },
  {
   "cell_type": "markdown",
   "id": "4f7a0373",
   "metadata": {},
   "source": [
    "### Обзор данных"
   ]
  },
  {
   "cell_type": "code",
   "execution_count": 3,
   "id": "c40464ef",
   "metadata": {},
   "outputs": [
    {
     "data": {
      "text/html": [
       "<div>\n",
       "<style scoped>\n",
       "    .dataframe tbody tr th:only-of-type {\n",
       "        vertical-align: middle;\n",
       "    }\n",
       "\n",
       "    .dataframe tbody tr th {\n",
       "        vertical-align: top;\n",
       "    }\n",
       "\n",
       "    .dataframe thead th {\n",
       "        text-align: right;\n",
       "    }\n",
       "</style>\n",
       "<table border=\"1\" class=\"dataframe\">\n",
       "  <thead>\n",
       "    <tr style=\"text-align: right;\">\n",
       "      <th></th>\n",
       "      <th>offer_id</th>\n",
       "      <th>offer_type</th>\n",
       "      <th>difficulty</th>\n",
       "      <th>reward</th>\n",
       "      <th>duration</th>\n",
       "      <th>channels</th>\n",
       "    </tr>\n",
       "  </thead>\n",
       "  <tbody>\n",
       "    <tr>\n",
       "      <th>0</th>\n",
       "      <td>ae264e3637204a6fb9bb56bc8210ddfd</td>\n",
       "      <td>bogo</td>\n",
       "      <td>10</td>\n",
       "      <td>10</td>\n",
       "      <td>7</td>\n",
       "      <td>['email'; 'mobile'; 'social']</td>\n",
       "    </tr>\n",
       "    <tr>\n",
       "      <th>1</th>\n",
       "      <td>4d5c57ea9a6940dd891ad53e9dbe8da0</td>\n",
       "      <td>bogo</td>\n",
       "      <td>10</td>\n",
       "      <td>10</td>\n",
       "      <td>5</td>\n",
       "      <td>['web'; 'email'; 'mobile'; 'social']</td>\n",
       "    </tr>\n",
       "    <tr>\n",
       "      <th>2</th>\n",
       "      <td>3f207df678b143eea3cee63160fa8bed</td>\n",
       "      <td>informational</td>\n",
       "      <td>0</td>\n",
       "      <td>0</td>\n",
       "      <td>4</td>\n",
       "      <td>['web'; 'email'; 'mobile']</td>\n",
       "    </tr>\n",
       "    <tr>\n",
       "      <th>3</th>\n",
       "      <td>9b98b8c7a33c4b65b9aebfe6a799e6d9</td>\n",
       "      <td>bogo</td>\n",
       "      <td>5</td>\n",
       "      <td>5</td>\n",
       "      <td>7</td>\n",
       "      <td>['web'; 'email'; 'mobile']</td>\n",
       "    </tr>\n",
       "    <tr>\n",
       "      <th>4</th>\n",
       "      <td>0b1e1539f2cc45b7b9fa7c272da2e1d7</td>\n",
       "      <td>discount</td>\n",
       "      <td>20</td>\n",
       "      <td>5</td>\n",
       "      <td>10</td>\n",
       "      <td>['web'; 'email']</td>\n",
       "    </tr>\n",
       "    <tr>\n",
       "      <th>5</th>\n",
       "      <td>2298d6c36e964ae4a3e7e9706d1fb8c2</td>\n",
       "      <td>discount</td>\n",
       "      <td>7</td>\n",
       "      <td>3</td>\n",
       "      <td>7</td>\n",
       "      <td>['web'; 'email'; 'mobile'; 'social']</td>\n",
       "    </tr>\n",
       "    <tr>\n",
       "      <th>6</th>\n",
       "      <td>fafdcd668e3743c1bb461111dcafc2a4</td>\n",
       "      <td>discount</td>\n",
       "      <td>10</td>\n",
       "      <td>2</td>\n",
       "      <td>10</td>\n",
       "      <td>['web'; 'email'; 'mobile'; 'social']</td>\n",
       "    </tr>\n",
       "    <tr>\n",
       "      <th>7</th>\n",
       "      <td>5a8bc65990b245e5a138643cd4eb9837</td>\n",
       "      <td>informational</td>\n",
       "      <td>0</td>\n",
       "      <td>0</td>\n",
       "      <td>3</td>\n",
       "      <td>['email'; 'mobile'; 'social']</td>\n",
       "    </tr>\n",
       "    <tr>\n",
       "      <th>8</th>\n",
       "      <td>f19421c1d4aa40978ebb69ca19b0e20d</td>\n",
       "      <td>bogo</td>\n",
       "      <td>5</td>\n",
       "      <td>5</td>\n",
       "      <td>5</td>\n",
       "      <td>['web'; 'email'; 'mobile'; 'social']</td>\n",
       "    </tr>\n",
       "    <tr>\n",
       "      <th>9</th>\n",
       "      <td>2906b810c7d4411798c6938adc9daaa5</td>\n",
       "      <td>discount</td>\n",
       "      <td>10</td>\n",
       "      <td>2</td>\n",
       "      <td>7</td>\n",
       "      <td>['web'; 'email'; 'mobile']</td>\n",
       "    </tr>\n",
       "  </tbody>\n",
       "</table>\n",
       "</div>"
      ],
      "text/plain": [
       "                           offer_id     offer_type  difficulty  reward  \\\n",
       "0  ae264e3637204a6fb9bb56bc8210ddfd           bogo          10      10   \n",
       "1  4d5c57ea9a6940dd891ad53e9dbe8da0           bogo          10      10   \n",
       "2  3f207df678b143eea3cee63160fa8bed  informational           0       0   \n",
       "3  9b98b8c7a33c4b65b9aebfe6a799e6d9           bogo           5       5   \n",
       "4  0b1e1539f2cc45b7b9fa7c272da2e1d7       discount          20       5   \n",
       "5  2298d6c36e964ae4a3e7e9706d1fb8c2       discount           7       3   \n",
       "6  fafdcd668e3743c1bb461111dcafc2a4       discount          10       2   \n",
       "7  5a8bc65990b245e5a138643cd4eb9837  informational           0       0   \n",
       "8  f19421c1d4aa40978ebb69ca19b0e20d           bogo           5       5   \n",
       "9  2906b810c7d4411798c6938adc9daaa5       discount          10       2   \n",
       "\n",
       "   duration                              channels  \n",
       "0         7         ['email'; 'mobile'; 'social']  \n",
       "1         5  ['web'; 'email'; 'mobile'; 'social']  \n",
       "2         4            ['web'; 'email'; 'mobile']  \n",
       "3         7            ['web'; 'email'; 'mobile']  \n",
       "4        10                      ['web'; 'email']  \n",
       "5         7  ['web'; 'email'; 'mobile'; 'social']  \n",
       "6        10  ['web'; 'email'; 'mobile'; 'social']  \n",
       "7         3         ['email'; 'mobile'; 'social']  \n",
       "8         5  ['web'; 'email'; 'mobile'; 'social']  \n",
       "9         7            ['web'; 'email'; 'mobile']  "
      ]
     },
     "execution_count": 3,
     "metadata": {},
     "output_type": "execute_result"
    }
   ],
   "source": [
    "offers"
   ]
  },
  {
   "cell_type": "code",
   "execution_count": 4,
   "id": "a83d6385",
   "metadata": {},
   "outputs": [
    {
     "name": "stdout",
     "output_type": "stream",
     "text": [
      "<class 'pandas.core.frame.DataFrame'>\n",
      "RangeIndex: 10 entries, 0 to 9\n",
      "Data columns (total 6 columns):\n",
      " #   Column      Non-Null Count  Dtype \n",
      "---  ------      --------------  ----- \n",
      " 0   offer_id    10 non-null     object\n",
      " 1   offer_type  10 non-null     object\n",
      " 2   difficulty  10 non-null     int64 \n",
      " 3   reward      10 non-null     int64 \n",
      " 4   duration    10 non-null     int64 \n",
      " 5   channels    10 non-null     object\n",
      "dtypes: int64(3), object(3)\n",
      "memory usage: 608.0+ bytes\n"
     ]
    }
   ],
   "source": [
    "offers.info()"
   ]
  },
  {
   "cell_type": "code",
   "execution_count": 5,
   "id": "abcdc25b",
   "metadata": {},
   "outputs": [
    {
     "data": {
      "text/html": [
       "<div>\n",
       "<style scoped>\n",
       "    .dataframe tbody tr th:only-of-type {\n",
       "        vertical-align: middle;\n",
       "    }\n",
       "\n",
       "    .dataframe tbody tr th {\n",
       "        vertical-align: top;\n",
       "    }\n",
       "\n",
       "    .dataframe thead th {\n",
       "        text-align: right;\n",
       "    }\n",
       "</style>\n",
       "<table border=\"1\" class=\"dataframe\">\n",
       "  <thead>\n",
       "    <tr style=\"text-align: right;\">\n",
       "      <th></th>\n",
       "      <th>customer_id</th>\n",
       "      <th>event</th>\n",
       "      <th>value</th>\n",
       "      <th>time</th>\n",
       "    </tr>\n",
       "  </thead>\n",
       "  <tbody>\n",
       "    <tr>\n",
       "      <th>0</th>\n",
       "      <td>78afa995795e4d85b5d9ceeca43f5fef</td>\n",
       "      <td>offer received</td>\n",
       "      <td>{'offer id': '9b98b8c7a33c4b65b9aebfe6a799e6d9'}</td>\n",
       "      <td>0</td>\n",
       "    </tr>\n",
       "    <tr>\n",
       "      <th>1</th>\n",
       "      <td>a03223e636434f42ac4c3df47e8bac43</td>\n",
       "      <td>offer received</td>\n",
       "      <td>{'offer id': '0b1e1539f2cc45b7b9fa7c272da2e1d7'}</td>\n",
       "      <td>0</td>\n",
       "    </tr>\n",
       "    <tr>\n",
       "      <th>2</th>\n",
       "      <td>e2127556f4f64592b11af22de27a7932</td>\n",
       "      <td>offer received</td>\n",
       "      <td>{'offer id': '2906b810c7d4411798c6938adc9daaa5'}</td>\n",
       "      <td>0</td>\n",
       "    </tr>\n",
       "    <tr>\n",
       "      <th>3</th>\n",
       "      <td>8ec6ce2a7e7949b1bf142def7d0e0586</td>\n",
       "      <td>offer received</td>\n",
       "      <td>{'offer id': 'fafdcd668e3743c1bb461111dcafc2a4'}</td>\n",
       "      <td>0</td>\n",
       "    </tr>\n",
       "    <tr>\n",
       "      <th>4</th>\n",
       "      <td>68617ca6246f4fbc85e91a2a49552598</td>\n",
       "      <td>offer received</td>\n",
       "      <td>{'offer id': '4d5c57ea9a6940dd891ad53e9dbe8da0'}</td>\n",
       "      <td>0</td>\n",
       "    </tr>\n",
       "    <tr>\n",
       "      <th>...</th>\n",
       "      <td>...</td>\n",
       "      <td>...</td>\n",
       "      <td>...</td>\n",
       "      <td>...</td>\n",
       "    </tr>\n",
       "    <tr>\n",
       "      <th>306529</th>\n",
       "      <td>b3a1272bc9904337b331bf348c3e8c17</td>\n",
       "      <td>transaction</td>\n",
       "      <td>{'amount': 1.5899999999999999}</td>\n",
       "      <td>714</td>\n",
       "    </tr>\n",
       "    <tr>\n",
       "      <th>306530</th>\n",
       "      <td>68213b08d99a4ae1b0dcb72aebd9aa35</td>\n",
       "      <td>transaction</td>\n",
       "      <td>{'amount': 9.53}</td>\n",
       "      <td>714</td>\n",
       "    </tr>\n",
       "    <tr>\n",
       "      <th>306531</th>\n",
       "      <td>a00058cf10334a308c68e7631c529907</td>\n",
       "      <td>transaction</td>\n",
       "      <td>{'amount': 3.61}</td>\n",
       "      <td>714</td>\n",
       "    </tr>\n",
       "    <tr>\n",
       "      <th>306532</th>\n",
       "      <td>76ddbd6576844afe811f1a3c0fbb5bec</td>\n",
       "      <td>transaction</td>\n",
       "      <td>{'amount': 3.5300000000000002}</td>\n",
       "      <td>714</td>\n",
       "    </tr>\n",
       "    <tr>\n",
       "      <th>306533</th>\n",
       "      <td>c02b10e8752c4d8e9b73f918558531f7</td>\n",
       "      <td>transaction</td>\n",
       "      <td>{'amount': 4.05}</td>\n",
       "      <td>714</td>\n",
       "    </tr>\n",
       "  </tbody>\n",
       "</table>\n",
       "<p>306534 rows × 4 columns</p>\n",
       "</div>"
      ],
      "text/plain": [
       "                             customer_id           event  \\\n",
       "0       78afa995795e4d85b5d9ceeca43f5fef  offer received   \n",
       "1       a03223e636434f42ac4c3df47e8bac43  offer received   \n",
       "2       e2127556f4f64592b11af22de27a7932  offer received   \n",
       "3       8ec6ce2a7e7949b1bf142def7d0e0586  offer received   \n",
       "4       68617ca6246f4fbc85e91a2a49552598  offer received   \n",
       "...                                  ...             ...   \n",
       "306529  b3a1272bc9904337b331bf348c3e8c17     transaction   \n",
       "306530  68213b08d99a4ae1b0dcb72aebd9aa35     transaction   \n",
       "306531  a00058cf10334a308c68e7631c529907     transaction   \n",
       "306532  76ddbd6576844afe811f1a3c0fbb5bec     transaction   \n",
       "306533  c02b10e8752c4d8e9b73f918558531f7     transaction   \n",
       "\n",
       "                                                   value  time  \n",
       "0       {'offer id': '9b98b8c7a33c4b65b9aebfe6a799e6d9'}     0  \n",
       "1       {'offer id': '0b1e1539f2cc45b7b9fa7c272da2e1d7'}     0  \n",
       "2       {'offer id': '2906b810c7d4411798c6938adc9daaa5'}     0  \n",
       "3       {'offer id': 'fafdcd668e3743c1bb461111dcafc2a4'}     0  \n",
       "4       {'offer id': '4d5c57ea9a6940dd891ad53e9dbe8da0'}     0  \n",
       "...                                                  ...   ...  \n",
       "306529                    {'amount': 1.5899999999999999}   714  \n",
       "306530                                  {'amount': 9.53}   714  \n",
       "306531                                  {'amount': 3.61}   714  \n",
       "306532                    {'amount': 3.5300000000000002}   714  \n",
       "306533                                  {'amount': 4.05}   714  \n",
       "\n",
       "[306534 rows x 4 columns]"
      ]
     },
     "execution_count": 5,
     "metadata": {},
     "output_type": "execute_result"
    }
   ],
   "source": [
    "events"
   ]
  },
  {
   "cell_type": "code",
   "execution_count": 6,
   "id": "aaa37ce7",
   "metadata": {},
   "outputs": [
    {
     "name": "stdout",
     "output_type": "stream",
     "text": [
      "<class 'pandas.core.frame.DataFrame'>\n",
      "RangeIndex: 306534 entries, 0 to 306533\n",
      "Data columns (total 4 columns):\n",
      " #   Column       Non-Null Count   Dtype \n",
      "---  ------       --------------   ----- \n",
      " 0   customer_id  306534 non-null  object\n",
      " 1   event        306534 non-null  object\n",
      " 2   value        306534 non-null  object\n",
      " 3   time         306534 non-null  int64 \n",
      "dtypes: int64(1), object(3)\n",
      "memory usage: 9.4+ MB\n"
     ]
    }
   ],
   "source": [
    "events.info()"
   ]
  },
  {
   "cell_type": "code",
   "execution_count": 7,
   "id": "ae900f3a",
   "metadata": {},
   "outputs": [
    {
     "data": {
      "text/html": [
       "<div>\n",
       "<style scoped>\n",
       "    .dataframe tbody tr th:only-of-type {\n",
       "        vertical-align: middle;\n",
       "    }\n",
       "\n",
       "    .dataframe tbody tr th {\n",
       "        vertical-align: top;\n",
       "    }\n",
       "\n",
       "    .dataframe thead th {\n",
       "        text-align: right;\n",
       "    }\n",
       "</style>\n",
       "<table border=\"1\" class=\"dataframe\">\n",
       "  <thead>\n",
       "    <tr style=\"text-align: right;\">\n",
       "      <th></th>\n",
       "      <th>customer_id</th>\n",
       "      <th>became_member_on</th>\n",
       "      <th>gender</th>\n",
       "      <th>age</th>\n",
       "      <th>income</th>\n",
       "    </tr>\n",
       "  </thead>\n",
       "  <tbody>\n",
       "    <tr>\n",
       "      <th>0</th>\n",
       "      <td>68be06ca386d4c31939f3a4f0e3dd783</td>\n",
       "      <td>20170212</td>\n",
       "      <td>NaN</td>\n",
       "      <td>118</td>\n",
       "      <td>NaN</td>\n",
       "    </tr>\n",
       "    <tr>\n",
       "      <th>1</th>\n",
       "      <td>0610b486422d4921ae7d2bf64640c50b</td>\n",
       "      <td>20170715</td>\n",
       "      <td>F</td>\n",
       "      <td>55</td>\n",
       "      <td>112000.0</td>\n",
       "    </tr>\n",
       "    <tr>\n",
       "      <th>2</th>\n",
       "      <td>38fe809add3b4fcf9315a9694bb96ff5</td>\n",
       "      <td>20180712</td>\n",
       "      <td>NaN</td>\n",
       "      <td>118</td>\n",
       "      <td>NaN</td>\n",
       "    </tr>\n",
       "    <tr>\n",
       "      <th>3</th>\n",
       "      <td>78afa995795e4d85b5d9ceeca43f5fef</td>\n",
       "      <td>20170509</td>\n",
       "      <td>F</td>\n",
       "      <td>75</td>\n",
       "      <td>100000.0</td>\n",
       "    </tr>\n",
       "    <tr>\n",
       "      <th>4</th>\n",
       "      <td>a03223e636434f42ac4c3df47e8bac43</td>\n",
       "      <td>20170804</td>\n",
       "      <td>NaN</td>\n",
       "      <td>118</td>\n",
       "      <td>NaN</td>\n",
       "    </tr>\n",
       "    <tr>\n",
       "      <th>...</th>\n",
       "      <td>...</td>\n",
       "      <td>...</td>\n",
       "      <td>...</td>\n",
       "      <td>...</td>\n",
       "      <td>...</td>\n",
       "    </tr>\n",
       "    <tr>\n",
       "      <th>16995</th>\n",
       "      <td>6d5f3a774f3d4714ab0c092238f3a1d7</td>\n",
       "      <td>20180604</td>\n",
       "      <td>F</td>\n",
       "      <td>45</td>\n",
       "      <td>54000.0</td>\n",
       "    </tr>\n",
       "    <tr>\n",
       "      <th>16996</th>\n",
       "      <td>2cb4f97358b841b9a9773a7aa05a9d77</td>\n",
       "      <td>20180713</td>\n",
       "      <td>M</td>\n",
       "      <td>61</td>\n",
       "      <td>72000.0</td>\n",
       "    </tr>\n",
       "    <tr>\n",
       "      <th>16997</th>\n",
       "      <td>01d26f638c274aa0b965d24cefe3183f</td>\n",
       "      <td>20170126</td>\n",
       "      <td>M</td>\n",
       "      <td>49</td>\n",
       "      <td>73000.0</td>\n",
       "    </tr>\n",
       "    <tr>\n",
       "      <th>16998</th>\n",
       "      <td>9dc1421481194dcd9400aec7c9ae6366</td>\n",
       "      <td>20160307</td>\n",
       "      <td>F</td>\n",
       "      <td>83</td>\n",
       "      <td>50000.0</td>\n",
       "    </tr>\n",
       "    <tr>\n",
       "      <th>16999</th>\n",
       "      <td>e4052622e5ba45a8b96b59aba68cf068</td>\n",
       "      <td>20170722</td>\n",
       "      <td>F</td>\n",
       "      <td>62</td>\n",
       "      <td>82000.0</td>\n",
       "    </tr>\n",
       "  </tbody>\n",
       "</table>\n",
       "<p>17000 rows × 5 columns</p>\n",
       "</div>"
      ],
      "text/plain": [
       "                            customer_id  became_member_on gender  age  \\\n",
       "0      68be06ca386d4c31939f3a4f0e3dd783          20170212    NaN  118   \n",
       "1      0610b486422d4921ae7d2bf64640c50b          20170715      F   55   \n",
       "2      38fe809add3b4fcf9315a9694bb96ff5          20180712    NaN  118   \n",
       "3      78afa995795e4d85b5d9ceeca43f5fef          20170509      F   75   \n",
       "4      a03223e636434f42ac4c3df47e8bac43          20170804    NaN  118   \n",
       "...                                 ...               ...    ...  ...   \n",
       "16995  6d5f3a774f3d4714ab0c092238f3a1d7          20180604      F   45   \n",
       "16996  2cb4f97358b841b9a9773a7aa05a9d77          20180713      M   61   \n",
       "16997  01d26f638c274aa0b965d24cefe3183f          20170126      M   49   \n",
       "16998  9dc1421481194dcd9400aec7c9ae6366          20160307      F   83   \n",
       "16999  e4052622e5ba45a8b96b59aba68cf068          20170722      F   62   \n",
       "\n",
       "         income  \n",
       "0           NaN  \n",
       "1      112000.0  \n",
       "2           NaN  \n",
       "3      100000.0  \n",
       "4           NaN  \n",
       "...         ...  \n",
       "16995   54000.0  \n",
       "16996   72000.0  \n",
       "16997   73000.0  \n",
       "16998   50000.0  \n",
       "16999   82000.0  \n",
       "\n",
       "[17000 rows x 5 columns]"
      ]
     },
     "execution_count": 7,
     "metadata": {},
     "output_type": "execute_result"
    }
   ],
   "source": [
    "customers"
   ]
  },
  {
   "cell_type": "code",
   "execution_count": 8,
   "id": "e2f1ac2b",
   "metadata": {},
   "outputs": [
    {
     "name": "stdout",
     "output_type": "stream",
     "text": [
      "<class 'pandas.core.frame.DataFrame'>\n",
      "RangeIndex: 17000 entries, 0 to 16999\n",
      "Data columns (total 5 columns):\n",
      " #   Column            Non-Null Count  Dtype  \n",
      "---  ------            --------------  -----  \n",
      " 0   customer_id       17000 non-null  object \n",
      " 1   became_member_on  17000 non-null  int64  \n",
      " 2   gender            14825 non-null  object \n",
      " 3   age               17000 non-null  int64  \n",
      " 4   income            14825 non-null  float64\n",
      "dtypes: float64(1), int64(2), object(2)\n",
      "memory usage: 664.2+ KB\n"
     ]
    }
   ],
   "source": [
    "customers.info()"
   ]
  },
  {
   "cell_type": "markdown",
   "id": "5dfa737f",
   "metadata": {},
   "source": [
    "## Предобработка данных"
   ]
  },
  {
   "cell_type": "markdown",
   "id": "7ad57d8b",
   "metadata": {},
   "source": [
    "В одних и тех же строках наблюдаются пропуски в столбцах gender и income, а в столбце age указано значение 118. Это указывает на возможный сбой при загрузке данных этих клиентов."
   ]
  },
  {
   "cell_type": "markdown",
   "id": "20a195d3",
   "metadata": {},
   "source": [
    "### Обработка пропусков"
   ]
  },
  {
   "cell_type": "code",
   "execution_count": 9,
   "id": "d0e9389f",
   "metadata": {},
   "outputs": [
    {
     "data": {
      "text/plain": [
       "array([nan, 'F', 'M', 'O'], dtype=object)"
      ]
     },
     "execution_count": 9,
     "metadata": {},
     "output_type": "execute_result"
    }
   ],
   "source": [
    "customers['gender'].unique()"
   ]
  },
  {
   "cell_type": "code",
   "execution_count": 10,
   "id": "72e19ca4",
   "metadata": {},
   "outputs": [
    {
     "name": "stdout",
     "output_type": "stream",
     "text": [
      "доля пропусков 12.79 %\n"
     ]
    }
   ],
   "source": [
    "print('доля пропусков', \n",
    "      round(customers[customers['gender'].isna()]['customer_id'].count() * 100 / \n",
    "            customers['customer_id'].count(), 2), '%')"
   ]
  },
  {
   "cell_type": "markdown",
   "id": "9d05546e",
   "metadata": {},
   "source": [
    "Удалить строки, где есть пропуски в столбце  мы не можем, поэтому пропуски заполним заглушками: в столбце gender поставим букву U (Uknown), а в income 1111. Столбец age оставим как есть."
   ]
  },
  {
   "cell_type": "code",
   "execution_count": 11,
   "id": "9dad0b42",
   "metadata": {},
   "outputs": [],
   "source": [
    "customers['gender'] = customers['gender'].fillna('U')"
   ]
  },
  {
   "cell_type": "code",
   "execution_count": 12,
   "id": "5e674a92",
   "metadata": {
    "scrolled": false
   },
   "outputs": [],
   "source": [
    "customers['income'] = customers['income'].fillna(1111)"
   ]
  },
  {
   "cell_type": "code",
   "execution_count": 13,
   "id": "6fa94ed7",
   "metadata": {
    "scrolled": true
   },
   "outputs": [
    {
     "data": {
      "text/html": [
       "<div>\n",
       "<style scoped>\n",
       "    .dataframe tbody tr th:only-of-type {\n",
       "        vertical-align: middle;\n",
       "    }\n",
       "\n",
       "    .dataframe tbody tr th {\n",
       "        vertical-align: top;\n",
       "    }\n",
       "\n",
       "    .dataframe thead th {\n",
       "        text-align: right;\n",
       "    }\n",
       "</style>\n",
       "<table border=\"1\" class=\"dataframe\">\n",
       "  <thead>\n",
       "    <tr style=\"text-align: right;\">\n",
       "      <th></th>\n",
       "      <th>customer_id</th>\n",
       "      <th>became_member_on</th>\n",
       "      <th>gender</th>\n",
       "      <th>age</th>\n",
       "      <th>income</th>\n",
       "    </tr>\n",
       "  </thead>\n",
       "  <tbody>\n",
       "    <tr>\n",
       "      <th>0</th>\n",
       "      <td>68be06ca386d4c31939f3a4f0e3dd783</td>\n",
       "      <td>20170212</td>\n",
       "      <td>U</td>\n",
       "      <td>118</td>\n",
       "      <td>1111.0</td>\n",
       "    </tr>\n",
       "    <tr>\n",
       "      <th>2</th>\n",
       "      <td>38fe809add3b4fcf9315a9694bb96ff5</td>\n",
       "      <td>20180712</td>\n",
       "      <td>U</td>\n",
       "      <td>118</td>\n",
       "      <td>1111.0</td>\n",
       "    </tr>\n",
       "    <tr>\n",
       "      <th>4</th>\n",
       "      <td>a03223e636434f42ac4c3df47e8bac43</td>\n",
       "      <td>20170804</td>\n",
       "      <td>U</td>\n",
       "      <td>118</td>\n",
       "      <td>1111.0</td>\n",
       "    </tr>\n",
       "    <tr>\n",
       "      <th>6</th>\n",
       "      <td>8ec6ce2a7e7949b1bf142def7d0e0586</td>\n",
       "      <td>20170925</td>\n",
       "      <td>U</td>\n",
       "      <td>118</td>\n",
       "      <td>1111.0</td>\n",
       "    </tr>\n",
       "    <tr>\n",
       "      <th>7</th>\n",
       "      <td>68617ca6246f4fbc85e91a2a49552598</td>\n",
       "      <td>20171002</td>\n",
       "      <td>U</td>\n",
       "      <td>118</td>\n",
       "      <td>1111.0</td>\n",
       "    </tr>\n",
       "    <tr>\n",
       "      <th>...</th>\n",
       "      <td>...</td>\n",
       "      <td>...</td>\n",
       "      <td>...</td>\n",
       "      <td>...</td>\n",
       "      <td>...</td>\n",
       "    </tr>\n",
       "    <tr>\n",
       "      <th>16980</th>\n",
       "      <td>5c686d09ca4d475a8f750f2ba07e0440</td>\n",
       "      <td>20160901</td>\n",
       "      <td>U</td>\n",
       "      <td>118</td>\n",
       "      <td>1111.0</td>\n",
       "    </tr>\n",
       "    <tr>\n",
       "      <th>16982</th>\n",
       "      <td>d9ca82f550ac4ee58b6299cf1e5c824a</td>\n",
       "      <td>20160415</td>\n",
       "      <td>U</td>\n",
       "      <td>118</td>\n",
       "      <td>1111.0</td>\n",
       "    </tr>\n",
       "    <tr>\n",
       "      <th>16989</th>\n",
       "      <td>ca45ee1883624304bac1e4c8a114f045</td>\n",
       "      <td>20180305</td>\n",
       "      <td>U</td>\n",
       "      <td>118</td>\n",
       "      <td>1111.0</td>\n",
       "    </tr>\n",
       "    <tr>\n",
       "      <th>16991</th>\n",
       "      <td>a9a20fa8b5504360beb4e7c8712f8306</td>\n",
       "      <td>20160116</td>\n",
       "      <td>U</td>\n",
       "      <td>118</td>\n",
       "      <td>1111.0</td>\n",
       "    </tr>\n",
       "    <tr>\n",
       "      <th>16994</th>\n",
       "      <td>c02b10e8752c4d8e9b73f918558531f7</td>\n",
       "      <td>20151211</td>\n",
       "      <td>U</td>\n",
       "      <td>118</td>\n",
       "      <td>1111.0</td>\n",
       "    </tr>\n",
       "  </tbody>\n",
       "</table>\n",
       "<p>2175 rows × 5 columns</p>\n",
       "</div>"
      ],
      "text/plain": [
       "                            customer_id  became_member_on gender  age  income\n",
       "0      68be06ca386d4c31939f3a4f0e3dd783          20170212      U  118  1111.0\n",
       "2      38fe809add3b4fcf9315a9694bb96ff5          20180712      U  118  1111.0\n",
       "4      a03223e636434f42ac4c3df47e8bac43          20170804      U  118  1111.0\n",
       "6      8ec6ce2a7e7949b1bf142def7d0e0586          20170925      U  118  1111.0\n",
       "7      68617ca6246f4fbc85e91a2a49552598          20171002      U  118  1111.0\n",
       "...                                 ...               ...    ...  ...     ...\n",
       "16980  5c686d09ca4d475a8f750f2ba07e0440          20160901      U  118  1111.0\n",
       "16982  d9ca82f550ac4ee58b6299cf1e5c824a          20160415      U  118  1111.0\n",
       "16989  ca45ee1883624304bac1e4c8a114f045          20180305      U  118  1111.0\n",
       "16991  a9a20fa8b5504360beb4e7c8712f8306          20160116      U  118  1111.0\n",
       "16994  c02b10e8752c4d8e9b73f918558531f7          20151211      U  118  1111.0\n",
       "\n",
       "[2175 rows x 5 columns]"
      ]
     },
     "execution_count": 13,
     "metadata": {},
     "output_type": "execute_result"
    }
   ],
   "source": [
    "customers[customers['income'] == 1111]"
   ]
  },
  {
   "cell_type": "markdown",
   "id": "35cc5d4e",
   "metadata": {},
   "source": [
    "### Поиск дубликатов"
   ]
  },
  {
   "cell_type": "code",
   "execution_count": 25,
   "id": "9efcac75",
   "metadata": {},
   "outputs": [
    {
     "name": "stdout",
     "output_type": "stream",
     "text": [
      "Количество полных дубликатов в файле offers: 0\n"
     ]
    }
   ],
   "source": [
    "print(f'Количество полных дубликатов в файле offers: {offers.duplicated().sum()}')"
   ]
  },
  {
   "cell_type": "code",
   "execution_count": 26,
   "id": "3262dece",
   "metadata": {},
   "outputs": [
    {
     "name": "stdout",
     "output_type": "stream",
     "text": [
      "Количество полных дубликатов в файле customers: 0\n"
     ]
    }
   ],
   "source": [
    "print(f'Количество полных дубликатов в файле customers: {customers.duplicated().sum()}')"
   ]
  },
  {
   "cell_type": "code",
   "execution_count": 27,
   "id": "2127beec",
   "metadata": {
    "scrolled": false
   },
   "outputs": [
    {
     "name": "stdout",
     "output_type": "stream",
     "text": [
      "Количество полных дубликатов в файле events: 397\n"
     ]
    }
   ],
   "source": [
    "print(f'Количество полных дубликатов в файле events: {events.duplicated().sum()}')"
   ]
  },
  {
   "cell_type": "code",
   "execution_count": 28,
   "id": "0c1d8cf7",
   "metadata": {},
   "outputs": [
    {
     "data": {
      "text/html": [
       "<div>\n",
       "<style scoped>\n",
       "    .dataframe tbody tr th:only-of-type {\n",
       "        vertical-align: middle;\n",
       "    }\n",
       "\n",
       "    .dataframe tbody tr th {\n",
       "        vertical-align: top;\n",
       "    }\n",
       "\n",
       "    .dataframe thead th {\n",
       "        text-align: right;\n",
       "    }\n",
       "</style>\n",
       "<table border=\"1\" class=\"dataframe\">\n",
       "  <thead>\n",
       "    <tr style=\"text-align: right;\">\n",
       "      <th></th>\n",
       "      <th>0</th>\n",
       "    </tr>\n",
       "  </thead>\n",
       "  <tbody>\n",
       "    <tr>\n",
       "      <th>66122</th>\n",
       "      <td>True</td>\n",
       "    </tr>\n",
       "    <tr>\n",
       "      <th>66123</th>\n",
       "      <td>True</td>\n",
       "    </tr>\n",
       "    <tr>\n",
       "      <th>66782</th>\n",
       "      <td>True</td>\n",
       "    </tr>\n",
       "    <tr>\n",
       "      <th>66783</th>\n",
       "      <td>True</td>\n",
       "    </tr>\n",
       "    <tr>\n",
       "      <th>67613</th>\n",
       "      <td>True</td>\n",
       "    </tr>\n",
       "    <tr>\n",
       "      <th>67614</th>\n",
       "      <td>True</td>\n",
       "    </tr>\n",
       "    <tr>\n",
       "      <th>68561</th>\n",
       "      <td>True</td>\n",
       "    </tr>\n",
       "    <tr>\n",
       "      <th>68562</th>\n",
       "      <td>True</td>\n",
       "    </tr>\n",
       "    <tr>\n",
       "      <th>69217</th>\n",
       "      <td>True</td>\n",
       "    </tr>\n",
       "    <tr>\n",
       "      <th>69218</th>\n",
       "      <td>True</td>\n",
       "    </tr>\n",
       "  </tbody>\n",
       "</table>\n",
       "</div>"
      ],
      "text/plain": [
       "          0\n",
       "66122  True\n",
       "66123  True\n",
       "66782  True\n",
       "66783  True\n",
       "67613  True\n",
       "67614  True\n",
       "68561  True\n",
       "68562  True\n",
       "69217  True\n",
       "69218  True"
      ]
     },
     "execution_count": 28,
     "metadata": {},
     "output_type": "execute_result"
    }
   ],
   "source": [
    "duplicates = events.duplicated(subset=['customer_id', 'event', 'value', 'time'], keep=False)\n",
    "duplicates = pd.DataFrame(duplicates)\n",
    "\n",
    "duplicates[duplicates[0] == True].head(10)"
   ]
  },
  {
   "cell_type": "code",
   "execution_count": 29,
   "id": "60e3044f",
   "metadata": {
    "scrolled": false
   },
   "outputs": [
    {
     "data": {
      "text/html": [
       "<div>\n",
       "<style scoped>\n",
       "    .dataframe tbody tr th:only-of-type {\n",
       "        vertical-align: middle;\n",
       "    }\n",
       "\n",
       "    .dataframe tbody tr th {\n",
       "        vertical-align: top;\n",
       "    }\n",
       "\n",
       "    .dataframe thead th {\n",
       "        text-align: right;\n",
       "    }\n",
       "</style>\n",
       "<table border=\"1\" class=\"dataframe\">\n",
       "  <thead>\n",
       "    <tr style=\"text-align: right;\">\n",
       "      <th></th>\n",
       "      <th>customer_id</th>\n",
       "      <th>event</th>\n",
       "      <th>value</th>\n",
       "      <th>time</th>\n",
       "      <th>new_value</th>\n",
       "      <th>reward</th>\n",
       "      <th>cleaned_reward</th>\n",
       "      <th>offer_id</th>\n",
       "      <th>amount</th>\n",
       "      <th>days</th>\n",
       "    </tr>\n",
       "  </thead>\n",
       "  <tbody>\n",
       "    <tr>\n",
       "      <th>66122</th>\n",
       "      <td>3dde94fa581145cb9f206624f1a94d5a</td>\n",
       "      <td>offer completed</td>\n",
       "      <td>{'offer_id': '2906b810c7d4411798c6938adc9daaa5...</td>\n",
       "      <td>168</td>\n",
       "      <td>{'offer_id': '2906b810c7d4411798c6938adc9daaa5'</td>\n",
       "      <td>'reward': 2}</td>\n",
       "      <td>2.0</td>\n",
       "      <td>2906b810c7d4411798c6938adc9daaa5</td>\n",
       "      <td>NaN</td>\n",
       "      <td>7</td>\n",
       "    </tr>\n",
       "    <tr>\n",
       "      <th>66123</th>\n",
       "      <td>3dde94fa581145cb9f206624f1a94d5a</td>\n",
       "      <td>offer completed</td>\n",
       "      <td>{'offer_id': '2906b810c7d4411798c6938adc9daaa5...</td>\n",
       "      <td>168</td>\n",
       "      <td>{'offer_id': '2906b810c7d4411798c6938adc9daaa5'</td>\n",
       "      <td>'reward': 2}</td>\n",
       "      <td>2.0</td>\n",
       "      <td>2906b810c7d4411798c6938adc9daaa5</td>\n",
       "      <td>NaN</td>\n",
       "      <td>7</td>\n",
       "    </tr>\n",
       "    <tr>\n",
       "      <th>66782</th>\n",
       "      <td>e9fb6ed2cecb4980ba98c86abc9c91e3</td>\n",
       "      <td>offer completed</td>\n",
       "      <td>{'offer_id': 'ae264e3637204a6fb9bb56bc8210ddfd...</td>\n",
       "      <td>168</td>\n",
       "      <td>{'offer_id': 'ae264e3637204a6fb9bb56bc8210ddfd'</td>\n",
       "      <td>'reward': 10}</td>\n",
       "      <td>10.0</td>\n",
       "      <td>ae264e3637204a6fb9bb56bc8210ddfd</td>\n",
       "      <td>NaN</td>\n",
       "      <td>7</td>\n",
       "    </tr>\n",
       "    <tr>\n",
       "      <th>66783</th>\n",
       "      <td>e9fb6ed2cecb4980ba98c86abc9c91e3</td>\n",
       "      <td>offer completed</td>\n",
       "      <td>{'offer_id': 'ae264e3637204a6fb9bb56bc8210ddfd...</td>\n",
       "      <td>168</td>\n",
       "      <td>{'offer_id': 'ae264e3637204a6fb9bb56bc8210ddfd'</td>\n",
       "      <td>'reward': 10}</td>\n",
       "      <td>10.0</td>\n",
       "      <td>ae264e3637204a6fb9bb56bc8210ddfd</td>\n",
       "      <td>NaN</td>\n",
       "      <td>7</td>\n",
       "    </tr>\n",
       "    <tr>\n",
       "      <th>67613</th>\n",
       "      <td>a7dc060f6fc94ca7bf71fbb188187dca</td>\n",
       "      <td>offer completed</td>\n",
       "      <td>{'offer_id': '9b98b8c7a33c4b65b9aebfe6a799e6d9...</td>\n",
       "      <td>168</td>\n",
       "      <td>{'offer_id': '9b98b8c7a33c4b65b9aebfe6a799e6d9'</td>\n",
       "      <td>'reward': 5}</td>\n",
       "      <td>5.0</td>\n",
       "      <td>9b98b8c7a33c4b65b9aebfe6a799e6d9</td>\n",
       "      <td>NaN</td>\n",
       "      <td>7</td>\n",
       "    </tr>\n",
       "    <tr>\n",
       "      <th>67614</th>\n",
       "      <td>a7dc060f6fc94ca7bf71fbb188187dca</td>\n",
       "      <td>offer completed</td>\n",
       "      <td>{'offer_id': '9b98b8c7a33c4b65b9aebfe6a799e6d9...</td>\n",
       "      <td>168</td>\n",
       "      <td>{'offer_id': '9b98b8c7a33c4b65b9aebfe6a799e6d9'</td>\n",
       "      <td>'reward': 5}</td>\n",
       "      <td>5.0</td>\n",
       "      <td>9b98b8c7a33c4b65b9aebfe6a799e6d9</td>\n",
       "      <td>NaN</td>\n",
       "      <td>7</td>\n",
       "    </tr>\n",
       "    <tr>\n",
       "      <th>68561</th>\n",
       "      <td>30478a4c1e884a63a822aa87b833ed7a</td>\n",
       "      <td>offer completed</td>\n",
       "      <td>{'offer_id': '2298d6c36e964ae4a3e7e9706d1fb8c2...</td>\n",
       "      <td>168</td>\n",
       "      <td>{'offer_id': '2298d6c36e964ae4a3e7e9706d1fb8c2'</td>\n",
       "      <td>'reward': 3}</td>\n",
       "      <td>3.0</td>\n",
       "      <td>2298d6c36e964ae4a3e7e9706d1fb8c2</td>\n",
       "      <td>NaN</td>\n",
       "      <td>7</td>\n",
       "    </tr>\n",
       "    <tr>\n",
       "      <th>68562</th>\n",
       "      <td>30478a4c1e884a63a822aa87b833ed7a</td>\n",
       "      <td>offer completed</td>\n",
       "      <td>{'offer_id': '2298d6c36e964ae4a3e7e9706d1fb8c2...</td>\n",
       "      <td>168</td>\n",
       "      <td>{'offer_id': '2298d6c36e964ae4a3e7e9706d1fb8c2'</td>\n",
       "      <td>'reward': 3}</td>\n",
       "      <td>3.0</td>\n",
       "      <td>2298d6c36e964ae4a3e7e9706d1fb8c2</td>\n",
       "      <td>NaN</td>\n",
       "      <td>7</td>\n",
       "    </tr>\n",
       "    <tr>\n",
       "      <th>69217</th>\n",
       "      <td>84fb57a7fe8045a8bf6236738ee73a0f</td>\n",
       "      <td>offer completed</td>\n",
       "      <td>{'offer_id': 'ae264e3637204a6fb9bb56bc8210ddfd...</td>\n",
       "      <td>168</td>\n",
       "      <td>{'offer_id': 'ae264e3637204a6fb9bb56bc8210ddfd'</td>\n",
       "      <td>'reward': 10}</td>\n",
       "      <td>10.0</td>\n",
       "      <td>ae264e3637204a6fb9bb56bc8210ddfd</td>\n",
       "      <td>NaN</td>\n",
       "      <td>7</td>\n",
       "    </tr>\n",
       "    <tr>\n",
       "      <th>69218</th>\n",
       "      <td>84fb57a7fe8045a8bf6236738ee73a0f</td>\n",
       "      <td>offer completed</td>\n",
       "      <td>{'offer_id': 'ae264e3637204a6fb9bb56bc8210ddfd...</td>\n",
       "      <td>168</td>\n",
       "      <td>{'offer_id': 'ae264e3637204a6fb9bb56bc8210ddfd'</td>\n",
       "      <td>'reward': 10}</td>\n",
       "      <td>10.0</td>\n",
       "      <td>ae264e3637204a6fb9bb56bc8210ddfd</td>\n",
       "      <td>NaN</td>\n",
       "      <td>7</td>\n",
       "    </tr>\n",
       "  </tbody>\n",
       "</table>\n",
       "</div>"
      ],
      "text/plain": [
       "                            customer_id            event  \\\n",
       "66122  3dde94fa581145cb9f206624f1a94d5a  offer completed   \n",
       "66123  3dde94fa581145cb9f206624f1a94d5a  offer completed   \n",
       "66782  e9fb6ed2cecb4980ba98c86abc9c91e3  offer completed   \n",
       "66783  e9fb6ed2cecb4980ba98c86abc9c91e3  offer completed   \n",
       "67613  a7dc060f6fc94ca7bf71fbb188187dca  offer completed   \n",
       "67614  a7dc060f6fc94ca7bf71fbb188187dca  offer completed   \n",
       "68561  30478a4c1e884a63a822aa87b833ed7a  offer completed   \n",
       "68562  30478a4c1e884a63a822aa87b833ed7a  offer completed   \n",
       "69217  84fb57a7fe8045a8bf6236738ee73a0f  offer completed   \n",
       "69218  84fb57a7fe8045a8bf6236738ee73a0f  offer completed   \n",
       "\n",
       "                                                   value  time  \\\n",
       "66122  {'offer_id': '2906b810c7d4411798c6938adc9daaa5...   168   \n",
       "66123  {'offer_id': '2906b810c7d4411798c6938adc9daaa5...   168   \n",
       "66782  {'offer_id': 'ae264e3637204a6fb9bb56bc8210ddfd...   168   \n",
       "66783  {'offer_id': 'ae264e3637204a6fb9bb56bc8210ddfd...   168   \n",
       "67613  {'offer_id': '9b98b8c7a33c4b65b9aebfe6a799e6d9...   168   \n",
       "67614  {'offer_id': '9b98b8c7a33c4b65b9aebfe6a799e6d9...   168   \n",
       "68561  {'offer_id': '2298d6c36e964ae4a3e7e9706d1fb8c2...   168   \n",
       "68562  {'offer_id': '2298d6c36e964ae4a3e7e9706d1fb8c2...   168   \n",
       "69217  {'offer_id': 'ae264e3637204a6fb9bb56bc8210ddfd...   168   \n",
       "69218  {'offer_id': 'ae264e3637204a6fb9bb56bc8210ddfd...   168   \n",
       "\n",
       "                                             new_value          reward  \\\n",
       "66122  {'offer_id': '2906b810c7d4411798c6938adc9daaa5'    'reward': 2}   \n",
       "66123  {'offer_id': '2906b810c7d4411798c6938adc9daaa5'    'reward': 2}   \n",
       "66782  {'offer_id': 'ae264e3637204a6fb9bb56bc8210ddfd'   'reward': 10}   \n",
       "66783  {'offer_id': 'ae264e3637204a6fb9bb56bc8210ddfd'   'reward': 10}   \n",
       "67613  {'offer_id': '9b98b8c7a33c4b65b9aebfe6a799e6d9'    'reward': 5}   \n",
       "67614  {'offer_id': '9b98b8c7a33c4b65b9aebfe6a799e6d9'    'reward': 5}   \n",
       "68561  {'offer_id': '2298d6c36e964ae4a3e7e9706d1fb8c2'    'reward': 3}   \n",
       "68562  {'offer_id': '2298d6c36e964ae4a3e7e9706d1fb8c2'    'reward': 3}   \n",
       "69217  {'offer_id': 'ae264e3637204a6fb9bb56bc8210ddfd'   'reward': 10}   \n",
       "69218  {'offer_id': 'ae264e3637204a6fb9bb56bc8210ddfd'   'reward': 10}   \n",
       "\n",
       "       cleaned_reward                          offer_id  amount  days  \n",
       "66122             2.0  2906b810c7d4411798c6938adc9daaa5     NaN     7  \n",
       "66123             2.0  2906b810c7d4411798c6938adc9daaa5     NaN     7  \n",
       "66782            10.0  ae264e3637204a6fb9bb56bc8210ddfd     NaN     7  \n",
       "66783            10.0  ae264e3637204a6fb9bb56bc8210ddfd     NaN     7  \n",
       "67613             5.0  9b98b8c7a33c4b65b9aebfe6a799e6d9     NaN     7  \n",
       "67614             5.0  9b98b8c7a33c4b65b9aebfe6a799e6d9     NaN     7  \n",
       "68561             3.0  2298d6c36e964ae4a3e7e9706d1fb8c2     NaN     7  \n",
       "68562             3.0  2298d6c36e964ae4a3e7e9706d1fb8c2     NaN     7  \n",
       "69217            10.0  ae264e3637204a6fb9bb56bc8210ddfd     NaN     7  \n",
       "69218            10.0  ae264e3637204a6fb9bb56bc8210ddfd     NaN     7  "
      ]
     },
     "metadata": {},
     "output_type": "display_data"
    }
   ],
   "source": [
    "display(events[events.index.isin([66122, 66123, 66782, 66783, 67613, 67614, 68561, 68562, 69217, 69218])])"
   ]
  },
  {
   "cell_type": "code",
   "execution_count": 30,
   "id": "e30d2bbd",
   "metadata": {},
   "outputs": [
    {
     "name": "stdout",
     "output_type": "stream",
     "text": [
      "Количество действий в датасете:  306534\n",
      "Доля дубликатов:  0.26 %\n"
     ]
    }
   ],
   "source": [
    "print('Количество действий в датасете: ', len(events))\n",
    "print('Доля дубликатов: ', round(len(duplicates[duplicates[0] == True])*100/len(events), 2), '%')"
   ]
  },
  {
   "cell_type": "markdown",
   "id": "837aeea2",
   "metadata": {},
   "source": [
    "Дубликаты абсолютно одинаковые и их доля в датасете не превышает 0,3%. Удалю их:"
   ]
  },
  {
   "cell_type": "code",
   "execution_count": 31,
   "id": "3cafa386",
   "metadata": {},
   "outputs": [],
   "source": [
    "events = events.drop_duplicates(subset=['customer_id', 'event', 'value', 'time'], keep='first')"
   ]
  },
  {
   "cell_type": "markdown",
   "id": "330d4291",
   "metadata": {},
   "source": [
    "### Изменение типов данных"
   ]
  },
  {
   "cell_type": "code",
   "execution_count": 32,
   "id": "c4ef2e21",
   "metadata": {},
   "outputs": [],
   "source": [
    "customers['became_member_on'] = pd.to_datetime(customers['became_member_on'], format='%Y%m%d')"
   ]
  },
  {
   "cell_type": "code",
   "execution_count": 33,
   "id": "b586eebb",
   "metadata": {},
   "outputs": [
    {
     "data": {
      "text/html": [
       "<div>\n",
       "<style scoped>\n",
       "    .dataframe tbody tr th:only-of-type {\n",
       "        vertical-align: middle;\n",
       "    }\n",
       "\n",
       "    .dataframe tbody tr th {\n",
       "        vertical-align: top;\n",
       "    }\n",
       "\n",
       "    .dataframe thead th {\n",
       "        text-align: right;\n",
       "    }\n",
       "</style>\n",
       "<table border=\"1\" class=\"dataframe\">\n",
       "  <thead>\n",
       "    <tr style=\"text-align: right;\">\n",
       "      <th></th>\n",
       "      <th>customer_id</th>\n",
       "      <th>became_member_on</th>\n",
       "      <th>gender</th>\n",
       "      <th>age</th>\n",
       "      <th>income</th>\n",
       "    </tr>\n",
       "  </thead>\n",
       "  <tbody>\n",
       "    <tr>\n",
       "      <th>0</th>\n",
       "      <td>68be06ca386d4c31939f3a4f0e3dd783</td>\n",
       "      <td>2017-02-12</td>\n",
       "      <td>U</td>\n",
       "      <td>118</td>\n",
       "      <td>1111.0</td>\n",
       "    </tr>\n",
       "    <tr>\n",
       "      <th>1</th>\n",
       "      <td>0610b486422d4921ae7d2bf64640c50b</td>\n",
       "      <td>2017-07-15</td>\n",
       "      <td>F</td>\n",
       "      <td>55</td>\n",
       "      <td>112000.0</td>\n",
       "    </tr>\n",
       "    <tr>\n",
       "      <th>2</th>\n",
       "      <td>38fe809add3b4fcf9315a9694bb96ff5</td>\n",
       "      <td>2018-07-12</td>\n",
       "      <td>U</td>\n",
       "      <td>118</td>\n",
       "      <td>1111.0</td>\n",
       "    </tr>\n",
       "    <tr>\n",
       "      <th>3</th>\n",
       "      <td>78afa995795e4d85b5d9ceeca43f5fef</td>\n",
       "      <td>2017-05-09</td>\n",
       "      <td>F</td>\n",
       "      <td>75</td>\n",
       "      <td>100000.0</td>\n",
       "    </tr>\n",
       "    <tr>\n",
       "      <th>4</th>\n",
       "      <td>a03223e636434f42ac4c3df47e8bac43</td>\n",
       "      <td>2017-08-04</td>\n",
       "      <td>U</td>\n",
       "      <td>118</td>\n",
       "      <td>1111.0</td>\n",
       "    </tr>\n",
       "    <tr>\n",
       "      <th>...</th>\n",
       "      <td>...</td>\n",
       "      <td>...</td>\n",
       "      <td>...</td>\n",
       "      <td>...</td>\n",
       "      <td>...</td>\n",
       "    </tr>\n",
       "    <tr>\n",
       "      <th>16995</th>\n",
       "      <td>6d5f3a774f3d4714ab0c092238f3a1d7</td>\n",
       "      <td>2018-06-04</td>\n",
       "      <td>F</td>\n",
       "      <td>45</td>\n",
       "      <td>54000.0</td>\n",
       "    </tr>\n",
       "    <tr>\n",
       "      <th>16996</th>\n",
       "      <td>2cb4f97358b841b9a9773a7aa05a9d77</td>\n",
       "      <td>2018-07-13</td>\n",
       "      <td>M</td>\n",
       "      <td>61</td>\n",
       "      <td>72000.0</td>\n",
       "    </tr>\n",
       "    <tr>\n",
       "      <th>16997</th>\n",
       "      <td>01d26f638c274aa0b965d24cefe3183f</td>\n",
       "      <td>2017-01-26</td>\n",
       "      <td>M</td>\n",
       "      <td>49</td>\n",
       "      <td>73000.0</td>\n",
       "    </tr>\n",
       "    <tr>\n",
       "      <th>16998</th>\n",
       "      <td>9dc1421481194dcd9400aec7c9ae6366</td>\n",
       "      <td>2016-03-07</td>\n",
       "      <td>F</td>\n",
       "      <td>83</td>\n",
       "      <td>50000.0</td>\n",
       "    </tr>\n",
       "    <tr>\n",
       "      <th>16999</th>\n",
       "      <td>e4052622e5ba45a8b96b59aba68cf068</td>\n",
       "      <td>2017-07-22</td>\n",
       "      <td>F</td>\n",
       "      <td>62</td>\n",
       "      <td>82000.0</td>\n",
       "    </tr>\n",
       "  </tbody>\n",
       "</table>\n",
       "<p>17000 rows × 5 columns</p>\n",
       "</div>"
      ],
      "text/plain": [
       "                            customer_id became_member_on gender  age    income\n",
       "0      68be06ca386d4c31939f3a4f0e3dd783       2017-02-12      U  118    1111.0\n",
       "1      0610b486422d4921ae7d2bf64640c50b       2017-07-15      F   55  112000.0\n",
       "2      38fe809add3b4fcf9315a9694bb96ff5       2018-07-12      U  118    1111.0\n",
       "3      78afa995795e4d85b5d9ceeca43f5fef       2017-05-09      F   75  100000.0\n",
       "4      a03223e636434f42ac4c3df47e8bac43       2017-08-04      U  118    1111.0\n",
       "...                                 ...              ...    ...  ...       ...\n",
       "16995  6d5f3a774f3d4714ab0c092238f3a1d7       2018-06-04      F   45   54000.0\n",
       "16996  2cb4f97358b841b9a9773a7aa05a9d77       2018-07-13      M   61   72000.0\n",
       "16997  01d26f638c274aa0b965d24cefe3183f       2017-01-26      M   49   73000.0\n",
       "16998  9dc1421481194dcd9400aec7c9ae6366       2016-03-07      F   83   50000.0\n",
       "16999  e4052622e5ba45a8b96b59aba68cf068       2017-07-22      F   62   82000.0\n",
       "\n",
       "[17000 rows x 5 columns]"
      ]
     },
     "execution_count": 33,
     "metadata": {},
     "output_type": "execute_result"
    }
   ],
   "source": [
    "customers"
   ]
  },
  {
   "cell_type": "markdown",
   "id": "c3f825be",
   "metadata": {},
   "source": [
    "### Файл events"
   ]
  },
  {
   "cell_type": "markdown",
   "id": "f3a25b36",
   "metadata": {},
   "source": [
    "Стобец value состоит из значений, связанных с событием (сумма для транзакций, offer_id для полученных и просмотренных предложений, offer_id и reward для выполненных предложений). Нужно разделить эти значения и оставить только числовые значения."
   ]
  },
  {
   "cell_type": "code",
   "execution_count": 14,
   "id": "2ec93974",
   "metadata": {},
   "outputs": [
    {
     "data": {
      "text/html": [
       "<div>\n",
       "<style scoped>\n",
       "    .dataframe tbody tr th:only-of-type {\n",
       "        vertical-align: middle;\n",
       "    }\n",
       "\n",
       "    .dataframe tbody tr th {\n",
       "        vertical-align: top;\n",
       "    }\n",
       "\n",
       "    .dataframe thead th {\n",
       "        text-align: right;\n",
       "    }\n",
       "</style>\n",
       "<table border=\"1\" class=\"dataframe\">\n",
       "  <thead>\n",
       "    <tr style=\"text-align: right;\">\n",
       "      <th></th>\n",
       "      <th>customer_id</th>\n",
       "      <th>event</th>\n",
       "      <th>value</th>\n",
       "      <th>time</th>\n",
       "    </tr>\n",
       "  </thead>\n",
       "  <tbody>\n",
       "    <tr>\n",
       "      <th>0</th>\n",
       "      <td>78afa995795e4d85b5d9ceeca43f5fef</td>\n",
       "      <td>offer received</td>\n",
       "      <td>{'offer id': '9b98b8c7a33c4b65b9aebfe6a799e6d9'}</td>\n",
       "      <td>0</td>\n",
       "    </tr>\n",
       "    <tr>\n",
       "      <th>1</th>\n",
       "      <td>a03223e636434f42ac4c3df47e8bac43</td>\n",
       "      <td>offer received</td>\n",
       "      <td>{'offer id': '0b1e1539f2cc45b7b9fa7c272da2e1d7'}</td>\n",
       "      <td>0</td>\n",
       "    </tr>\n",
       "    <tr>\n",
       "      <th>2</th>\n",
       "      <td>e2127556f4f64592b11af22de27a7932</td>\n",
       "      <td>offer received</td>\n",
       "      <td>{'offer id': '2906b810c7d4411798c6938adc9daaa5'}</td>\n",
       "      <td>0</td>\n",
       "    </tr>\n",
       "    <tr>\n",
       "      <th>3</th>\n",
       "      <td>8ec6ce2a7e7949b1bf142def7d0e0586</td>\n",
       "      <td>offer received</td>\n",
       "      <td>{'offer id': 'fafdcd668e3743c1bb461111dcafc2a4'}</td>\n",
       "      <td>0</td>\n",
       "    </tr>\n",
       "    <tr>\n",
       "      <th>4</th>\n",
       "      <td>68617ca6246f4fbc85e91a2a49552598</td>\n",
       "      <td>offer received</td>\n",
       "      <td>{'offer id': '4d5c57ea9a6940dd891ad53e9dbe8da0'}</td>\n",
       "      <td>0</td>\n",
       "    </tr>\n",
       "    <tr>\n",
       "      <th>...</th>\n",
       "      <td>...</td>\n",
       "      <td>...</td>\n",
       "      <td>...</td>\n",
       "      <td>...</td>\n",
       "    </tr>\n",
       "    <tr>\n",
       "      <th>306529</th>\n",
       "      <td>b3a1272bc9904337b331bf348c3e8c17</td>\n",
       "      <td>transaction</td>\n",
       "      <td>{'amount': 1.5899999999999999}</td>\n",
       "      <td>714</td>\n",
       "    </tr>\n",
       "    <tr>\n",
       "      <th>306530</th>\n",
       "      <td>68213b08d99a4ae1b0dcb72aebd9aa35</td>\n",
       "      <td>transaction</td>\n",
       "      <td>{'amount': 9.53}</td>\n",
       "      <td>714</td>\n",
       "    </tr>\n",
       "    <tr>\n",
       "      <th>306531</th>\n",
       "      <td>a00058cf10334a308c68e7631c529907</td>\n",
       "      <td>transaction</td>\n",
       "      <td>{'amount': 3.61}</td>\n",
       "      <td>714</td>\n",
       "    </tr>\n",
       "    <tr>\n",
       "      <th>306532</th>\n",
       "      <td>76ddbd6576844afe811f1a3c0fbb5bec</td>\n",
       "      <td>transaction</td>\n",
       "      <td>{'amount': 3.5300000000000002}</td>\n",
       "      <td>714</td>\n",
       "    </tr>\n",
       "    <tr>\n",
       "      <th>306533</th>\n",
       "      <td>c02b10e8752c4d8e9b73f918558531f7</td>\n",
       "      <td>transaction</td>\n",
       "      <td>{'amount': 4.05}</td>\n",
       "      <td>714</td>\n",
       "    </tr>\n",
       "  </tbody>\n",
       "</table>\n",
       "<p>306534 rows × 4 columns</p>\n",
       "</div>"
      ],
      "text/plain": [
       "                             customer_id           event  \\\n",
       "0       78afa995795e4d85b5d9ceeca43f5fef  offer received   \n",
       "1       a03223e636434f42ac4c3df47e8bac43  offer received   \n",
       "2       e2127556f4f64592b11af22de27a7932  offer received   \n",
       "3       8ec6ce2a7e7949b1bf142def7d0e0586  offer received   \n",
       "4       68617ca6246f4fbc85e91a2a49552598  offer received   \n",
       "...                                  ...             ...   \n",
       "306529  b3a1272bc9904337b331bf348c3e8c17     transaction   \n",
       "306530  68213b08d99a4ae1b0dcb72aebd9aa35     transaction   \n",
       "306531  a00058cf10334a308c68e7631c529907     transaction   \n",
       "306532  76ddbd6576844afe811f1a3c0fbb5bec     transaction   \n",
       "306533  c02b10e8752c4d8e9b73f918558531f7     transaction   \n",
       "\n",
       "                                                   value  time  \n",
       "0       {'offer id': '9b98b8c7a33c4b65b9aebfe6a799e6d9'}     0  \n",
       "1       {'offer id': '0b1e1539f2cc45b7b9fa7c272da2e1d7'}     0  \n",
       "2       {'offer id': '2906b810c7d4411798c6938adc9daaa5'}     0  \n",
       "3       {'offer id': 'fafdcd668e3743c1bb461111dcafc2a4'}     0  \n",
       "4       {'offer id': '4d5c57ea9a6940dd891ad53e9dbe8da0'}     0  \n",
       "...                                                  ...   ...  \n",
       "306529                    {'amount': 1.5899999999999999}   714  \n",
       "306530                                  {'amount': 9.53}   714  \n",
       "306531                                  {'amount': 3.61}   714  \n",
       "306532                    {'amount': 3.5300000000000002}   714  \n",
       "306533                                  {'amount': 4.05}   714  \n",
       "\n",
       "[306534 rows x 4 columns]"
      ]
     },
     "execution_count": 14,
     "metadata": {},
     "output_type": "execute_result"
    }
   ],
   "source": [
    "events"
   ]
  },
  {
   "cell_type": "code",
   "execution_count": 15,
   "id": "c1f32a8e",
   "metadata": {},
   "outputs": [],
   "source": [
    "events['value'] = events['value'].astype(str)"
   ]
  },
  {
   "cell_type": "code",
   "execution_count": 16,
   "id": "23419dd0",
   "metadata": {},
   "outputs": [],
   "source": [
    "events[['new_value', 'reward']] = events['value'].str.split(',', expand=True)"
   ]
  },
  {
   "cell_type": "code",
   "execution_count": 17,
   "id": "14911e37",
   "metadata": {},
   "outputs": [],
   "source": [
    "events['cleaned_reward'] = events['reward'].str.extract(r'(\\d+)')"
   ]
  },
  {
   "cell_type": "code",
   "execution_count": 18,
   "id": "db2e38db",
   "metadata": {},
   "outputs": [],
   "source": [
    "events['offer_id'] = events['new_value'].str.extract(r'([a-fA-F0-9]{32})')"
   ]
  },
  {
   "cell_type": "code",
   "execution_count": 19,
   "id": "191df985",
   "metadata": {},
   "outputs": [],
   "source": [
    "events['amount'] = events['new_value'].str.extract(r'(\\d+\\.\\d+)')"
   ]
  },
  {
   "cell_type": "code",
   "execution_count": 20,
   "id": "cbc9f687",
   "metadata": {},
   "outputs": [
    {
     "data": {
      "text/plain": [
       "array(['offer received', 'offer viewed', 'transaction', 'offer completed'],\n",
       "      dtype=object)"
      ]
     },
     "execution_count": 20,
     "metadata": {},
     "output_type": "execute_result"
    }
   ],
   "source": [
    "events['event'].unique()"
   ]
  },
  {
   "cell_type": "code",
   "execution_count": 21,
   "id": "42042e86",
   "metadata": {
    "scrolled": true
   },
   "outputs": [
    {
     "data": {
      "text/html": [
       "<div>\n",
       "<style scoped>\n",
       "    .dataframe tbody tr th:only-of-type {\n",
       "        vertical-align: middle;\n",
       "    }\n",
       "\n",
       "    .dataframe tbody tr th {\n",
       "        vertical-align: top;\n",
       "    }\n",
       "\n",
       "    .dataframe thead th {\n",
       "        text-align: right;\n",
       "    }\n",
       "</style>\n",
       "<table border=\"1\" class=\"dataframe\">\n",
       "  <thead>\n",
       "    <tr style=\"text-align: right;\">\n",
       "      <th></th>\n",
       "      <th>customer_id</th>\n",
       "      <th>event</th>\n",
       "      <th>value</th>\n",
       "      <th>time</th>\n",
       "      <th>new_value</th>\n",
       "      <th>reward</th>\n",
       "      <th>cleaned_reward</th>\n",
       "      <th>offer_id</th>\n",
       "      <th>amount</th>\n",
       "    </tr>\n",
       "  </thead>\n",
       "  <tbody>\n",
       "    <tr>\n",
       "      <th>12658</th>\n",
       "      <td>9fa9ae8f57894cc9a3b8a9bbe0fc1b2f</td>\n",
       "      <td>offer completed</td>\n",
       "      <td>{'offer_id': '2906b810c7d4411798c6938adc9daaa5...</td>\n",
       "      <td>0</td>\n",
       "      <td>{'offer_id': '2906b810c7d4411798c6938adc9daaa5'</td>\n",
       "      <td>'reward': 2}</td>\n",
       "      <td>2</td>\n",
       "      <td>2906b810c7d4411798c6938adc9daaa5</td>\n",
       "      <td>NaN</td>\n",
       "    </tr>\n",
       "    <tr>\n",
       "      <th>12672</th>\n",
       "      <td>fe97aa22dd3e48c8b143116a8403dd52</td>\n",
       "      <td>offer completed</td>\n",
       "      <td>{'offer_id': 'fafdcd668e3743c1bb461111dcafc2a4...</td>\n",
       "      <td>0</td>\n",
       "      <td>{'offer_id': 'fafdcd668e3743c1bb461111dcafc2a4'</td>\n",
       "      <td>'reward': 2}</td>\n",
       "      <td>2</td>\n",
       "      <td>fafdcd668e3743c1bb461111dcafc2a4</td>\n",
       "      <td>NaN</td>\n",
       "    </tr>\n",
       "    <tr>\n",
       "      <th>12679</th>\n",
       "      <td>629fc02d56414d91bca360decdfa9288</td>\n",
       "      <td>offer completed</td>\n",
       "      <td>{'offer_id': '9b98b8c7a33c4b65b9aebfe6a799e6d9...</td>\n",
       "      <td>0</td>\n",
       "      <td>{'offer_id': '9b98b8c7a33c4b65b9aebfe6a799e6d9'</td>\n",
       "      <td>'reward': 5}</td>\n",
       "      <td>5</td>\n",
       "      <td>9b98b8c7a33c4b65b9aebfe6a799e6d9</td>\n",
       "      <td>NaN</td>\n",
       "    </tr>\n",
       "    <tr>\n",
       "      <th>12692</th>\n",
       "      <td>676506bad68e4161b9bbaffeb039626b</td>\n",
       "      <td>offer completed</td>\n",
       "      <td>{'offer_id': 'ae264e3637204a6fb9bb56bc8210ddfd...</td>\n",
       "      <td>0</td>\n",
       "      <td>{'offer_id': 'ae264e3637204a6fb9bb56bc8210ddfd'</td>\n",
       "      <td>'reward': 10}</td>\n",
       "      <td>10</td>\n",
       "      <td>ae264e3637204a6fb9bb56bc8210ddfd</td>\n",
       "      <td>NaN</td>\n",
       "    </tr>\n",
       "    <tr>\n",
       "      <th>12697</th>\n",
       "      <td>8f7dd3b2afe14c078eb4f6e6fe4ba97d</td>\n",
       "      <td>offer completed</td>\n",
       "      <td>{'offer_id': '4d5c57ea9a6940dd891ad53e9dbe8da0...</td>\n",
       "      <td>0</td>\n",
       "      <td>{'offer_id': '4d5c57ea9a6940dd891ad53e9dbe8da0'</td>\n",
       "      <td>'reward': 10}</td>\n",
       "      <td>10</td>\n",
       "      <td>4d5c57ea9a6940dd891ad53e9dbe8da0</td>\n",
       "      <td>NaN</td>\n",
       "    </tr>\n",
       "    <tr>\n",
       "      <th>...</th>\n",
       "      <td>...</td>\n",
       "      <td>...</td>\n",
       "      <td>...</td>\n",
       "      <td>...</td>\n",
       "      <td>...</td>\n",
       "      <td>...</td>\n",
       "      <td>...</td>\n",
       "      <td>...</td>\n",
       "      <td>...</td>\n",
       "    </tr>\n",
       "    <tr>\n",
       "      <th>306475</th>\n",
       "      <td>0c027f5f34dd4b9eba0a25785c611273</td>\n",
       "      <td>offer completed</td>\n",
       "      <td>{'offer_id': '2298d6c36e964ae4a3e7e9706d1fb8c2...</td>\n",
       "      <td>714</td>\n",
       "      <td>{'offer_id': '2298d6c36e964ae4a3e7e9706d1fb8c2'</td>\n",
       "      <td>'reward': 3}</td>\n",
       "      <td>3</td>\n",
       "      <td>2298d6c36e964ae4a3e7e9706d1fb8c2</td>\n",
       "      <td>NaN</td>\n",
       "    </tr>\n",
       "    <tr>\n",
       "      <th>306497</th>\n",
       "      <td>a6f84f4e976f44508c358cc9aba6d2b3</td>\n",
       "      <td>offer completed</td>\n",
       "      <td>{'offer_id': '2298d6c36e964ae4a3e7e9706d1fb8c2...</td>\n",
       "      <td>714</td>\n",
       "      <td>{'offer_id': '2298d6c36e964ae4a3e7e9706d1fb8c2'</td>\n",
       "      <td>'reward': 3}</td>\n",
       "      <td>3</td>\n",
       "      <td>2298d6c36e964ae4a3e7e9706d1fb8c2</td>\n",
       "      <td>NaN</td>\n",
       "    </tr>\n",
       "    <tr>\n",
       "      <th>306506</th>\n",
       "      <td>b895c57e8cd047a8872ce02aa54759d6</td>\n",
       "      <td>offer completed</td>\n",
       "      <td>{'offer_id': 'fafdcd668e3743c1bb461111dcafc2a4...</td>\n",
       "      <td>714</td>\n",
       "      <td>{'offer_id': 'fafdcd668e3743c1bb461111dcafc2a4'</td>\n",
       "      <td>'reward': 2}</td>\n",
       "      <td>2</td>\n",
       "      <td>fafdcd668e3743c1bb461111dcafc2a4</td>\n",
       "      <td>NaN</td>\n",
       "    </tr>\n",
       "    <tr>\n",
       "      <th>306509</th>\n",
       "      <td>8431c16f8e1d440880db371a68f82dd0</td>\n",
       "      <td>offer completed</td>\n",
       "      <td>{'offer_id': 'fafdcd668e3743c1bb461111dcafc2a4...</td>\n",
       "      <td>714</td>\n",
       "      <td>{'offer_id': 'fafdcd668e3743c1bb461111dcafc2a4'</td>\n",
       "      <td>'reward': 2}</td>\n",
       "      <td>2</td>\n",
       "      <td>fafdcd668e3743c1bb461111dcafc2a4</td>\n",
       "      <td>NaN</td>\n",
       "    </tr>\n",
       "    <tr>\n",
       "      <th>306527</th>\n",
       "      <td>24f56b5e1849462093931b164eb803b5</td>\n",
       "      <td>offer completed</td>\n",
       "      <td>{'offer_id': 'fafdcd668e3743c1bb461111dcafc2a4...</td>\n",
       "      <td>714</td>\n",
       "      <td>{'offer_id': 'fafdcd668e3743c1bb461111dcafc2a4'</td>\n",
       "      <td>'reward': 2}</td>\n",
       "      <td>2</td>\n",
       "      <td>fafdcd668e3743c1bb461111dcafc2a4</td>\n",
       "      <td>NaN</td>\n",
       "    </tr>\n",
       "  </tbody>\n",
       "</table>\n",
       "<p>33579 rows × 9 columns</p>\n",
       "</div>"
      ],
      "text/plain": [
       "                             customer_id            event  \\\n",
       "12658   9fa9ae8f57894cc9a3b8a9bbe0fc1b2f  offer completed   \n",
       "12672   fe97aa22dd3e48c8b143116a8403dd52  offer completed   \n",
       "12679   629fc02d56414d91bca360decdfa9288  offer completed   \n",
       "12692   676506bad68e4161b9bbaffeb039626b  offer completed   \n",
       "12697   8f7dd3b2afe14c078eb4f6e6fe4ba97d  offer completed   \n",
       "...                                  ...              ...   \n",
       "306475  0c027f5f34dd4b9eba0a25785c611273  offer completed   \n",
       "306497  a6f84f4e976f44508c358cc9aba6d2b3  offer completed   \n",
       "306506  b895c57e8cd047a8872ce02aa54759d6  offer completed   \n",
       "306509  8431c16f8e1d440880db371a68f82dd0  offer completed   \n",
       "306527  24f56b5e1849462093931b164eb803b5  offer completed   \n",
       "\n",
       "                                                    value  time  \\\n",
       "12658   {'offer_id': '2906b810c7d4411798c6938adc9daaa5...     0   \n",
       "12672   {'offer_id': 'fafdcd668e3743c1bb461111dcafc2a4...     0   \n",
       "12679   {'offer_id': '9b98b8c7a33c4b65b9aebfe6a799e6d9...     0   \n",
       "12692   {'offer_id': 'ae264e3637204a6fb9bb56bc8210ddfd...     0   \n",
       "12697   {'offer_id': '4d5c57ea9a6940dd891ad53e9dbe8da0...     0   \n",
       "...                                                   ...   ...   \n",
       "306475  {'offer_id': '2298d6c36e964ae4a3e7e9706d1fb8c2...   714   \n",
       "306497  {'offer_id': '2298d6c36e964ae4a3e7e9706d1fb8c2...   714   \n",
       "306506  {'offer_id': 'fafdcd668e3743c1bb461111dcafc2a4...   714   \n",
       "306509  {'offer_id': 'fafdcd668e3743c1bb461111dcafc2a4...   714   \n",
       "306527  {'offer_id': 'fafdcd668e3743c1bb461111dcafc2a4...   714   \n",
       "\n",
       "                                              new_value          reward  \\\n",
       "12658   {'offer_id': '2906b810c7d4411798c6938adc9daaa5'    'reward': 2}   \n",
       "12672   {'offer_id': 'fafdcd668e3743c1bb461111dcafc2a4'    'reward': 2}   \n",
       "12679   {'offer_id': '9b98b8c7a33c4b65b9aebfe6a799e6d9'    'reward': 5}   \n",
       "12692   {'offer_id': 'ae264e3637204a6fb9bb56bc8210ddfd'   'reward': 10}   \n",
       "12697   {'offer_id': '4d5c57ea9a6940dd891ad53e9dbe8da0'   'reward': 10}   \n",
       "...                                                 ...             ...   \n",
       "306475  {'offer_id': '2298d6c36e964ae4a3e7e9706d1fb8c2'    'reward': 3}   \n",
       "306497  {'offer_id': '2298d6c36e964ae4a3e7e9706d1fb8c2'    'reward': 3}   \n",
       "306506  {'offer_id': 'fafdcd668e3743c1bb461111dcafc2a4'    'reward': 2}   \n",
       "306509  {'offer_id': 'fafdcd668e3743c1bb461111dcafc2a4'    'reward': 2}   \n",
       "306527  {'offer_id': 'fafdcd668e3743c1bb461111dcafc2a4'    'reward': 2}   \n",
       "\n",
       "       cleaned_reward                          offer_id amount  \n",
       "12658               2  2906b810c7d4411798c6938adc9daaa5    NaN  \n",
       "12672               2  fafdcd668e3743c1bb461111dcafc2a4    NaN  \n",
       "12679               5  9b98b8c7a33c4b65b9aebfe6a799e6d9    NaN  \n",
       "12692              10  ae264e3637204a6fb9bb56bc8210ddfd    NaN  \n",
       "12697              10  4d5c57ea9a6940dd891ad53e9dbe8da0    NaN  \n",
       "...               ...                               ...    ...  \n",
       "306475              3  2298d6c36e964ae4a3e7e9706d1fb8c2    NaN  \n",
       "306497              3  2298d6c36e964ae4a3e7e9706d1fb8c2    NaN  \n",
       "306506              2  fafdcd668e3743c1bb461111dcafc2a4    NaN  \n",
       "306509              2  fafdcd668e3743c1bb461111dcafc2a4    NaN  \n",
       "306527              2  fafdcd668e3743c1bb461111dcafc2a4    NaN  \n",
       "\n",
       "[33579 rows x 9 columns]"
      ]
     },
     "execution_count": 21,
     "metadata": {},
     "output_type": "execute_result"
    }
   ],
   "source": [
    "events[events['event'] == 'offer completed']"
   ]
  },
  {
   "cell_type": "code",
   "execution_count": 22,
   "id": "f01c6746",
   "metadata": {},
   "outputs": [],
   "source": [
    "events['days'] = round(events['time'] / 24)"
   ]
  },
  {
   "cell_type": "code",
   "execution_count": 24,
   "id": "8f325dcc",
   "metadata": {},
   "outputs": [],
   "source": [
    "events['days'] = events['days'].astype(int)\n",
    "events['cleaned_reward'] = events['cleaned_reward'].astype(float)\n",
    "events['amount'] = events['amount'].astype(float)"
   ]
  },
  {
   "cell_type": "markdown",
   "id": "98e71eab",
   "metadata": {},
   "source": [
    "В файле есть транзакции, которые связаны с акцией. Если event = 'offer completed', customer_id и  time совпадают c транзакцией, значит эта транзакция принадлежит акции.\n",
    "\n",
    "Напишу функцию по переносу значений amount со строки transaction на строку offer completed. "
   ]
  },
  {
   "cell_type": "code",
   "execution_count": 44,
   "id": "99f6466d",
   "metadata": {},
   "outputs": [],
   "source": [
    "def transfer_values_and_remove(group):\n",
    "\n",
    "    if 'transaction' in group['event'].values and 'offer completed' in group['event'].values:\n",
    "        row_a = group[group['event'] == 'transaction']\n",
    "        row_b = group[group['event'] == 'offer completed']\n",
    "        \n",
    "        if not row_a['amount'].isnull().all(): \n",
    "            group.loc[group['event'] == 'offer completed', 'amount'] = row_a['amount'].values[0]\n",
    "        \n",
    "        group = group[group['event'] != 'transaction']\n",
    "    \n",
    "    return group\n",
    "\n",
    "events = events.groupby(['customer_id', 'time'], group_keys=False).apply(transfer_values_and_remove)\n"
   ]
  },
  {
   "cell_type": "code",
   "execution_count": 45,
   "id": "c881518c",
   "metadata": {
    "scrolled": true
   },
   "outputs": [
    {
     "data": {
      "text/html": [
       "<div>\n",
       "<style scoped>\n",
       "    .dataframe tbody tr th:only-of-type {\n",
       "        vertical-align: middle;\n",
       "    }\n",
       "\n",
       "    .dataframe tbody tr th {\n",
       "        vertical-align: top;\n",
       "    }\n",
       "\n",
       "    .dataframe thead th {\n",
       "        text-align: right;\n",
       "    }\n",
       "</style>\n",
       "<table border=\"1\" class=\"dataframe\">\n",
       "  <thead>\n",
       "    <tr style=\"text-align: right;\">\n",
       "      <th></th>\n",
       "      <th>customer_id</th>\n",
       "      <th>event</th>\n",
       "      <th>value</th>\n",
       "      <th>time</th>\n",
       "      <th>new_value</th>\n",
       "      <th>reward</th>\n",
       "      <th>cleaned_reward</th>\n",
       "      <th>offer_id</th>\n",
       "      <th>amount</th>\n",
       "      <th>days</th>\n",
       "    </tr>\n",
       "  </thead>\n",
       "  <tbody>\n",
       "    <tr>\n",
       "      <th>55972</th>\n",
       "      <td>0009655768c64bdeb2e877511632db8f</td>\n",
       "      <td>offer received</td>\n",
       "      <td>{'offer id': '5a8bc65990b245e5a138643cd4eb9837'}</td>\n",
       "      <td>168</td>\n",
       "      <td>{'offer id': '5a8bc65990b245e5a138643cd4eb9837'}</td>\n",
       "      <td>None</td>\n",
       "      <td>NaN</td>\n",
       "      <td>5a8bc65990b245e5a138643cd4eb9837</td>\n",
       "      <td>NaN</td>\n",
       "      <td>7</td>\n",
       "    </tr>\n",
       "    <tr>\n",
       "      <th>77705</th>\n",
       "      <td>0009655768c64bdeb2e877511632db8f</td>\n",
       "      <td>offer viewed</td>\n",
       "      <td>{'offer id': '5a8bc65990b245e5a138643cd4eb9837'}</td>\n",
       "      <td>192</td>\n",
       "      <td>{'offer id': '5a8bc65990b245e5a138643cd4eb9837'}</td>\n",
       "      <td>None</td>\n",
       "      <td>NaN</td>\n",
       "      <td>5a8bc65990b245e5a138643cd4eb9837</td>\n",
       "      <td>NaN</td>\n",
       "      <td>8</td>\n",
       "    </tr>\n",
       "    <tr>\n",
       "      <th>89291</th>\n",
       "      <td>0009655768c64bdeb2e877511632db8f</td>\n",
       "      <td>transaction</td>\n",
       "      <td>{'amount': 22.16}</td>\n",
       "      <td>228</td>\n",
       "      <td>{'amount': 22.16}</td>\n",
       "      <td>None</td>\n",
       "      <td>NaN</td>\n",
       "      <td>NaN</td>\n",
       "      <td>22.16</td>\n",
       "      <td>10</td>\n",
       "    </tr>\n",
       "    <tr>\n",
       "      <th>113605</th>\n",
       "      <td>0009655768c64bdeb2e877511632db8f</td>\n",
       "      <td>offer received</td>\n",
       "      <td>{'offer id': '3f207df678b143eea3cee63160fa8bed'}</td>\n",
       "      <td>336</td>\n",
       "      <td>{'offer id': '3f207df678b143eea3cee63160fa8bed'}</td>\n",
       "      <td>None</td>\n",
       "      <td>NaN</td>\n",
       "      <td>3f207df678b143eea3cee63160fa8bed</td>\n",
       "      <td>NaN</td>\n",
       "      <td>14</td>\n",
       "    </tr>\n",
       "    <tr>\n",
       "      <th>139992</th>\n",
       "      <td>0009655768c64bdeb2e877511632db8f</td>\n",
       "      <td>offer viewed</td>\n",
       "      <td>{'offer id': '3f207df678b143eea3cee63160fa8bed'}</td>\n",
       "      <td>372</td>\n",
       "      <td>{'offer id': '3f207df678b143eea3cee63160fa8bed'}</td>\n",
       "      <td>None</td>\n",
       "      <td>NaN</td>\n",
       "      <td>3f207df678b143eea3cee63160fa8bed</td>\n",
       "      <td>NaN</td>\n",
       "      <td>16</td>\n",
       "    </tr>\n",
       "    <tr>\n",
       "      <th>153401</th>\n",
       "      <td>0009655768c64bdeb2e877511632db8f</td>\n",
       "      <td>offer received</td>\n",
       "      <td>{'offer id': 'f19421c1d4aa40978ebb69ca19b0e20d'}</td>\n",
       "      <td>408</td>\n",
       "      <td>{'offer id': 'f19421c1d4aa40978ebb69ca19b0e20d'}</td>\n",
       "      <td>None</td>\n",
       "      <td>NaN</td>\n",
       "      <td>f19421c1d4aa40978ebb69ca19b0e20d</td>\n",
       "      <td>NaN</td>\n",
       "      <td>17</td>\n",
       "    </tr>\n",
       "    <tr>\n",
       "      <th>168413</th>\n",
       "      <td>0009655768c64bdeb2e877511632db8f</td>\n",
       "      <td>offer completed</td>\n",
       "      <td>{'offer_id': 'f19421c1d4aa40978ebb69ca19b0e20d...</td>\n",
       "      <td>414</td>\n",
       "      <td>{'offer_id': 'f19421c1d4aa40978ebb69ca19b0e20d'</td>\n",
       "      <td>'reward': 5}</td>\n",
       "      <td>5.0</td>\n",
       "      <td>f19421c1d4aa40978ebb69ca19b0e20d</td>\n",
       "      <td>8.57</td>\n",
       "      <td>17</td>\n",
       "    </tr>\n",
       "    <tr>\n",
       "      <th>187554</th>\n",
       "      <td>0009655768c64bdeb2e877511632db8f</td>\n",
       "      <td>offer viewed</td>\n",
       "      <td>{'offer id': 'f19421c1d4aa40978ebb69ca19b0e20d'}</td>\n",
       "      <td>456</td>\n",
       "      <td>{'offer id': 'f19421c1d4aa40978ebb69ca19b0e20d'}</td>\n",
       "      <td>None</td>\n",
       "      <td>NaN</td>\n",
       "      <td>f19421c1d4aa40978ebb69ca19b0e20d</td>\n",
       "      <td>NaN</td>\n",
       "      <td>19</td>\n",
       "    </tr>\n",
       "    <tr>\n",
       "      <th>204340</th>\n",
       "      <td>0009655768c64bdeb2e877511632db8f</td>\n",
       "      <td>offer received</td>\n",
       "      <td>{'offer id': 'fafdcd668e3743c1bb461111dcafc2a4'}</td>\n",
       "      <td>504</td>\n",
       "      <td>{'offer id': 'fafdcd668e3743c1bb461111dcafc2a4'}</td>\n",
       "      <td>None</td>\n",
       "      <td>NaN</td>\n",
       "      <td>fafdcd668e3743c1bb461111dcafc2a4</td>\n",
       "      <td>NaN</td>\n",
       "      <td>21</td>\n",
       "    </tr>\n",
       "    <tr>\n",
       "      <th>228423</th>\n",
       "      <td>0009655768c64bdeb2e877511632db8f</td>\n",
       "      <td>offer completed</td>\n",
       "      <td>{'offer_id': 'fafdcd668e3743c1bb461111dcafc2a4...</td>\n",
       "      <td>528</td>\n",
       "      <td>{'offer_id': 'fafdcd668e3743c1bb461111dcafc2a4'</td>\n",
       "      <td>'reward': 2}</td>\n",
       "      <td>2.0</td>\n",
       "      <td>fafdcd668e3743c1bb461111dcafc2a4</td>\n",
       "      <td>14.11</td>\n",
       "      <td>22</td>\n",
       "    </tr>\n",
       "    <tr>\n",
       "      <th>233413</th>\n",
       "      <td>0009655768c64bdeb2e877511632db8f</td>\n",
       "      <td>offer viewed</td>\n",
       "      <td>{'offer id': 'fafdcd668e3743c1bb461111dcafc2a4'}</td>\n",
       "      <td>540</td>\n",
       "      <td>{'offer id': 'fafdcd668e3743c1bb461111dcafc2a4'}</td>\n",
       "      <td>None</td>\n",
       "      <td>NaN</td>\n",
       "      <td>fafdcd668e3743c1bb461111dcafc2a4</td>\n",
       "      <td>NaN</td>\n",
       "      <td>22</td>\n",
       "    </tr>\n",
       "    <tr>\n",
       "      <th>237784</th>\n",
       "      <td>0009655768c64bdeb2e877511632db8f</td>\n",
       "      <td>transaction</td>\n",
       "      <td>{'amount': 13.56}</td>\n",
       "      <td>552</td>\n",
       "      <td>{'amount': 13.56}</td>\n",
       "      <td>None</td>\n",
       "      <td>NaN</td>\n",
       "      <td>NaN</td>\n",
       "      <td>13.56</td>\n",
       "      <td>23</td>\n",
       "    </tr>\n",
       "    <tr>\n",
       "      <th>247879</th>\n",
       "      <td>0009655768c64bdeb2e877511632db8f</td>\n",
       "      <td>offer received</td>\n",
       "      <td>{'offer id': '2906b810c7d4411798c6938adc9daaa5'}</td>\n",
       "      <td>576</td>\n",
       "      <td>{'offer id': '2906b810c7d4411798c6938adc9daaa5'}</td>\n",
       "      <td>None</td>\n",
       "      <td>NaN</td>\n",
       "      <td>2906b810c7d4411798c6938adc9daaa5</td>\n",
       "      <td>NaN</td>\n",
       "      <td>24</td>\n",
       "    </tr>\n",
       "    <tr>\n",
       "      <th>258884</th>\n",
       "      <td>0009655768c64bdeb2e877511632db8f</td>\n",
       "      <td>offer completed</td>\n",
       "      <td>{'offer_id': '2906b810c7d4411798c6938adc9daaa5...</td>\n",
       "      <td>576</td>\n",
       "      <td>{'offer_id': '2906b810c7d4411798c6938adc9daaa5'</td>\n",
       "      <td>'reward': 2}</td>\n",
       "      <td>2.0</td>\n",
       "      <td>2906b810c7d4411798c6938adc9daaa5</td>\n",
       "      <td>10.27</td>\n",
       "      <td>24</td>\n",
       "    </tr>\n",
       "    <tr>\n",
       "      <th>293497</th>\n",
       "      <td>0009655768c64bdeb2e877511632db8f</td>\n",
       "      <td>transaction</td>\n",
       "      <td>{'amount': 12.36}</td>\n",
       "      <td>660</td>\n",
       "      <td>{'amount': 12.36}</td>\n",
       "      <td>None</td>\n",
       "      <td>NaN</td>\n",
       "      <td>NaN</td>\n",
       "      <td>12.36</td>\n",
       "      <td>28</td>\n",
       "    </tr>\n",
       "    <tr>\n",
       "      <th>300930</th>\n",
       "      <td>0009655768c64bdeb2e877511632db8f</td>\n",
       "      <td>transaction</td>\n",
       "      <td>{'amount': 28.16}</td>\n",
       "      <td>690</td>\n",
       "      <td>{'amount': 28.16}</td>\n",
       "      <td>None</td>\n",
       "      <td>NaN</td>\n",
       "      <td>NaN</td>\n",
       "      <td>28.16</td>\n",
       "      <td>29</td>\n",
       "    </tr>\n",
       "    <tr>\n",
       "      <th>302205</th>\n",
       "      <td>0009655768c64bdeb2e877511632db8f</td>\n",
       "      <td>transaction</td>\n",
       "      <td>{'amount': 18.41}</td>\n",
       "      <td>696</td>\n",
       "      <td>{'amount': 18.41}</td>\n",
       "      <td>None</td>\n",
       "      <td>NaN</td>\n",
       "      <td>NaN</td>\n",
       "      <td>18.41</td>\n",
       "      <td>29</td>\n",
       "    </tr>\n",
       "    <tr>\n",
       "      <th>56475</th>\n",
       "      <td>00116118485d4dfda04fdbaba9a87b5c</td>\n",
       "      <td>offer received</td>\n",
       "      <td>{'offer id': 'f19421c1d4aa40978ebb69ca19b0e20d'}</td>\n",
       "      <td>168</td>\n",
       "      <td>{'offer id': 'f19421c1d4aa40978ebb69ca19b0e20d'}</td>\n",
       "      <td>None</td>\n",
       "      <td>NaN</td>\n",
       "      <td>f19421c1d4aa40978ebb69ca19b0e20d</td>\n",
       "      <td>NaN</td>\n",
       "      <td>7</td>\n",
       "    </tr>\n",
       "    <tr>\n",
       "      <th>85769</th>\n",
       "      <td>00116118485d4dfda04fdbaba9a87b5c</td>\n",
       "      <td>offer viewed</td>\n",
       "      <td>{'offer id': 'f19421c1d4aa40978ebb69ca19b0e20d'}</td>\n",
       "      <td>216</td>\n",
       "      <td>{'offer id': 'f19421c1d4aa40978ebb69ca19b0e20d'}</td>\n",
       "      <td>None</td>\n",
       "      <td>NaN</td>\n",
       "      <td>f19421c1d4aa40978ebb69ca19b0e20d</td>\n",
       "      <td>NaN</td>\n",
       "      <td>9</td>\n",
       "    </tr>\n",
       "    <tr>\n",
       "      <th>104088</th>\n",
       "      <td>00116118485d4dfda04fdbaba9a87b5c</td>\n",
       "      <td>transaction</td>\n",
       "      <td>{'amount': 0.7000000000000001}</td>\n",
       "      <td>294</td>\n",
       "      <td>{'amount': 0.7000000000000001}</td>\n",
       "      <td>None</td>\n",
       "      <td>NaN</td>\n",
       "      <td>NaN</td>\n",
       "      <td>0.70</td>\n",
       "      <td>12</td>\n",
       "    </tr>\n",
       "  </tbody>\n",
       "</table>\n",
       "</div>"
      ],
      "text/plain": [
       "                             customer_id            event  \\\n",
       "55972   0009655768c64bdeb2e877511632db8f   offer received   \n",
       "77705   0009655768c64bdeb2e877511632db8f     offer viewed   \n",
       "89291   0009655768c64bdeb2e877511632db8f      transaction   \n",
       "113605  0009655768c64bdeb2e877511632db8f   offer received   \n",
       "139992  0009655768c64bdeb2e877511632db8f     offer viewed   \n",
       "153401  0009655768c64bdeb2e877511632db8f   offer received   \n",
       "168413  0009655768c64bdeb2e877511632db8f  offer completed   \n",
       "187554  0009655768c64bdeb2e877511632db8f     offer viewed   \n",
       "204340  0009655768c64bdeb2e877511632db8f   offer received   \n",
       "228423  0009655768c64bdeb2e877511632db8f  offer completed   \n",
       "233413  0009655768c64bdeb2e877511632db8f     offer viewed   \n",
       "237784  0009655768c64bdeb2e877511632db8f      transaction   \n",
       "247879  0009655768c64bdeb2e877511632db8f   offer received   \n",
       "258884  0009655768c64bdeb2e877511632db8f  offer completed   \n",
       "293497  0009655768c64bdeb2e877511632db8f      transaction   \n",
       "300930  0009655768c64bdeb2e877511632db8f      transaction   \n",
       "302205  0009655768c64bdeb2e877511632db8f      transaction   \n",
       "56475   00116118485d4dfda04fdbaba9a87b5c   offer received   \n",
       "85769   00116118485d4dfda04fdbaba9a87b5c     offer viewed   \n",
       "104088  00116118485d4dfda04fdbaba9a87b5c      transaction   \n",
       "\n",
       "                                                    value  time  \\\n",
       "55972    {'offer id': '5a8bc65990b245e5a138643cd4eb9837'}   168   \n",
       "77705    {'offer id': '5a8bc65990b245e5a138643cd4eb9837'}   192   \n",
       "89291                                   {'amount': 22.16}   228   \n",
       "113605   {'offer id': '3f207df678b143eea3cee63160fa8bed'}   336   \n",
       "139992   {'offer id': '3f207df678b143eea3cee63160fa8bed'}   372   \n",
       "153401   {'offer id': 'f19421c1d4aa40978ebb69ca19b0e20d'}   408   \n",
       "168413  {'offer_id': 'f19421c1d4aa40978ebb69ca19b0e20d...   414   \n",
       "187554   {'offer id': 'f19421c1d4aa40978ebb69ca19b0e20d'}   456   \n",
       "204340   {'offer id': 'fafdcd668e3743c1bb461111dcafc2a4'}   504   \n",
       "228423  {'offer_id': 'fafdcd668e3743c1bb461111dcafc2a4...   528   \n",
       "233413   {'offer id': 'fafdcd668e3743c1bb461111dcafc2a4'}   540   \n",
       "237784                                  {'amount': 13.56}   552   \n",
       "247879   {'offer id': '2906b810c7d4411798c6938adc9daaa5'}   576   \n",
       "258884  {'offer_id': '2906b810c7d4411798c6938adc9daaa5...   576   \n",
       "293497                                  {'amount': 12.36}   660   \n",
       "300930                                  {'amount': 28.16}   690   \n",
       "302205                                  {'amount': 18.41}   696   \n",
       "56475    {'offer id': 'f19421c1d4aa40978ebb69ca19b0e20d'}   168   \n",
       "85769    {'offer id': 'f19421c1d4aa40978ebb69ca19b0e20d'}   216   \n",
       "104088                     {'amount': 0.7000000000000001}   294   \n",
       "\n",
       "                                               new_value         reward  \\\n",
       "55972   {'offer id': '5a8bc65990b245e5a138643cd4eb9837'}           None   \n",
       "77705   {'offer id': '5a8bc65990b245e5a138643cd4eb9837'}           None   \n",
       "89291                                  {'amount': 22.16}           None   \n",
       "113605  {'offer id': '3f207df678b143eea3cee63160fa8bed'}           None   \n",
       "139992  {'offer id': '3f207df678b143eea3cee63160fa8bed'}           None   \n",
       "153401  {'offer id': 'f19421c1d4aa40978ebb69ca19b0e20d'}           None   \n",
       "168413   {'offer_id': 'f19421c1d4aa40978ebb69ca19b0e20d'   'reward': 5}   \n",
       "187554  {'offer id': 'f19421c1d4aa40978ebb69ca19b0e20d'}           None   \n",
       "204340  {'offer id': 'fafdcd668e3743c1bb461111dcafc2a4'}           None   \n",
       "228423   {'offer_id': 'fafdcd668e3743c1bb461111dcafc2a4'   'reward': 2}   \n",
       "233413  {'offer id': 'fafdcd668e3743c1bb461111dcafc2a4'}           None   \n",
       "237784                                 {'amount': 13.56}           None   \n",
       "247879  {'offer id': '2906b810c7d4411798c6938adc9daaa5'}           None   \n",
       "258884   {'offer_id': '2906b810c7d4411798c6938adc9daaa5'   'reward': 2}   \n",
       "293497                                 {'amount': 12.36}           None   \n",
       "300930                                 {'amount': 28.16}           None   \n",
       "302205                                 {'amount': 18.41}           None   \n",
       "56475   {'offer id': 'f19421c1d4aa40978ebb69ca19b0e20d'}           None   \n",
       "85769   {'offer id': 'f19421c1d4aa40978ebb69ca19b0e20d'}           None   \n",
       "104088                    {'amount': 0.7000000000000001}           None   \n",
       "\n",
       "        cleaned_reward                          offer_id  amount  days  \n",
       "55972              NaN  5a8bc65990b245e5a138643cd4eb9837     NaN     7  \n",
       "77705              NaN  5a8bc65990b245e5a138643cd4eb9837     NaN     8  \n",
       "89291              NaN                               NaN   22.16    10  \n",
       "113605             NaN  3f207df678b143eea3cee63160fa8bed     NaN    14  \n",
       "139992             NaN  3f207df678b143eea3cee63160fa8bed     NaN    16  \n",
       "153401             NaN  f19421c1d4aa40978ebb69ca19b0e20d     NaN    17  \n",
       "168413             5.0  f19421c1d4aa40978ebb69ca19b0e20d    8.57    17  \n",
       "187554             NaN  f19421c1d4aa40978ebb69ca19b0e20d     NaN    19  \n",
       "204340             NaN  fafdcd668e3743c1bb461111dcafc2a4     NaN    21  \n",
       "228423             2.0  fafdcd668e3743c1bb461111dcafc2a4   14.11    22  \n",
       "233413             NaN  fafdcd668e3743c1bb461111dcafc2a4     NaN    22  \n",
       "237784             NaN                               NaN   13.56    23  \n",
       "247879             NaN  2906b810c7d4411798c6938adc9daaa5     NaN    24  \n",
       "258884             2.0  2906b810c7d4411798c6938adc9daaa5   10.27    24  \n",
       "293497             NaN                               NaN   12.36    28  \n",
       "300930             NaN                               NaN   28.16    29  \n",
       "302205             NaN                               NaN   18.41    29  \n",
       "56475              NaN  f19421c1d4aa40978ebb69ca19b0e20d     NaN     7  \n",
       "85769              NaN  f19421c1d4aa40978ebb69ca19b0e20d     NaN     9  \n",
       "104088             NaN                               NaN    0.70    12  "
      ]
     },
     "execution_count": 45,
     "metadata": {},
     "output_type": "execute_result"
    }
   ],
   "source": [
    "events.sort_values(by=['customer_id', 'time']).head(20)"
   ]
  },
  {
   "cell_type": "markdown",
   "id": "81026eb3",
   "metadata": {},
   "source": [
    "## Аналитическая часть"
   ]
  },
  {
   "cell_type": "markdown",
   "id": "b1172b24",
   "metadata": {},
   "source": [
    "### RFM - анализ. Сегментация."
   ]
  },
  {
   "cell_type": "markdown",
   "id": "b468de71",
   "metadata": {},
   "source": [
    "**RFM-анализ** — метод анализа, позволяющий сегментировать клиентов по частоте и сумме покупок и выявлять тех, которые приносят больше денег.\n",
    "\n",
    "Аббревиатура RFM расшифровывается:\n",
    "\n",
    "**Recency** — давность (как давно клиент купил товар в последний раз).\n",
    "\n",
    "**Frequency** — частота (как часто они у вас покупают).\n",
    "\n",
    "**Monetary** — деньги (общая сумма трат)."
   ]
  },
  {
   "cell_type": "markdown",
   "id": "a6859a11",
   "metadata": {},
   "source": [
    "actions_count = events.groupby(['customer_id', 'event']).agg({'event': 'count'})\n",
    "\n",
    "actions_count"
   ]
  },
  {
   "cell_type": "code",
   "execution_count": 49,
   "id": "5cdc759c",
   "metadata": {},
   "outputs": [
    {
     "data": {
      "text/html": [
       "<div>\n",
       "<style scoped>\n",
       "    .dataframe tbody tr th:only-of-type {\n",
       "        vertical-align: middle;\n",
       "    }\n",
       "\n",
       "    .dataframe tbody tr th {\n",
       "        vertical-align: top;\n",
       "    }\n",
       "\n",
       "    .dataframe thead th {\n",
       "        text-align: right;\n",
       "    }\n",
       "</style>\n",
       "<table border=\"1\" class=\"dataframe\">\n",
       "  <thead>\n",
       "    <tr style=\"text-align: right;\">\n",
       "      <th></th>\n",
       "      <th>customer_id</th>\n",
       "    </tr>\n",
       "    <tr>\n",
       "      <th>event</th>\n",
       "      <th></th>\n",
       "    </tr>\n",
       "  </thead>\n",
       "  <tbody>\n",
       "    <tr>\n",
       "      <th>offer completed</th>\n",
       "      <td>33182</td>\n",
       "    </tr>\n",
       "    <tr>\n",
       "      <th>offer received</th>\n",
       "      <td>76277</td>\n",
       "    </tr>\n",
       "    <tr>\n",
       "      <th>offer viewed</th>\n",
       "      <td>57725</td>\n",
       "    </tr>\n",
       "    <tr>\n",
       "      <th>transaction</th>\n",
       "      <td>108336</td>\n",
       "    </tr>\n",
       "  </tbody>\n",
       "</table>\n",
       "</div>"
      ],
      "text/plain": [
       "                 customer_id\n",
       "event                       \n",
       "offer completed        33182\n",
       "offer received         76277\n",
       "offer viewed           57725\n",
       "transaction           108336"
      ]
     },
     "execution_count": 49,
     "metadata": {},
     "output_type": "execute_result"
    }
   ],
   "source": [
    "actions_count = events.groupby('event').agg({'customer_id': 'count'})\n",
    "\n",
    "actions_count"
   ]
  },
  {
   "cell_type": "code",
   "execution_count": 50,
   "id": "740a48c2",
   "metadata": {},
   "outputs": [],
   "source": [
    "rfm = events.groupby('customer_id').agg({'amount': 'count',\n",
    "                                     'amount': 'sum',\n",
    "                                     'days': ['min', 'max']}).reset_index()"
   ]
  },
  {
   "cell_type": "code",
   "execution_count": 51,
   "id": "a863c4c0",
   "metadata": {},
   "outputs": [],
   "source": [
    "rfm = events.groupby('customer_id').agg({'amount': ['count', 'sum'],\n",
    "                                     'days': ['min', 'max']}).reset_index()"
   ]
  },
  {
   "cell_type": "code",
   "execution_count": 52,
   "id": "80bee9b1",
   "metadata": {},
   "outputs": [
    {
     "data": {
      "text/html": [
       "<div>\n",
       "<style scoped>\n",
       "    .dataframe tbody tr th:only-of-type {\n",
       "        vertical-align: middle;\n",
       "    }\n",
       "\n",
       "    .dataframe tbody tr th {\n",
       "        vertical-align: top;\n",
       "    }\n",
       "\n",
       "    .dataframe thead th {\n",
       "        text-align: right;\n",
       "    }\n",
       "</style>\n",
       "<table border=\"1\" class=\"dataframe\">\n",
       "  <thead>\n",
       "    <tr style=\"text-align: right;\">\n",
       "      <th></th>\n",
       "      <th>customer_id</th>\n",
       "      <th>purchases_count</th>\n",
       "      <th>purchase_amount</th>\n",
       "      <th>first_day</th>\n",
       "      <th>last_day</th>\n",
       "    </tr>\n",
       "  </thead>\n",
       "  <tbody>\n",
       "    <tr>\n",
       "      <th>0</th>\n",
       "      <td>0009655768c64bdeb2e877511632db8f</td>\n",
       "      <td>8</td>\n",
       "      <td>127.60</td>\n",
       "      <td>7</td>\n",
       "      <td>29</td>\n",
       "    </tr>\n",
       "    <tr>\n",
       "      <th>1</th>\n",
       "      <td>00116118485d4dfda04fdbaba9a87b5c</td>\n",
       "      <td>3</td>\n",
       "      <td>4.09</td>\n",
       "      <td>7</td>\n",
       "      <td>26</td>\n",
       "    </tr>\n",
       "    <tr>\n",
       "      <th>2</th>\n",
       "      <td>0011e0d4e6b944f998e987f904e8c1e5</td>\n",
       "      <td>6</td>\n",
       "      <td>101.51</td>\n",
       "      <td>0</td>\n",
       "      <td>27</td>\n",
       "    </tr>\n",
       "    <tr>\n",
       "      <th>3</th>\n",
       "      <td>0020c2b971eb4e9188eac86d93036a77</td>\n",
       "      <td>9</td>\n",
       "      <td>214.10</td>\n",
       "      <td>0</td>\n",
       "      <td>30</td>\n",
       "    </tr>\n",
       "    <tr>\n",
       "      <th>4</th>\n",
       "      <td>0020ccbbb6d84e358d3414a3ff76cffd</td>\n",
       "      <td>12</td>\n",
       "      <td>154.05</td>\n",
       "      <td>2</td>\n",
       "      <td>28</td>\n",
       "    </tr>\n",
       "  </tbody>\n",
       "</table>\n",
       "</div>"
      ],
      "text/plain": [
       "                        customer_id  purchases_count  purchase_amount  \\\n",
       "0  0009655768c64bdeb2e877511632db8f                8           127.60   \n",
       "1  00116118485d4dfda04fdbaba9a87b5c                3             4.09   \n",
       "2  0011e0d4e6b944f998e987f904e8c1e5                6           101.51   \n",
       "3  0020c2b971eb4e9188eac86d93036a77                9           214.10   \n",
       "4  0020ccbbb6d84e358d3414a3ff76cffd               12           154.05   \n",
       "\n",
       "   first_day  last_day  \n",
       "0          7        29  \n",
       "1          7        26  \n",
       "2          0        27  \n",
       "3          0        30  \n",
       "4          2        28  "
      ]
     },
     "execution_count": 52,
     "metadata": {},
     "output_type": "execute_result"
    }
   ],
   "source": [
    "rfm.columns = ['customer_id', 'purchases_count', 'purchase_amount', 'first_day', 'last_day']\n",
    "\n",
    "rfm.head()"
   ]
  },
  {
   "cell_type": "code",
   "execution_count": 53,
   "id": "6f92bcf3",
   "metadata": {
    "scrolled": true
   },
   "outputs": [
    {
     "data": {
      "text/plain": [
       "0"
      ]
     },
     "execution_count": 53,
     "metadata": {},
     "output_type": "execute_result"
    }
   ],
   "source": [
    "rfm[rfm['last_day'] < 1]['customer_id'].count()"
   ]
  },
  {
   "cell_type": "markdown",
   "id": "5102ae3a",
   "metadata": {},
   "source": [
    "#### Recency"
   ]
  },
  {
   "cell_type": "markdown",
   "id": "49251c5e",
   "metadata": {},
   "source": [
    "**Recency** — давность (как давно клиент купил товар в последний раз).\n",
    "\n",
    "r_value - количество дней, прошедших с последнего заказа, в течении 30 дней теста."
   ]
  },
  {
   "cell_type": "code",
   "execution_count": 54,
   "id": "202cd31c",
   "metadata": {},
   "outputs": [],
   "source": [
    "rfm['r_value'] = 30 - rfm['last_day']"
   ]
  },
  {
   "cell_type": "code",
   "execution_count": 55,
   "id": "970a68a2",
   "metadata": {},
   "outputs": [
    {
     "data": {
      "image/png": "[encoded data removed]",
      "text/plain": [
       "<Figure size 1200x300 with 1 Axes>"
      ]
     },
     "metadata": {},
     "output_type": "display_data"
    }
   ],
   "source": [
    "plt.figure(figsize=(12, 3))\n",
    "sns.boxplot(x=rfm.r_value, notch=True)\n",
    "plt.show()"
   ]
  },
  {
   "cell_type": "markdown",
   "id": "7eaabb8f",
   "metadata": {},
   "source": [
    "В столбце r_value есть выбросы, почистим их:"
   ]
  },
  {
   "cell_type": "code",
   "execution_count": 56,
   "id": "4b7ada27",
   "metadata": {},
   "outputs": [],
   "source": [
    "rq1, rq3 = np.percentile(rfm.r_value, [25, 75])\n",
    "r_iqr = rq3 - rq1"
   ]
  },
  {
   "cell_type": "code",
   "execution_count": 57,
   "id": "fd0a73cd",
   "metadata": {},
   "outputs": [],
   "source": [
    "r_top = rq3 + 1.5 * r_iqr"
   ]
  },
  {
   "cell_type": "code",
   "execution_count": 58,
   "id": "44a1426f",
   "metadata": {},
   "outputs": [],
   "source": [
    "r_clean = rfm[rfm.r_value < r_top]['r_value'].tolist()"
   ]
  },
  {
   "cell_type": "code",
   "execution_count": 59,
   "id": "620130b8",
   "metadata": {
    "scrolled": true
   },
   "outputs": [
    {
     "data": {
      "image/png": "[encoded data removed]",
      "text/plain": [
       "<Figure size 1200x300 with 1 Axes>"
      ]
     },
     "metadata": {},
     "output_type": "display_data"
    }
   ],
   "source": [
    "plt.figure(figsize=(12, 3))\n",
    "sns.boxplot(x=r_clean, notch=True)\n",
    "plt.show()"
   ]
  },
  {
   "cell_type": "markdown",
   "id": "ecce9b4c",
   "metadata": {},
   "source": [
    "Выясняю интервалы для разбиения столбца recency на три ранга (дополнительно для интервалов указываю минимальное и максимальное значения в столбце):"
   ]
  },
  {
   "cell_type": "code",
   "execution_count": 60,
   "id": "83e6b021",
   "metadata": {},
   "outputs": [],
   "source": [
    "r_bins = [0] + list(np.percentile(r_clean, [33, 66])) + [rfm.r_value.max()]"
   ]
  },
  {
   "cell_type": "code",
   "execution_count": 61,
   "id": "f38c7e22",
   "metadata": {},
   "outputs": [
    {
     "data": {
      "text/plain": [
       "[0, 2.0, 4.0, 18]"
      ]
     },
     "execution_count": 61,
     "metadata": {},
     "output_type": "execute_result"
    }
   ],
   "source": [
    "r_bins"
   ]
  },
  {
   "cell_type": "markdown",
   "id": "0217cebc",
   "metadata": {},
   "source": [
    "Все клиенты у которых значение r_value от 0 до 2 будет присвоен ранг 3, 2-4 ранг 2, и все что выше 4 - ранг 1."
   ]
  },
  {
   "cell_type": "markdown",
   "id": "9dfa2c32",
   "metadata": {},
   "source": [
    "Присваиваю рангам баллы от 1 до 3:"
   ]
  },
  {
   "cell_type": "code",
   "execution_count": 62,
   "id": "92687cde",
   "metadata": {},
   "outputs": [],
   "source": [
    "r_labels = [3, 2, 1]"
   ]
  },
  {
   "cell_type": "markdown",
   "id": "b6199be8",
   "metadata": {},
   "source": [
    "Создаю новый столбец с рангом R, разбив столбец r_value на три равных интервала:"
   ]
  },
  {
   "cell_type": "code",
   "execution_count": 63,
   "id": "efc2e5b2",
   "metadata": {},
   "outputs": [],
   "source": [
    "rfm['R'] = pd.cut(rfm.r_value, labels=r_labels, bins=r_bins, include_lowest=True)"
   ]
  },
  {
   "cell_type": "code",
   "execution_count": 64,
   "id": "ed24bee0",
   "metadata": {},
   "outputs": [
    {
     "data": {
      "text/html": [
       "<div>\n",
       "<style scoped>\n",
       "    .dataframe tbody tr th:only-of-type {\n",
       "        vertical-align: middle;\n",
       "    }\n",
       "\n",
       "    .dataframe tbody tr th {\n",
       "        vertical-align: top;\n",
       "    }\n",
       "\n",
       "    .dataframe thead th {\n",
       "        text-align: right;\n",
       "    }\n",
       "</style>\n",
       "<table border=\"1\" class=\"dataframe\">\n",
       "  <thead>\n",
       "    <tr style=\"text-align: right;\">\n",
       "      <th></th>\n",
       "      <th>customer_id</th>\n",
       "    </tr>\n",
       "    <tr>\n",
       "      <th>R</th>\n",
       "      <th></th>\n",
       "    </tr>\n",
       "  </thead>\n",
       "  <tbody>\n",
       "    <tr>\n",
       "      <th>3</th>\n",
       "      <td>8273</td>\n",
       "    </tr>\n",
       "    <tr>\n",
       "      <th>2</th>\n",
       "      <td>4294</td>\n",
       "    </tr>\n",
       "    <tr>\n",
       "      <th>1</th>\n",
       "      <td>4433</td>\n",
       "    </tr>\n",
       "  </tbody>\n",
       "</table>\n",
       "</div>"
      ],
      "text/plain": [
       "   customer_id\n",
       "R             \n",
       "3         8273\n",
       "2         4294\n",
       "1         4433"
      ]
     },
     "execution_count": 64,
     "metadata": {},
     "output_type": "execute_result"
    }
   ],
   "source": [
    "rfm.groupby('R').agg({'customer_id':'count'})"
   ]
  },
  {
   "cell_type": "markdown",
   "id": "b17edb2d",
   "metadata": {},
   "source": [
    "#### Frequency\n",
    "\n",
    "**Frequency** — частота (как часто они покупают).\n",
    "\n",
    "У нас имеются данные за 30 дней, и количество заказов в датасете отражает, сколько покупок совершает клиент в течение месяца. Эти данные будут использоваться для анализа частоты."
   ]
  },
  {
   "cell_type": "code",
   "execution_count": 65,
   "id": "d1dede9e",
   "metadata": {},
   "outputs": [],
   "source": [
    "rfm['f_value'] = rfm['purchases_count']"
   ]
  },
  {
   "cell_type": "code",
   "execution_count": 66,
   "id": "853ff60a",
   "metadata": {},
   "outputs": [
    {
     "data": {
      "image/png": "[encoded data removed]",
      "text/plain": [
       "<Figure size 1200x300 with 1 Axes>"
      ]
     },
     "metadata": {},
     "output_type": "display_data"
    }
   ],
   "source": [
    "plt.figure(figsize=(12, 3))\n",
    "sns.boxplot(x=rfm.f_value, notch=True)\n",
    "plt.show()"
   ]
  },
  {
   "cell_type": "markdown",
   "id": "63aee8f8",
   "metadata": {},
   "source": [
    "Очистим данные от выбросов:"
   ]
  },
  {
   "cell_type": "code",
   "execution_count": 67,
   "id": "84e935cc",
   "metadata": {},
   "outputs": [],
   "source": [
    "fq1, fq3 = np.percentile(rfm.f_value, [25, 75])\n",
    "f_iqr = fq3 - fq1"
   ]
  },
  {
   "cell_type": "code",
   "execution_count": 68,
   "id": "8b018fbb",
   "metadata": {},
   "outputs": [],
   "source": [
    "f_top = fq3 + 1.5 * f_iqr"
   ]
  },
  {
   "cell_type": "code",
   "execution_count": 69,
   "id": "bd0f4f13",
   "metadata": {},
   "outputs": [],
   "source": [
    "f_clean = rfm[rfm.f_value < f_top]['f_value'].tolist()"
   ]
  },
  {
   "cell_type": "code",
   "execution_count": 70,
   "id": "02f3bc37",
   "metadata": {
    "scrolled": true
   },
   "outputs": [
    {
     "data": {
      "image/png": "[encoded data removed]",
      "text/plain": [
       "<Figure size 1200x300 with 1 Axes>"
      ]
     },
     "metadata": {},
     "output_type": "display_data"
    }
   ],
   "source": [
    "plt.figure(figsize=(12, 3))\n",
    "sns.boxplot(x=f_clean, notch=True)\n",
    "plt.show()"
   ]
  },
  {
   "cell_type": "markdown",
   "id": "b984dbf3",
   "metadata": {},
   "source": [
    "Выясняю интервалы для разбиения столбца frequency на три ранга (дополнительно для интервалов указываю минимальное и максимальное значения в столбце):"
   ]
  },
  {
   "cell_type": "code",
   "execution_count": 71,
   "id": "5518910f",
   "metadata": {},
   "outputs": [],
   "source": [
    "f_bins = [0] + list(np.percentile(f_clean, [33, 66])) + [rfm.f_value.max()]"
   ]
  },
  {
   "cell_type": "code",
   "execution_count": 72,
   "id": "e90376fc",
   "metadata": {},
   "outputs": [
    {
     "data": {
      "text/plain": [
       "[0, 5.0, 9.0, 36]"
      ]
     },
     "execution_count": 72,
     "metadata": {},
     "output_type": "execute_result"
    }
   ],
   "source": [
    "f_bins"
   ]
  },
  {
   "cell_type": "markdown",
   "id": "6eb56a9c",
   "metadata": {},
   "source": [
    "Все клиенты у которых значение r_value от 0 до 5 будет присвоен ранг 1, 5-9 ранг 2, и все что выше 9 - ранг 3."
   ]
  },
  {
   "cell_type": "markdown",
   "id": "deed7053",
   "metadata": {},
   "source": [
    "Присваиваю рангам баллы от 1 до 3:"
   ]
  },
  {
   "cell_type": "code",
   "execution_count": 73,
   "id": "dbcbf446",
   "metadata": {},
   "outputs": [],
   "source": [
    "f_labels = [1, 2, 3]\n"
   ]
  },
  {
   "cell_type": "markdown",
   "id": "add860a5",
   "metadata": {},
   "source": [
    "Создаю новый столбец с рангом F, разбив столбец f_value на три равных интервала:"
   ]
  },
  {
   "cell_type": "code",
   "execution_count": 74,
   "id": "4d3ad33e",
   "metadata": {},
   "outputs": [],
   "source": [
    "rfm['F'] = pd.cut(rfm.f_value, labels=f_labels, bins=f_bins, include_lowest=True)\n",
    "\n"
   ]
  },
  {
   "cell_type": "code",
   "execution_count": 75,
   "id": "1a289772",
   "metadata": {},
   "outputs": [
    {
     "data": {
      "text/html": [
       "<div>\n",
       "<style scoped>\n",
       "    .dataframe tbody tr th:only-of-type {\n",
       "        vertical-align: middle;\n",
       "    }\n",
       "\n",
       "    .dataframe tbody tr th {\n",
       "        vertical-align: top;\n",
       "    }\n",
       "\n",
       "    .dataframe thead th {\n",
       "        text-align: right;\n",
       "    }\n",
       "</style>\n",
       "<table border=\"1\" class=\"dataframe\">\n",
       "  <thead>\n",
       "    <tr style=\"text-align: right;\">\n",
       "      <th></th>\n",
       "      <th>customer_id</th>\n",
       "    </tr>\n",
       "    <tr>\n",
       "      <th>F</th>\n",
       "      <th></th>\n",
       "    </tr>\n",
       "  </thead>\n",
       "  <tbody>\n",
       "    <tr>\n",
       "      <th>1</th>\n",
       "      <td>5796</td>\n",
       "    </tr>\n",
       "    <tr>\n",
       "      <th>2</th>\n",
       "      <td>5238</td>\n",
       "    </tr>\n",
       "    <tr>\n",
       "      <th>3</th>\n",
       "      <td>5966</td>\n",
       "    </tr>\n",
       "  </tbody>\n",
       "</table>\n",
       "</div>"
      ],
      "text/plain": [
       "   customer_id\n",
       "F             \n",
       "1         5796\n",
       "2         5238\n",
       "3         5966"
      ]
     },
     "execution_count": 75,
     "metadata": {},
     "output_type": "execute_result"
    }
   ],
   "source": [
    "rfm.groupby('F').agg({'customer_id':'count'})\n"
   ]
  },
  {
   "cell_type": "markdown",
   "id": "0a220b73",
   "metadata": {},
   "source": [
    "#### Monetary \n",
    "\n",
    "Monetary — деньги (общая сумма трат). "
   ]
  },
  {
   "cell_type": "code",
   "execution_count": 76,
   "id": "0d9fa04c",
   "metadata": {},
   "outputs": [],
   "source": [
    "rfm['m_value'] = rfm['purchase_amount']"
   ]
  },
  {
   "cell_type": "code",
   "execution_count": 77,
   "id": "2839e3ac",
   "metadata": {},
   "outputs": [
    {
     "data": {
      "image/png": "[encoded data removed]",
      "text/plain": [
       "<Figure size 1200x300 with 1 Axes>"
      ]
     },
     "metadata": {},
     "output_type": "display_data"
    }
   ],
   "source": [
    "plt.figure(figsize=(12, 3))\n",
    "sns.boxplot(x=rfm.m_value, notch=True)\n",
    "plt.show()"
   ]
  },
  {
   "cell_type": "markdown",
   "id": "58b949ab",
   "metadata": {},
   "source": [
    "Почистим данные от выбросов:"
   ]
  },
  {
   "cell_type": "code",
   "execution_count": 78,
   "id": "2aa7add3",
   "metadata": {},
   "outputs": [],
   "source": [
    "mq1, mq3 = np.percentile(rfm.m_value, [25, 75])\n",
    "m_iqr = mq3 - mq1"
   ]
  },
  {
   "cell_type": "code",
   "execution_count": 79,
   "id": "c08b0bb3",
   "metadata": {},
   "outputs": [],
   "source": [
    "m_top = mq3 + 1.5 * m_iqr"
   ]
  },
  {
   "cell_type": "code",
   "execution_count": 80,
   "id": "84d1d6be",
   "metadata": {},
   "outputs": [],
   "source": [
    "m_clean = rfm[rfm.m_value < m_top]['m_value'].tolist()"
   ]
  },
  {
   "cell_type": "code",
   "execution_count": 81,
   "id": "427cd5e8",
   "metadata": {
    "scrolled": true
   },
   "outputs": [
    {
     "data": {
      "image/png": "[encoded data removed]",
      "text/plain": [
       "<Figure size 1200x300 with 1 Axes>"
      ]
     },
     "metadata": {},
     "output_type": "display_data"
    }
   ],
   "source": [
    "plt.figure(figsize=(12, 3))\n",
    "sns.boxplot(x=m_clean, notch=True)\n",
    "plt.show()"
   ]
  },
  {
   "cell_type": "markdown",
   "id": "2ac6fabf",
   "metadata": {},
   "source": [
    "Выясняю интервалы для разбиения столбца monetary на три ранга (дополнительно для интервалов указываю минимальное и максимальное значения в столбце):"
   ]
  },
  {
   "cell_type": "code",
   "execution_count": 82,
   "id": "db0d1cd0",
   "metadata": {},
   "outputs": [],
   "source": [
    "m_bins = [0] + list(np.percentile(m_clean, [33, 66])) + [rfm.m_value.max()]"
   ]
  },
  {
   "cell_type": "code",
   "execution_count": 83,
   "id": "553ba846",
   "metadata": {},
   "outputs": [
    {
     "data": {
      "text/plain": [
       "[0, 30.966400000000004, 116.58, 1754.29]"
      ]
     },
     "execution_count": 83,
     "metadata": {},
     "output_type": "execute_result"
    }
   ],
   "source": [
    "m_bins"
   ]
  },
  {
   "cell_type": "markdown",
   "id": "a91853b8",
   "metadata": {},
   "source": [
    "Присваиваю рангам баллы от 1 до 3:"
   ]
  },
  {
   "cell_type": "code",
   "execution_count": 84,
   "id": "5c0b03ad",
   "metadata": {},
   "outputs": [],
   "source": [
    "m_labels = [1, 2, 3]\n"
   ]
  },
  {
   "cell_type": "markdown",
   "id": "5998c58f",
   "metadata": {},
   "source": [
    "Создаю новый столбец с рангом M, разбив столбец f_value на три равных интервала:"
   ]
  },
  {
   "cell_type": "code",
   "execution_count": 85,
   "id": "adb0ba5f",
   "metadata": {},
   "outputs": [],
   "source": [
    "rfm['M'] = pd.cut(rfm.m_value, labels=m_labels, bins=m_bins, include_lowest=True)\n",
    "\n"
   ]
  },
  {
   "cell_type": "code",
   "execution_count": 86,
   "id": "cbe9c06c",
   "metadata": {
    "scrolled": true
   },
   "outputs": [
    {
     "data": {
      "text/html": [
       "<div>\n",
       "<style scoped>\n",
       "    .dataframe tbody tr th:only-of-type {\n",
       "        vertical-align: middle;\n",
       "    }\n",
       "\n",
       "    .dataframe tbody tr th {\n",
       "        vertical-align: top;\n",
       "    }\n",
       "\n",
       "    .dataframe thead th {\n",
       "        text-align: right;\n",
       "    }\n",
       "</style>\n",
       "<table border=\"1\" class=\"dataframe\">\n",
       "  <thead>\n",
       "    <tr style=\"text-align: right;\">\n",
       "      <th></th>\n",
       "      <th>customer_id</th>\n",
       "    </tr>\n",
       "    <tr>\n",
       "      <th>M</th>\n",
       "      <th></th>\n",
       "    </tr>\n",
       "  </thead>\n",
       "  <tbody>\n",
       "    <tr>\n",
       "      <th>1</th>\n",
       "      <td>5448</td>\n",
       "    </tr>\n",
       "    <tr>\n",
       "      <th>2</th>\n",
       "      <td>5449</td>\n",
       "    </tr>\n",
       "    <tr>\n",
       "      <th>3</th>\n",
       "      <td>6103</td>\n",
       "    </tr>\n",
       "  </tbody>\n",
       "</table>\n",
       "</div>"
      ],
      "text/plain": [
       "   customer_id\n",
       "M             \n",
       "1         5448\n",
       "2         5449\n",
       "3         6103"
      ]
     },
     "execution_count": 86,
     "metadata": {},
     "output_type": "execute_result"
    }
   ],
   "source": [
    "rfm.groupby('M').agg({'customer_id':'count'})\n"
   ]
  },
  {
   "cell_type": "markdown",
   "id": "32f7fede",
   "metadata": {},
   "source": [
    "Получаем итоговый сегмент RFM сложив все три ранга как строки:"
   ]
  },
  {
   "cell_type": "code",
   "execution_count": 87,
   "id": "a7b1a0e4",
   "metadata": {},
   "outputs": [],
   "source": [
    "rfm['rfm'] = rfm.R.astype('str') + rfm.F.astype('str') + rfm.M.astype('str')"
   ]
  },
  {
   "cell_type": "code",
   "execution_count": 88,
   "id": "fb408c9b",
   "metadata": {},
   "outputs": [
    {
     "data": {
      "text/html": [
       "<div>\n",
       "<style scoped>\n",
       "    .dataframe tbody tr th:only-of-type {\n",
       "        vertical-align: middle;\n",
       "    }\n",
       "\n",
       "    .dataframe tbody tr th {\n",
       "        vertical-align: top;\n",
       "    }\n",
       "\n",
       "    .dataframe thead th {\n",
       "        text-align: right;\n",
       "    }\n",
       "</style>\n",
       "<table border=\"1\" class=\"dataframe\">\n",
       "  <thead>\n",
       "    <tr style=\"text-align: right;\">\n",
       "      <th></th>\n",
       "      <th>customer_id</th>\n",
       "      <th>purchases_count</th>\n",
       "      <th>purchase_amount</th>\n",
       "      <th>first_day</th>\n",
       "      <th>last_day</th>\n",
       "      <th>r_value</th>\n",
       "      <th>R</th>\n",
       "      <th>f_value</th>\n",
       "      <th>F</th>\n",
       "      <th>m_value</th>\n",
       "      <th>M</th>\n",
       "      <th>rfm</th>\n",
       "    </tr>\n",
       "  </thead>\n",
       "  <tbody>\n",
       "    <tr>\n",
       "      <th>7774</th>\n",
       "      <td>754bb232d09c4cadbee345cedadf3b01</td>\n",
       "      <td>19</td>\n",
       "      <td>152.80</td>\n",
       "      <td>0</td>\n",
       "      <td>26</td>\n",
       "      <td>4</td>\n",
       "      <td>2</td>\n",
       "      <td>19</td>\n",
       "      <td>3</td>\n",
       "      <td>152.80</td>\n",
       "      <td>3</td>\n",
       "      <td>233</td>\n",
       "    </tr>\n",
       "    <tr>\n",
       "      <th>11514</th>\n",
       "      <td>abb9649acfca4fd5998d6c23e9c3a073</td>\n",
       "      <td>6</td>\n",
       "      <td>123.39</td>\n",
       "      <td>0</td>\n",
       "      <td>28</td>\n",
       "      <td>2</td>\n",
       "      <td>3</td>\n",
       "      <td>6</td>\n",
       "      <td>2</td>\n",
       "      <td>123.39</td>\n",
       "      <td>3</td>\n",
       "      <td>323</td>\n",
       "    </tr>\n",
       "    <tr>\n",
       "      <th>13538</th>\n",
       "      <td>cb55460bf6ac4dc8b4c48623f061544c</td>\n",
       "      <td>14</td>\n",
       "      <td>134.30</td>\n",
       "      <td>0</td>\n",
       "      <td>26</td>\n",
       "      <td>4</td>\n",
       "      <td>2</td>\n",
       "      <td>14</td>\n",
       "      <td>3</td>\n",
       "      <td>134.30</td>\n",
       "      <td>3</td>\n",
       "      <td>233</td>\n",
       "    </tr>\n",
       "    <tr>\n",
       "      <th>5005</th>\n",
       "      <td>4b34026864b64d00ad0a5fa9d7dcdec2</td>\n",
       "      <td>7</td>\n",
       "      <td>150.14</td>\n",
       "      <td>0</td>\n",
       "      <td>24</td>\n",
       "      <td>6</td>\n",
       "      <td>1</td>\n",
       "      <td>7</td>\n",
       "      <td>2</td>\n",
       "      <td>150.14</td>\n",
       "      <td>3</td>\n",
       "      <td>123</td>\n",
       "    </tr>\n",
       "    <tr>\n",
       "      <th>12683</th>\n",
       "      <td>bd9640ac357e463bac65c117ca88d0a3</td>\n",
       "      <td>6</td>\n",
       "      <td>125.89</td>\n",
       "      <td>0</td>\n",
       "      <td>26</td>\n",
       "      <td>4</td>\n",
       "      <td>2</td>\n",
       "      <td>6</td>\n",
       "      <td>2</td>\n",
       "      <td>125.89</td>\n",
       "      <td>3</td>\n",
       "      <td>223</td>\n",
       "    </tr>\n",
       "  </tbody>\n",
       "</table>\n",
       "</div>"
      ],
      "text/plain": [
       "                            customer_id  purchases_count  purchase_amount  \\\n",
       "7774   754bb232d09c4cadbee345cedadf3b01               19           152.80   \n",
       "11514  abb9649acfca4fd5998d6c23e9c3a073                6           123.39   \n",
       "13538  cb55460bf6ac4dc8b4c48623f061544c               14           134.30   \n",
       "5005   4b34026864b64d00ad0a5fa9d7dcdec2                7           150.14   \n",
       "12683  bd9640ac357e463bac65c117ca88d0a3                6           125.89   \n",
       "\n",
       "       first_day  last_day  r_value  R  f_value  F  m_value  M  rfm  \n",
       "7774           0        26        4  2       19  3   152.80  3  233  \n",
       "11514          0        28        2  3        6  2   123.39  3  323  \n",
       "13538          0        26        4  2       14  3   134.30  3  233  \n",
       "5005           0        24        6  1        7  2   150.14  3  123  \n",
       "12683          0        26        4  2        6  2   125.89  3  223  "
      ]
     },
     "execution_count": 88,
     "metadata": {},
     "output_type": "execute_result"
    }
   ],
   "source": [
    "rfm.sample(5)"
   ]
  },
  {
   "cell_type": "code",
   "execution_count": 89,
   "id": "017238d8",
   "metadata": {},
   "outputs": [],
   "source": [
    "def make_segments(cell: str) -> str:\n",
    "    'присвоение типа клиенту в зависимости от RFM сегмента'\n",
    "    new_cell = ''\n",
    "\n",
    "    if cell in ['333']:\n",
    "      new_cell = 'Ключевой'\n",
    "    elif cell in ['332', '331', '322']:\n",
    "      new_cell = 'Лояльный'\n",
    "    elif cell in ['323', '233', '223']:\n",
    "      new_cell = 'Крупный'\n",
    "    elif cell in ['232', '231', '222', '221', '212', '211']:\n",
    "      new_cell = 'Неактивный'\n",
    "    elif cell in ['213', '133', '123', '113']:\n",
    "      new_cell = 'Крупный неактивный'\n",
    "    elif cell in ['321', '313', '312', '311']:\n",
    "      new_cell = 'Недавние'\n",
    "    else:\n",
    "      new_cell = 'Давние'\n",
    "\n",
    "    return new_cell"
   ]
  },
  {
   "cell_type": "code",
   "execution_count": 90,
   "id": "aa3dae11",
   "metadata": {},
   "outputs": [],
   "source": [
    "rfm['segment'] = rfm.rfm.apply(make_segments)"
   ]
  },
  {
   "cell_type": "code",
   "execution_count": 91,
   "id": "22f3f327",
   "metadata": {},
   "outputs": [
    {
     "data": {
      "text/html": [
       "<div>\n",
       "<style scoped>\n",
       "    .dataframe tbody tr th:only-of-type {\n",
       "        vertical-align: middle;\n",
       "    }\n",
       "\n",
       "    .dataframe tbody tr th {\n",
       "        vertical-align: top;\n",
       "    }\n",
       "\n",
       "    .dataframe thead th {\n",
       "        text-align: right;\n",
       "    }\n",
       "</style>\n",
       "<table border=\"1\" class=\"dataframe\">\n",
       "  <thead>\n",
       "    <tr style=\"text-align: right;\">\n",
       "      <th></th>\n",
       "      <th>customer_id</th>\n",
       "      <th>purchases_count</th>\n",
       "      <th>purchase_amount</th>\n",
       "      <th>first_day</th>\n",
       "      <th>last_day</th>\n",
       "      <th>r_value</th>\n",
       "      <th>R</th>\n",
       "      <th>f_value</th>\n",
       "      <th>F</th>\n",
       "      <th>m_value</th>\n",
       "      <th>M</th>\n",
       "      <th>rfm</th>\n",
       "      <th>segment</th>\n",
       "    </tr>\n",
       "  </thead>\n",
       "  <tbody>\n",
       "    <tr>\n",
       "      <th>1561</th>\n",
       "      <td>1852fd4c322746798b6128917e068aa7</td>\n",
       "      <td>21</td>\n",
       "      <td>66.47</td>\n",
       "      <td>0</td>\n",
       "      <td>29</td>\n",
       "      <td>1</td>\n",
       "      <td>3</td>\n",
       "      <td>21</td>\n",
       "      <td>3</td>\n",
       "      <td>66.47</td>\n",
       "      <td>2</td>\n",
       "      <td>332</td>\n",
       "      <td>Лояльный</td>\n",
       "    </tr>\n",
       "    <tr>\n",
       "      <th>9327</th>\n",
       "      <td>8bfe091b23b94182933df251c97f147b</td>\n",
       "      <td>3</td>\n",
       "      <td>44.71</td>\n",
       "      <td>0</td>\n",
       "      <td>28</td>\n",
       "      <td>2</td>\n",
       "      <td>3</td>\n",
       "      <td>3</td>\n",
       "      <td>1</td>\n",
       "      <td>44.71</td>\n",
       "      <td>2</td>\n",
       "      <td>312</td>\n",
       "      <td>Недавние</td>\n",
       "    </tr>\n",
       "    <tr>\n",
       "      <th>5472</th>\n",
       "      <td>523e72f640ea4855a1648326440d1368</td>\n",
       "      <td>9</td>\n",
       "      <td>189.10</td>\n",
       "      <td>0</td>\n",
       "      <td>30</td>\n",
       "      <td>0</td>\n",
       "      <td>3</td>\n",
       "      <td>9</td>\n",
       "      <td>2</td>\n",
       "      <td>189.10</td>\n",
       "      <td>3</td>\n",
       "      <td>323</td>\n",
       "      <td>Крупный</td>\n",
       "    </tr>\n",
       "    <tr>\n",
       "      <th>13575</th>\n",
       "      <td>cc135dddab0b484f9010cbc57220a195</td>\n",
       "      <td>3</td>\n",
       "      <td>83.59</td>\n",
       "      <td>3</td>\n",
       "      <td>26</td>\n",
       "      <td>4</td>\n",
       "      <td>2</td>\n",
       "      <td>3</td>\n",
       "      <td>1</td>\n",
       "      <td>83.59</td>\n",
       "      <td>2</td>\n",
       "      <td>212</td>\n",
       "      <td>Неактивный</td>\n",
       "    </tr>\n",
       "    <tr>\n",
       "      <th>12770</th>\n",
       "      <td>bef9600c1509404e87c68c053d1b95e5</td>\n",
       "      <td>6</td>\n",
       "      <td>130.00</td>\n",
       "      <td>0</td>\n",
       "      <td>28</td>\n",
       "      <td>2</td>\n",
       "      <td>3</td>\n",
       "      <td>6</td>\n",
       "      <td>2</td>\n",
       "      <td>130.00</td>\n",
       "      <td>3</td>\n",
       "      <td>323</td>\n",
       "      <td>Крупный</td>\n",
       "    </tr>\n",
       "  </tbody>\n",
       "</table>\n",
       "</div>"
      ],
      "text/plain": [
       "                            customer_id  purchases_count  purchase_amount  \\\n",
       "1561   1852fd4c322746798b6128917e068aa7               21            66.47   \n",
       "9327   8bfe091b23b94182933df251c97f147b                3            44.71   \n",
       "5472   523e72f640ea4855a1648326440d1368                9           189.10   \n",
       "13575  cc135dddab0b484f9010cbc57220a195                3            83.59   \n",
       "12770  bef9600c1509404e87c68c053d1b95e5                6           130.00   \n",
       "\n",
       "       first_day  last_day  r_value  R  f_value  F  m_value  M  rfm  \\\n",
       "1561           0        29        1  3       21  3    66.47  2  332   \n",
       "9327           0        28        2  3        3  1    44.71  2  312   \n",
       "5472           0        30        0  3        9  2   189.10  3  323   \n",
       "13575          3        26        4  2        3  1    83.59  2  212   \n",
       "12770          0        28        2  3        6  2   130.00  3  323   \n",
       "\n",
       "          segment  \n",
       "1561     Лояльный  \n",
       "9327     Недавние  \n",
       "5472      Крупный  \n",
       "13575  Неактивный  \n",
       "12770     Крупный  "
      ]
     },
     "execution_count": 91,
     "metadata": {},
     "output_type": "execute_result"
    }
   ],
   "source": [
    "rfm.sample(5)"
   ]
  },
  {
   "cell_type": "code",
   "execution_count": 92,
   "id": "6f9f4295",
   "metadata": {},
   "outputs": [
    {
     "data": {
      "text/html": [
       "<style type=\"text/css\">\n",
       "#T_bce43_row0_col1, #T_bce43_row1_col3, #T_bce43_row6_col2 {\n",
       "  background-color: lightcoral;\n",
       "}\n",
       "</style>\n",
       "<table id=\"T_bce43\">\n",
       "  <thead>\n",
       "    <tr>\n",
       "      <th class=\"blank level0\" >&nbsp;</th>\n",
       "      <th id=\"T_bce43_level0_col0\" class=\"col_heading level0 col0\" >segment</th>\n",
       "      <th id=\"T_bce43_level0_col1\" class=\"col_heading level0 col1\" >clients_count</th>\n",
       "      <th id=\"T_bce43_level0_col2\" class=\"col_heading level0 col2\" >segment_income</th>\n",
       "      <th id=\"T_bce43_level0_col3\" class=\"col_heading level0 col3\" >recency</th>\n",
       "    </tr>\n",
       "  </thead>\n",
       "  <tbody>\n",
       "    <tr>\n",
       "      <th id=\"T_bce43_level0_row0\" class=\"row_heading level0 row0\" >0</th>\n",
       "      <td id=\"T_bce43_row0_col0\" class=\"data row0 col0\" >Давние</td>\n",
       "      <td id=\"T_bce43_row0_col1\" class=\"data row0 col1\" >3381</td>\n",
       "      <td id=\"T_bce43_row0_col2\" class=\"data row0 col2\" >121181.41</td>\n",
       "      <td id=\"T_bce43_row0_col3\" class=\"data row0 col3\" >6.34</td>\n",
       "    </tr>\n",
       "    <tr>\n",
       "      <th id=\"T_bce43_level0_row1\" class=\"row_heading level0 row1\" >1</th>\n",
       "      <td id=\"T_bce43_row1_col0\" class=\"data row1 col0\" >Ключевой</td>\n",
       "      <td id=\"T_bce43_row1_col1\" class=\"data row1 col1\" >2137</td>\n",
       "      <td id=\"T_bce43_row1_col2\" class=\"data row1 col2\" >540175.97</td>\n",
       "      <td id=\"T_bce43_row1_col3\" class=\"data row1 col3\" >1.17</td>\n",
       "    </tr>\n",
       "    <tr>\n",
       "      <th id=\"T_bce43_level0_row2\" class=\"row_heading level0 row2\" >2</th>\n",
       "      <td id=\"T_bce43_row2_col0\" class=\"data row2 col0\" >Крупный</td>\n",
       "      <td id=\"T_bce43_row2_col1\" class=\"data row2 col1\" >2673</td>\n",
       "      <td id=\"T_bce43_row2_col2\" class=\"data row2 col2\" >566260.34</td>\n",
       "      <td id=\"T_bce43_row2_col3\" class=\"data row2 col3\" >2.56</td>\n",
       "    </tr>\n",
       "    <tr>\n",
       "      <th id=\"T_bce43_level0_row3\" class=\"row_heading level0 row3\" >3</th>\n",
       "      <td id=\"T_bce43_row3_col0\" class=\"data row3 col0\" >Крупный неактивный</td>\n",
       "      <td id=\"T_bce43_row3_col1\" class=\"data row3 col1\" >1154</td>\n",
       "      <td id=\"T_bce43_row3_col2\" class=\"data row3 col2\" >248556.33</td>\n",
       "      <td id=\"T_bce43_row3_col3\" class=\"data row3 col3\" >5.86</td>\n",
       "    </tr>\n",
       "    <tr>\n",
       "      <th id=\"T_bce43_level0_row4\" class=\"row_heading level0 row4\" >4</th>\n",
       "      <td id=\"T_bce43_row4_col0\" class=\"data row4 col0\" >Лояльный</td>\n",
       "      <td id=\"T_bce43_row4_col1\" class=\"data row4 col1\" >2357</td>\n",
       "      <td id=\"T_bce43_row4_col2\" class=\"data row4 col2\" >139850.10</td>\n",
       "      <td id=\"T_bce43_row4_col3\" class=\"data row4 col3\" >1.19</td>\n",
       "    </tr>\n",
       "    <tr>\n",
       "      <th id=\"T_bce43_level0_row5\" class=\"row_heading level0 row5\" >5</th>\n",
       "      <td id=\"T_bce43_row5_col0\" class=\"data row5 col0\" >Неактивный</td>\n",
       "      <td id=\"T_bce43_row5_col1\" class=\"data row5 col1\" >2695</td>\n",
       "      <td id=\"T_bce43_row5_col2\" class=\"data row5 col2\" >113714.97</td>\n",
       "      <td id=\"T_bce43_row5_col3\" class=\"data row5 col3\" >3.60</td>\n",
       "    </tr>\n",
       "    <tr>\n",
       "      <th id=\"T_bce43_level0_row6\" class=\"row_heading level0 row6\" >6</th>\n",
       "      <td id=\"T_bce43_row6_col0\" class=\"data row6 col0\" >Недавние</td>\n",
       "      <td id=\"T_bce43_row6_col1\" class=\"data row6 col1\" >2603</td>\n",
       "      <td id=\"T_bce43_row6_col2\" class=\"data row6 col2\" >109396.22</td>\n",
       "      <td id=\"T_bce43_row6_col3\" class=\"data row6 col3\" >1.26</td>\n",
       "    </tr>\n",
       "  </tbody>\n",
       "</table>\n"
      ],
      "text/plain": [
       "<pandas.io.formats.style.Styler at 0x7ff25d4ebe50>"
      ]
     },
     "execution_count": 92,
     "metadata": {},
     "output_type": "execute_result"
    }
   ],
   "source": [
    "rfm.groupby('segment').agg({'customer_id': 'nunique',\n",
    "                            'purchase_amount': 'sum',\n",
    "                            'r_value': 'mean'}).reset_index().rename(columns={\n",
    "                                'customer_id': 'clients_count',\n",
    "                                'purchase_amount': 'segment_income',\n",
    "                                'r_value': 'recency'\n",
    "                            }).style.highlight_max(subset=['clients_count'], color='lightcoral')\\\n",
    "                          .highlight_min(subset=['segment_income', 'recency'], color='lightcoral')\\\n",
    "                          .format({'recency': '{:.2f}', 'segment_income': '{:.2f}'})\n",
    "                          \n"
   ]
  },
  {
   "cell_type": "markdown",
   "id": "5c885ad9",
   "metadata": {},
   "source": [
    "Какие акции повлияли на эти сегменты:"
   ]
  },
  {
   "cell_type": "code",
   "execution_count": 93,
   "id": "55aa0d66",
   "metadata": {},
   "outputs": [],
   "source": [
    "customers = customers.merge(rfm[['customer_id', 'segment']], on='customer_id')"
   ]
  },
  {
   "cell_type": "code",
   "execution_count": 94,
   "id": "ba182ea0",
   "metadata": {
    "scrolled": true
   },
   "outputs": [],
   "source": [
    "events = events.merge(rfm[['customer_id', 'segment']], on='customer_id')"
   ]
  },
  {
   "cell_type": "markdown",
   "id": "45e791f9",
   "metadata": {},
   "source": [
    "### Портрет клиентов "
   ]
  },
  {
   "cell_type": "markdown",
   "id": "1369e764",
   "metadata": {},
   "source": [
    "#### Категории по возрастам"
   ]
  },
  {
   "cell_type": "markdown",
   "id": "850c5a18",
   "metadata": {},
   "source": [
    "Категории:\n",
    "\n",
    "- < 25\n",
    "- 25-44\n",
    "- 45-59\n",
    "- 60-74\n",
    "- 75 +"
   ]
  },
  {
   "cell_type": "code",
   "execution_count": 95,
   "id": "88cacbcc",
   "metadata": {},
   "outputs": [],
   "source": [
    "age = customers[customers['age'] < 118]"
   ]
  },
  {
   "cell_type": "code",
   "execution_count": 96,
   "id": "9cae7c80",
   "metadata": {},
   "outputs": [
    {
     "name": "stdout",
     "output_type": "stream",
     "text": [
      "минимальный возраст: 18\n",
      "максимальный возраст: 101\n",
      "медианный возраст: 55\n",
      "средний возраст: 54\n"
     ]
    },
    {
     "data": {
      "image/png": "[encoded data removed]",
      "text/plain": [
       "<Figure size 1000x500 with 1 Axes>"
      ]
     },
     "metadata": {},
     "output_type": "display_data"
    }
   ],
   "source": [
    "print('минимальный возраст:', age['age'].min())\n",
    "print('максимальный возраст:', age['age'].max())\n",
    "print('медианный возраст:', round(age['age'].median()))\n",
    "print('средний возраст:', round(age['age'].mean()))\n",
    "\n",
    "age = age.groupby('age', as_index=False).agg({'customer_id':'count'})\n",
    "\n",
    "fig, ax = plt.subplots(figsize=(10,5))\n",
    "ax.bar(age['age'], age['customer_id']) \n",
    "ax.set_ylabel('Количество клиентов')\n",
    "ax.set_xlabel('Возраст')\n",
    "ax.set_title('Распределение возраста клиентов')\n",
    "plt.show()"
   ]
  },
  {
   "cell_type": "code",
   "execution_count": 97,
   "id": "15b6dc72",
   "metadata": {},
   "outputs": [],
   "source": [
    "# формула классификации\n",
    "\n",
    "def categorization_age(age):\n",
    "    if (age != age):\n",
    "        return np.nan\n",
    "    age = int(age)\n",
    "    if (age == 118):\n",
    "        return 'не указан'\n",
    "    elif (age <= 25):\n",
    "        return '< 25'\n",
    "    elif (age <= 44):\n",
    "        return '26 - 44'\n",
    "    elif (age <= 59):\n",
    "        return '45 - 59'\n",
    "    elif (age <= 74):\n",
    "        return '60 - 74'\n",
    "    else:\n",
    "        return '75 +'\n",
    "\n",
    "customers['age_category'] = customers['age'].apply(categorization_age)\n",
    "\n",
    "# создаем таблицу\n",
    "age_by_category = customers.groupby(['age_category'], as_index=False).agg(\n",
    "    count=('customer_id', 'count'))\n"
   ]
  },
  {
   "cell_type": "code",
   "execution_count": 98,
   "id": "d5b4c8cb",
   "metadata": {},
   "outputs": [
    {
     "data": {
      "text/html": [
       "<div>\n",
       "<style scoped>\n",
       "    .dataframe tbody tr th:only-of-type {\n",
       "        vertical-align: middle;\n",
       "    }\n",
       "\n",
       "    .dataframe tbody tr th {\n",
       "        vertical-align: top;\n",
       "    }\n",
       "\n",
       "    .dataframe thead th {\n",
       "        text-align: right;\n",
       "    }\n",
       "</style>\n",
       "<table border=\"1\" class=\"dataframe\">\n",
       "  <thead>\n",
       "    <tr style=\"text-align: right;\">\n",
       "      <th></th>\n",
       "      <th>age_category</th>\n",
       "      <th>count</th>\n",
       "    </tr>\n",
       "  </thead>\n",
       "  <tbody>\n",
       "    <tr>\n",
       "      <th>0</th>\n",
       "      <td>26 - 44</td>\n",
       "      <td>3113</td>\n",
       "    </tr>\n",
       "    <tr>\n",
       "      <th>1</th>\n",
       "      <td>45 - 59</td>\n",
       "      <td>4825</td>\n",
       "    </tr>\n",
       "    <tr>\n",
       "      <th>2</th>\n",
       "      <td>60 - 74</td>\n",
       "      <td>4066</td>\n",
       "    </tr>\n",
       "    <tr>\n",
       "      <th>3</th>\n",
       "      <td>75 +</td>\n",
       "      <td>1809</td>\n",
       "    </tr>\n",
       "    <tr>\n",
       "      <th>4</th>\n",
       "      <td>&lt; 25</td>\n",
       "      <td>1012</td>\n",
       "    </tr>\n",
       "    <tr>\n",
       "      <th>5</th>\n",
       "      <td>не указан</td>\n",
       "      <td>2175</td>\n",
       "    </tr>\n",
       "  </tbody>\n",
       "</table>\n",
       "</div>"
      ],
      "text/plain": [
       "  age_category  count\n",
       "0      26 - 44   3113\n",
       "1      45 - 59   4825\n",
       "2      60 - 74   4066\n",
       "3         75 +   1809\n",
       "4         < 25   1012\n",
       "5    не указан   2175"
      ]
     },
     "execution_count": 98,
     "metadata": {},
     "output_type": "execute_result"
    }
   ],
   "source": [
    "age_by_category"
   ]
  },
  {
   "cell_type": "markdown",
   "id": "e5fa24a7",
   "metadata": {},
   "source": [
    "#### Категории по доходам"
   ]
  },
  {
   "cell_type": "code",
   "execution_count": 99,
   "id": "85af3c49",
   "metadata": {},
   "outputs": [],
   "source": [
    "income = customers[customers['income'] != 1111]"
   ]
  },
  {
   "cell_type": "markdown",
   "id": "ca499bc8",
   "metadata": {},
   "source": [
    "print('минимальный возраст:', income['income'].min())\n",
    "print('максимальный возраст:', income['income'].max())\n",
    "print('медианный возраст:', round(income['income'].median()))\n",
    "print('средний возраст:', round(income['income'].mean()))\n",
    "\n",
    "income = income.groupby('income', as_index=False).agg({'customer_id':'count'})\n",
    "\n",
    "fig, ax = plt.subplots(figsize=(10,5))\n",
    "ax.bar(income['income'], income['customer_id']) \n",
    "ax.set_ylabel('Количество клиентов')\n",
    "ax.set_xlabel('Возраст')\n",
    "ax.set_title('Распределение возраста клиентов')\n",
    "plt.show()"
   ]
  },
  {
   "cell_type": "code",
   "execution_count": 100,
   "id": "1feda285",
   "metadata": {},
   "outputs": [],
   "source": [
    "def categorization_income(income):\n",
    "    if (income != income):\n",
    "        return np.nan\n",
    "    income = int(income)\n",
    "    if (income == 1111):\n",
    "        return 'не указан'\n",
    "    elif (income <= 59000):\n",
    "        return '30-59к'\n",
    "    elif (income <= 89000):\n",
    "        return '60-89к'\n",
    "    else:\n",
    "        return '90-120к'\n",
    "\n",
    "customers['income_category'] = customers['income'].apply(categorization_income)\n",
    "\n",
    "# создаем таблицу\n",
    "income_by_category = customers.groupby(['income_category'], as_index=False).agg(count=('customer_id', 'count'))"
   ]
  },
  {
   "cell_type": "code",
   "execution_count": 101,
   "id": "a831783c",
   "metadata": {},
   "outputs": [
    {
     "data": {
      "text/html": [
       "<div>\n",
       "<style scoped>\n",
       "    .dataframe tbody tr th:only-of-type {\n",
       "        vertical-align: middle;\n",
       "    }\n",
       "\n",
       "    .dataframe tbody tr th {\n",
       "        vertical-align: top;\n",
       "    }\n",
       "\n",
       "    .dataframe thead th {\n",
       "        text-align: right;\n",
       "    }\n",
       "</style>\n",
       "<table border=\"1\" class=\"dataframe\">\n",
       "  <thead>\n",
       "    <tr style=\"text-align: right;\">\n",
       "      <th></th>\n",
       "      <th>income_category</th>\n",
       "      <th>count</th>\n",
       "    </tr>\n",
       "  </thead>\n",
       "  <tbody>\n",
       "    <tr>\n",
       "      <th>0</th>\n",
       "      <td>30-59к</td>\n",
       "      <td>6442</td>\n",
       "    </tr>\n",
       "    <tr>\n",
       "      <th>1</th>\n",
       "      <td>60-89к</td>\n",
       "      <td>6075</td>\n",
       "    </tr>\n",
       "    <tr>\n",
       "      <th>2</th>\n",
       "      <td>90-120к</td>\n",
       "      <td>2308</td>\n",
       "    </tr>\n",
       "    <tr>\n",
       "      <th>3</th>\n",
       "      <td>не указан</td>\n",
       "      <td>2175</td>\n",
       "    </tr>\n",
       "  </tbody>\n",
       "</table>\n",
       "</div>"
      ],
      "text/plain": [
       "  income_category  count\n",
       "0          30-59к   6442\n",
       "1          60-89к   6075\n",
       "2         90-120к   2308\n",
       "3       не указан   2175"
      ]
     },
     "execution_count": 101,
     "metadata": {},
     "output_type": "execute_result"
    }
   ],
   "source": [
    "income_by_category"
   ]
  },
  {
   "cell_type": "code",
   "execution_count": null,
   "id": "2ed3ea69",
   "metadata": {},
   "outputs": [],
   "source": []
  },
  {
   "cell_type": "markdown",
   "id": "ab79600e",
   "metadata": {},
   "source": [
    "## скачиваю файл"
   ]
  },
  {
   "cell_type": "code",
   "execution_count": 115,
   "id": "71d43c46",
   "metadata": {},
   "outputs": [],
   "source": [
    "#customers.to_csv('/Users/dajaanakurbatova/Downloads/работа/проект maven/edited_customers.csv', index=False)\n"
   ]
  },
  {
   "cell_type": "code",
   "execution_count": 116,
   "id": "b768444f",
   "metadata": {},
   "outputs": [],
   "source": [
    "#events.to_csv('/Users/dajaanakurbatova/Downloads/работа/проект maven/edited_events.csv', index=False)"
   ]
  },
  {
   "cell_type": "code",
   "execution_count": null,
   "id": "f0cd5c1d",
   "metadata": {},
   "outputs": [],
   "source": []
  }
 ],
 "metadata": {
  "kernelspec": {
   "display_name": "Python 3 (ipykernel)",
   "language": "python",
   "name": "python3"
  },
  "language_info": {
   "codemirror_mode": {
    "name": "ipython",
    "version": 3
   },
   "file_extension": ".py",
   "mimetype": "text/x-python",
   "name": "python",
   "nbconvert_exporter": "python",
   "pygments_lexer": "ipython3",
   "version": "3.9.15"
  },
  "toc": {
   "base_numbering": 1,
   "nav_menu": {},
   "number_sections": true,
   "sideBar": true,
   "skip_h1_title": true,
   "title_cell": "Table of Contents",
   "title_sidebar": "Contents",
   "toc_cell": true,
   "toc_position": {
    "height": "calc(100% - 180px)",
    "left": "10px",
    "top": "150px",
    "width": "177px"
   },
   "toc_section_display": true,
   "toc_window_display": true
  }
 },
 "nbformat": 4,
 "nbformat_minor": 5
}
