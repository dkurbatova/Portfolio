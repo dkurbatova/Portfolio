{
 "cells": [
  {
   "cell_type": "markdown",
   "id": "fda32c9f",
   "metadata": {
    "toc": true
   },
   "source": [
    "<h1>Table of Contents<span class=\"tocSkip\"></span></h1>\n",
    "<div class=\"toc\"><ul class=\"toc-item\"><li><span><a href=\"#Загрузка-данных-и-подготовка-их-к-анализу\" data-toc-modified-id=\"Загрузка-данных-и-подготовка-их-к-анализу-1\"><span class=\"toc-item-num\">1&nbsp;&nbsp;</span>Загрузка данных и подготовка их к анализу</a></span><ul class=\"toc-item\"><li><span><a href=\"#Загрузка-данных\" data-toc-modified-id=\"Загрузка-данных-1.1\"><span class=\"toc-item-num\">1.1&nbsp;&nbsp;</span>Загрузка данных</a></span></li><li><span><a href=\"#Предобработка-данных\" data-toc-modified-id=\"Предобработка-данных-1.2\"><span class=\"toc-item-num\">1.2&nbsp;&nbsp;</span>Предобработка данных</a></span></li></ul></li><li><span><a href=\"#Приоритизация-гипотез\" data-toc-modified-id=\"Приоритизация-гипотез-2\"><span class=\"toc-item-num\">2&nbsp;&nbsp;</span>Приоритизация гипотез</a></span><ul class=\"toc-item\"><li><span><a href=\"#Применение-фреймворка-ICE-для-приоритизации-гипотез.\" data-toc-modified-id=\"Применение-фреймворка-ICE-для-приоритизации-гипотез.-2.1\"><span class=\"toc-item-num\">2.1&nbsp;&nbsp;</span>Применение фреймворка ICE для приоритизации гипотез.</a></span></li><li><span><a href=\"#Применение-фреймворка-RICE-для-приоритизации-гипотез.\" data-toc-modified-id=\"Применение-фреймворка-RICE-для-приоритизации-гипотез.-2.2\"><span class=\"toc-item-num\">2.2&nbsp;&nbsp;</span>Применение фреймворка RICE для приоритизации гипотез.</a></span></li></ul></li><li><span><a href=\"#Анализ-A/B-теста\" data-toc-modified-id=\"Анализ-A/B-теста-3\"><span class=\"toc-item-num\">3&nbsp;&nbsp;</span>Анализ A/B-теста</a></span><ul class=\"toc-item\"><li><span><a href=\"#Стабильность-кумулятивных-метрик\" data-toc-modified-id=\"Стабильность-кумулятивных-метрик-3.1\"><span class=\"toc-item-num\">3.1&nbsp;&nbsp;</span>Стабильность кумулятивных метрик</a></span><ul class=\"toc-item\"><li><span><a href=\"#График-кумулятивной-выручки-по-группам\" data-toc-modified-id=\"График-кумулятивной-выручки-по-группам-3.1.1\"><span class=\"toc-item-num\">3.1.1&nbsp;&nbsp;</span>График кумулятивной выручки по группам</a></span></li><li><span><a href=\"#График-кумулятивного-среднего-чека-по-группам\" data-toc-modified-id=\"График-кумулятивного-среднего-чека-по-группам-3.1.2\"><span class=\"toc-item-num\">3.1.2&nbsp;&nbsp;</span>График кумулятивного среднего чека по группам</a></span></li><li><span><a href=\"#График-относительного-изменения-кумулятивного-среднего-чека-группы-B-к-группе-A\" data-toc-modified-id=\"График-относительного-изменения-кумулятивного-среднего-чека-группы-B-к-группе-A-3.1.3\"><span class=\"toc-item-num\">3.1.3&nbsp;&nbsp;</span>График относительного изменения кумулятивного среднего чека группы B к группе A</a></span></li><li><span><a href=\"#График-кумулятивного-среднего-количества-заказов-на-посетителя-по-группам\" data-toc-modified-id=\"График-кумулятивного-среднего-количества-заказов-на-посетителя-по-группам-3.1.4\"><span class=\"toc-item-num\">3.1.4&nbsp;&nbsp;</span>График кумулятивного среднего количества заказов на посетителя по группам</a></span></li><li><span><a href=\"#График-относительного-изменения-кумулятивного-среднего-количества-заказов-на-посетителя-группы-B-к-группе-A\" data-toc-modified-id=\"График-относительного-изменения-кумулятивного-среднего-количества-заказов-на-посетителя-группы-B-к-группе-A-3.1.5\"><span class=\"toc-item-num\">3.1.5&nbsp;&nbsp;</span>График относительного изменения кумулятивного среднего количества заказов на посетителя группы B к группе A</a></span></li></ul></li><li><span><a href=\"#Анализ-выбросов-и-всплесков\" data-toc-modified-id=\"Анализ-выбросов-и-всплесков-3.2\"><span class=\"toc-item-num\">3.2&nbsp;&nbsp;</span>Анализ выбросов и всплесков</a></span><ul class=\"toc-item\"><li><span><a href=\"#Точечный-график-количества-заказов-по-пользователям\" data-toc-modified-id=\"Точечный-график-количества-заказов-по-пользователям-3.2.1\"><span class=\"toc-item-num\">3.2.1&nbsp;&nbsp;</span>Точечный график количества заказов по пользователям</a></span></li><li><span><a href=\"#Граница-заказов-для-определения-аномальных-пользователей\" data-toc-modified-id=\"Граница-заказов-для-определения-аномальных-пользователей-3.2.2\"><span class=\"toc-item-num\">3.2.2&nbsp;&nbsp;</span>Граница заказов для определения аномальных пользователей</a></span></li><li><span><a href=\"#График-стоимостей-заказов\" data-toc-modified-id=\"График-стоимостей-заказов-3.2.3\"><span class=\"toc-item-num\">3.2.3&nbsp;&nbsp;</span>График стоимостей заказов</a></span></li><li><span><a href=\"#Граница-для-определения-аномальных-заказов.\" data-toc-modified-id=\"Граница-для-определения-аномальных-заказов.-3.2.4\"><span class=\"toc-item-num\">3.2.4&nbsp;&nbsp;</span>Граница для определения аномальных заказов.</a></span></li><li><span><a href=\"#Различия-в-среднем-количестве-заказов-на-посетителя-между-группами-по-«сырым»-данным.\" data-toc-modified-id=\"Различия-в-среднем-количестве-заказов-на-посетителя-между-группами-по-«сырым»-данным.-3.2.5\"><span class=\"toc-item-num\">3.2.5&nbsp;&nbsp;</span>Различия в среднем количестве заказов на посетителя между группами по «сырым» данным.</a></span></li><li><span><a href=\"#Различия-в-среднем-чеке-заказа-между-группами-по-«сырым»-данным.\" data-toc-modified-id=\"Различия-в-среднем-чеке-заказа-между-группами-по-«сырым»-данным.-3.2.6\"><span class=\"toc-item-num\">3.2.6&nbsp;&nbsp;</span>Различия в среднем чеке заказа между группами по «сырым» данным.</a></span></li><li><span><a href=\"#Различия-в-среднем-количестве-заказов-на-посетителя-между-группами-по-«очищенным»-данным.\" data-toc-modified-id=\"Различия-в-среднем-количестве-заказов-на-посетителя-между-группами-по-«очищенным»-данным.-3.2.7\"><span class=\"toc-item-num\">3.2.7&nbsp;&nbsp;</span>Различия в среднем количестве заказов на посетителя между группами по «очищенным» данным.</a></span></li><li><span><a href=\"#Различия-в-среднем-чеке-заказа-между-группами-по-«очищенным»-данным.\" data-toc-modified-id=\"Различия-в-среднем-чеке-заказа-между-группами-по-«очищенным»-данным.-3.2.8\"><span class=\"toc-item-num\">3.2.8&nbsp;&nbsp;</span>Различия в среднем чеке заказа между группами по «очищенным» данным.</a></span></li></ul></li><li><span><a href=\"#Общие-выводы\" data-toc-modified-id=\"Общие-выводы-3.3\"><span class=\"toc-item-num\">3.3&nbsp;&nbsp;</span>Общие выводы</a></span></li></ul></li></ul></div>"
   ]
  },
  {
   "cell_type": "markdown",
   "id": "6446c571",
   "metadata": {},
   "source": [
    "# Проверка гипотез для увеличения выручки интернет-магазина."
   ]
  },
  {
   "cell_type": "markdown",
   "id": "140bb3b6",
   "metadata": {},
   "source": [
    "Есть данные о пользователях интернет-магазина. Вместе с отделом маркетинга вы подготовили список гипотез для увеличения выручки:\n",
    "- Добавить два новых канала привлечения трафика, что позволит привлекать на 30% больше пользователей\n",
    "- Запустить собственную службу доставки, что сократит срок доставки заказов\n",
    "- Добавить блоки рекомендаций товаров на сайт интернет магазина, чтобы повысить конверсию и средний чек заказа\n",
    "- Изменить структуру категорий, что увеличит конверсию, т.к. пользователи быстрее найдут нужный товар\n",
    "- Изменить цвет фона главной страницы, чтобы увеличить вовлеченность пользователей\n",
    "- Добавить страницу отзывов клиентов о магазине, что позволит увеличить количество заказов\n",
    "- Показать на главной странице баннеры с актуальными акциями и распродажами, чтобы увеличить конверсию\n",
    "- Добавить форму подписки на все основные страницы, чтобы собрать базу клиентов для email-рассылок\n",
    "- Запустить акцию, дающую скидку на товар в день рождения\n",
    "\n",
    "**Задачи исследования:** \n",
    "\n",
    "- Приоритизировать гипотезы \n",
    "- Запустите A/B-тест\n",
    "- Проанализировать результаты\n",
    "\n",
    "**Ход исследования:**\n",
    "\n",
    "Данные для анализа я получу из файлов:\n",
    "1) гипотезы: `datasets/hypothesis.csv`.\n",
    "- Hypothesis — краткое описание гипотезы;\n",
    "- Reach — охват пользователей по 10-балльной шкале;\n",
    "- Impact — влияние на пользователей по 10-балльной шкале;\n",
    "- Confidence — уверенность в гипотезе по 10-балльной шкале;\n",
    "- Efforts — затраты ресурсов на проверку гипотезы по 10-балльной шкале. Чем больше значение Efforts, тем дороже проверка гипотезы.\n",
    "2) заказы: `datasets/orders.csv`.\n",
    "- transactionId — идентификатор заказа;\n",
    "- visitorId — идентификатор пользователя, совершившего заказ;\n",
    "- date — дата, когда был совершён заказ;\n",
    "- revenue — выручка заказа;\n",
    "- group — группа A/B-теста, в которую попал заказ.\n",
    "3) визиты: `datasets/visits.csv`.\n",
    "- date — дата;\n",
    "- group — группа A/B-теста;\n",
    "- visitors — количество пользователей в указанную дату в указанной группе A/B-теста\n",
    "\n",
    "О качестве данных ничего не известно, поэтому нужно будет сделать обзор данных, при необходимости проведу предобработку данных. Далее загружу функции, которые понядобятся в исследовании, и приступлю к анализу. \n",
    "\n",
    "Таким образом исследование будет состоять из 4 этапов:\n",
    "1) Загрузка данных и подготовка к анализу\n",
    "2) Приоритизация гипотез\n",
    "3) Анализ A/B-теста\n",
    "4) Выводы"
   ]
  },
  {
   "cell_type": "markdown",
   "id": "179a8476",
   "metadata": {},
   "source": [
    "## Загрузка данных и подготовка их к анализу"
   ]
  },
  {
   "cell_type": "markdown",
   "id": "d8659bda",
   "metadata": {},
   "source": [
    "### Загрузка данных"
   ]
  },
  {
   "cell_type": "code",
   "execution_count": 1,
   "id": "94f84d92",
   "metadata": {},
   "outputs": [
    {
     "name": "stderr",
     "output_type": "stream",
     "text": [
      "/Users/dajaanakurbatova/opt/anaconda3/envs/practicum/lib/python3.9/site-packages/scipy/__init__.py:146: UserWarning: A NumPy version >=1.16.5 and <1.23.0 is required for this version of SciPy (detected version 1.24.3\n",
      "  warnings.warn(f\"A NumPy version >={np_minversion} and <{np_maxversion}\"\n"
     ]
    }
   ],
   "source": [
    "import pandas as pd\n",
    "import numpy as np\n",
    "import matplotlib.pyplot as plt\n",
    "import seaborn as sns\n",
    "from datetime import datetime, timedelta\n",
    "import scipy.stats as stats\n",
    "import math as mth"
   ]
  },
  {
   "cell_type": "code",
   "execution_count": 2,
   "id": "2c4e2cd6",
   "metadata": {},
   "outputs": [],
   "source": [
    "try:\n",
    "    hypothesis = pd.read_csv('hypothesis.csv')\n",
    "except:\n",
    "    hypothesis = pd.read_csv('/datasets/hypothesis.csv')"
   ]
  },
  {
   "cell_type": "code",
   "execution_count": 3,
   "id": "d746760c",
   "metadata": {},
   "outputs": [],
   "source": [
    "try:\n",
    "    orders = pd.read_csv('orders.csv')\n",
    "except:\n",
    "    orders = pd.read_csv('/datasets/orders.csv')"
   ]
  },
  {
   "cell_type": "code",
   "execution_count": 4,
   "id": "5a7fa8fe",
   "metadata": {},
   "outputs": [],
   "source": [
    "try:\n",
    "    visitors = pd.read_csv('visitors.csv')\n",
    "except:\n",
    "    visitors = pd.read_csv('/datasets/visitors.csv')"
   ]
  },
  {
   "cell_type": "markdown",
   "id": "5f84fc5d",
   "metadata": {},
   "source": [
    "### Предобработка данных"
   ]
  },
  {
   "cell_type": "code",
   "execution_count": 5,
   "id": "6f4d827f",
   "metadata": {
    "scrolled": false
   },
   "outputs": [
    {
     "name": "stdout",
     "output_type": "stream",
     "text": [
      "<class 'pandas.core.frame.DataFrame'>\n",
      "RangeIndex: 9 entries, 0 to 8\n",
      "Data columns (total 5 columns):\n",
      " #   Column      Non-Null Count  Dtype \n",
      "---  ------      --------------  ----- \n",
      " 0   Hypothesis  9 non-null      object\n",
      " 1   Reach       9 non-null      int64 \n",
      " 2   Impact      9 non-null      int64 \n",
      " 3   Confidence  9 non-null      int64 \n",
      " 4   Efforts     9 non-null      int64 \n",
      "dtypes: int64(4), object(1)\n",
      "memory usage: 488.0+ bytes\n"
     ]
    },
    {
     "data": {
      "text/html": [
       "<div>\n",
       "<style scoped>\n",
       "    .dataframe tbody tr th:only-of-type {\n",
       "        vertical-align: middle;\n",
       "    }\n",
       "\n",
       "    .dataframe tbody tr th {\n",
       "        vertical-align: top;\n",
       "    }\n",
       "\n",
       "    .dataframe thead th {\n",
       "        text-align: right;\n",
       "    }\n",
       "</style>\n",
       "<table border=\"1\" class=\"dataframe\">\n",
       "  <thead>\n",
       "    <tr style=\"text-align: right;\">\n",
       "      <th></th>\n",
       "      <th>Hypothesis</th>\n",
       "      <th>Reach</th>\n",
       "      <th>Impact</th>\n",
       "      <th>Confidence</th>\n",
       "      <th>Efforts</th>\n",
       "    </tr>\n",
       "  </thead>\n",
       "  <tbody>\n",
       "    <tr>\n",
       "      <th>0</th>\n",
       "      <td>Добавить два новых канала привлечения трафика,...</td>\n",
       "      <td>3</td>\n",
       "      <td>10</td>\n",
       "      <td>8</td>\n",
       "      <td>6</td>\n",
       "    </tr>\n",
       "    <tr>\n",
       "      <th>1</th>\n",
       "      <td>Запустить собственную службу доставки, что сок...</td>\n",
       "      <td>2</td>\n",
       "      <td>5</td>\n",
       "      <td>4</td>\n",
       "      <td>10</td>\n",
       "    </tr>\n",
       "    <tr>\n",
       "      <th>2</th>\n",
       "      <td>Добавить блоки рекомендаций товаров на сайт ин...</td>\n",
       "      <td>8</td>\n",
       "      <td>3</td>\n",
       "      <td>7</td>\n",
       "      <td>3</td>\n",
       "    </tr>\n",
       "    <tr>\n",
       "      <th>3</th>\n",
       "      <td>Изменить структура категорий, что увеличит кон...</td>\n",
       "      <td>8</td>\n",
       "      <td>3</td>\n",
       "      <td>3</td>\n",
       "      <td>8</td>\n",
       "    </tr>\n",
       "    <tr>\n",
       "      <th>4</th>\n",
       "      <td>Изменить цвет фона главной страницы, чтобы уве...</td>\n",
       "      <td>3</td>\n",
       "      <td>1</td>\n",
       "      <td>1</td>\n",
       "      <td>1</td>\n",
       "    </tr>\n",
       "    <tr>\n",
       "      <th>5</th>\n",
       "      <td>Добавить страницу отзывов клиентов о магазине,...</td>\n",
       "      <td>3</td>\n",
       "      <td>2</td>\n",
       "      <td>2</td>\n",
       "      <td>3</td>\n",
       "    </tr>\n",
       "    <tr>\n",
       "      <th>6</th>\n",
       "      <td>Показать на главной странице баннеры с актуаль...</td>\n",
       "      <td>5</td>\n",
       "      <td>3</td>\n",
       "      <td>8</td>\n",
       "      <td>3</td>\n",
       "    </tr>\n",
       "    <tr>\n",
       "      <th>7</th>\n",
       "      <td>Добавить форму подписки на все основные страни...</td>\n",
       "      <td>10</td>\n",
       "      <td>7</td>\n",
       "      <td>8</td>\n",
       "      <td>5</td>\n",
       "    </tr>\n",
       "    <tr>\n",
       "      <th>8</th>\n",
       "      <td>Запустить акцию, дающую скидку на товар в день...</td>\n",
       "      <td>1</td>\n",
       "      <td>9</td>\n",
       "      <td>9</td>\n",
       "      <td>5</td>\n",
       "    </tr>\n",
       "  </tbody>\n",
       "</table>\n",
       "</div>"
      ],
      "text/plain": [
       "                                          Hypothesis  Reach  Impact  \\\n",
       "0  Добавить два новых канала привлечения трафика,...      3      10   \n",
       "1  Запустить собственную службу доставки, что сок...      2       5   \n",
       "2  Добавить блоки рекомендаций товаров на сайт ин...      8       3   \n",
       "3  Изменить структура категорий, что увеличит кон...      8       3   \n",
       "4  Изменить цвет фона главной страницы, чтобы уве...      3       1   \n",
       "5  Добавить страницу отзывов клиентов о магазине,...      3       2   \n",
       "6  Показать на главной странице баннеры с актуаль...      5       3   \n",
       "7  Добавить форму подписки на все основные страни...     10       7   \n",
       "8  Запустить акцию, дающую скидку на товар в день...      1       9   \n",
       "\n",
       "   Confidence  Efforts  \n",
       "0           8        6  \n",
       "1           4       10  \n",
       "2           7        3  \n",
       "3           3        8  \n",
       "4           1        1  \n",
       "5           2        3  \n",
       "6           8        3  \n",
       "7           8        5  \n",
       "8           9        5  "
      ]
     },
     "metadata": {},
     "output_type": "display_data"
    },
    {
     "data": {
      "text/plain": [
       "None"
      ]
     },
     "metadata": {},
     "output_type": "display_data"
    },
    {
     "data": {
      "text/html": [
       "<div>\n",
       "<style scoped>\n",
       "    .dataframe tbody tr th:only-of-type {\n",
       "        vertical-align: middle;\n",
       "    }\n",
       "\n",
       "    .dataframe tbody tr th {\n",
       "        vertical-align: top;\n",
       "    }\n",
       "\n",
       "    .dataframe thead th {\n",
       "        text-align: right;\n",
       "    }\n",
       "</style>\n",
       "<table border=\"1\" class=\"dataframe\">\n",
       "  <thead>\n",
       "    <tr style=\"text-align: right;\">\n",
       "      <th></th>\n",
       "      <th>Reach</th>\n",
       "      <th>Impact</th>\n",
       "      <th>Confidence</th>\n",
       "      <th>Efforts</th>\n",
       "    </tr>\n",
       "  </thead>\n",
       "  <tbody>\n",
       "    <tr>\n",
       "      <th>count</th>\n",
       "      <td>9.000000</td>\n",
       "      <td>9.000000</td>\n",
       "      <td>9.000000</td>\n",
       "      <td>9.000000</td>\n",
       "    </tr>\n",
       "    <tr>\n",
       "      <th>mean</th>\n",
       "      <td>4.777778</td>\n",
       "      <td>4.777778</td>\n",
       "      <td>5.555556</td>\n",
       "      <td>4.888889</td>\n",
       "    </tr>\n",
       "    <tr>\n",
       "      <th>std</th>\n",
       "      <td>3.153481</td>\n",
       "      <td>3.192874</td>\n",
       "      <td>3.045944</td>\n",
       "      <td>2.803767</td>\n",
       "    </tr>\n",
       "    <tr>\n",
       "      <th>min</th>\n",
       "      <td>1.000000</td>\n",
       "      <td>1.000000</td>\n",
       "      <td>1.000000</td>\n",
       "      <td>1.000000</td>\n",
       "    </tr>\n",
       "    <tr>\n",
       "      <th>25%</th>\n",
       "      <td>3.000000</td>\n",
       "      <td>3.000000</td>\n",
       "      <td>3.000000</td>\n",
       "      <td>3.000000</td>\n",
       "    </tr>\n",
       "    <tr>\n",
       "      <th>50%</th>\n",
       "      <td>3.000000</td>\n",
       "      <td>3.000000</td>\n",
       "      <td>7.000000</td>\n",
       "      <td>5.000000</td>\n",
       "    </tr>\n",
       "    <tr>\n",
       "      <th>75%</th>\n",
       "      <td>8.000000</td>\n",
       "      <td>7.000000</td>\n",
       "      <td>8.000000</td>\n",
       "      <td>6.000000</td>\n",
       "    </tr>\n",
       "    <tr>\n",
       "      <th>max</th>\n",
       "      <td>10.000000</td>\n",
       "      <td>10.000000</td>\n",
       "      <td>9.000000</td>\n",
       "      <td>10.000000</td>\n",
       "    </tr>\n",
       "  </tbody>\n",
       "</table>\n",
       "</div>"
      ],
      "text/plain": [
       "           Reach     Impact  Confidence    Efforts\n",
       "count   9.000000   9.000000    9.000000   9.000000\n",
       "mean    4.777778   4.777778    5.555556   4.888889\n",
       "std     3.153481   3.192874    3.045944   2.803767\n",
       "min     1.000000   1.000000    1.000000   1.000000\n",
       "25%     3.000000   3.000000    3.000000   3.000000\n",
       "50%     3.000000   3.000000    7.000000   5.000000\n",
       "75%     8.000000   7.000000    8.000000   6.000000\n",
       "max    10.000000  10.000000    9.000000  10.000000"
      ]
     },
     "metadata": {},
     "output_type": "display_data"
    },
    {
     "data": {
      "text/plain": [
       "None"
      ]
     },
     "metadata": {},
     "output_type": "display_data"
    },
    {
     "name": "stdout",
     "output_type": "stream",
     "text": [
      "\n",
      "<class 'pandas.core.frame.DataFrame'>\n",
      "RangeIndex: 62 entries, 0 to 61\n",
      "Data columns (total 3 columns):\n",
      " #   Column    Non-Null Count  Dtype \n",
      "---  ------    --------------  ----- \n",
      " 0   date      62 non-null     object\n",
      " 1   group     62 non-null     object\n",
      " 2   visitors  62 non-null     int64 \n",
      "dtypes: int64(1), object(2)\n",
      "memory usage: 1.6+ KB\n"
     ]
    },
    {
     "data": {
      "text/html": [
       "<div>\n",
       "<style scoped>\n",
       "    .dataframe tbody tr th:only-of-type {\n",
       "        vertical-align: middle;\n",
       "    }\n",
       "\n",
       "    .dataframe tbody tr th {\n",
       "        vertical-align: top;\n",
       "    }\n",
       "\n",
       "    .dataframe thead th {\n",
       "        text-align: right;\n",
       "    }\n",
       "</style>\n",
       "<table border=\"1\" class=\"dataframe\">\n",
       "  <thead>\n",
       "    <tr style=\"text-align: right;\">\n",
       "      <th></th>\n",
       "      <th>date</th>\n",
       "      <th>group</th>\n",
       "      <th>visitors</th>\n",
       "    </tr>\n",
       "  </thead>\n",
       "  <tbody>\n",
       "    <tr>\n",
       "      <th>0</th>\n",
       "      <td>2019-08-01</td>\n",
       "      <td>A</td>\n",
       "      <td>719</td>\n",
       "    </tr>\n",
       "    <tr>\n",
       "      <th>1</th>\n",
       "      <td>2019-08-02</td>\n",
       "      <td>A</td>\n",
       "      <td>619</td>\n",
       "    </tr>\n",
       "    <tr>\n",
       "      <th>2</th>\n",
       "      <td>2019-08-03</td>\n",
       "      <td>A</td>\n",
       "      <td>507</td>\n",
       "    </tr>\n",
       "    <tr>\n",
       "      <th>3</th>\n",
       "      <td>2019-08-04</td>\n",
       "      <td>A</td>\n",
       "      <td>717</td>\n",
       "    </tr>\n",
       "    <tr>\n",
       "      <th>4</th>\n",
       "      <td>2019-08-05</td>\n",
       "      <td>A</td>\n",
       "      <td>756</td>\n",
       "    </tr>\n",
       "    <tr>\n",
       "      <th>...</th>\n",
       "      <td>...</td>\n",
       "      <td>...</td>\n",
       "      <td>...</td>\n",
       "    </tr>\n",
       "    <tr>\n",
       "      <th>57</th>\n",
       "      <td>2019-08-27</td>\n",
       "      <td>B</td>\n",
       "      <td>720</td>\n",
       "    </tr>\n",
       "    <tr>\n",
       "      <th>58</th>\n",
       "      <td>2019-08-28</td>\n",
       "      <td>B</td>\n",
       "      <td>654</td>\n",
       "    </tr>\n",
       "    <tr>\n",
       "      <th>59</th>\n",
       "      <td>2019-08-29</td>\n",
       "      <td>B</td>\n",
       "      <td>531</td>\n",
       "    </tr>\n",
       "    <tr>\n",
       "      <th>60</th>\n",
       "      <td>2019-08-30</td>\n",
       "      <td>B</td>\n",
       "      <td>490</td>\n",
       "    </tr>\n",
       "    <tr>\n",
       "      <th>61</th>\n",
       "      <td>2019-08-31</td>\n",
       "      <td>B</td>\n",
       "      <td>718</td>\n",
       "    </tr>\n",
       "  </tbody>\n",
       "</table>\n",
       "<p>62 rows × 3 columns</p>\n",
       "</div>"
      ],
      "text/plain": [
       "          date group  visitors\n",
       "0   2019-08-01     A       719\n",
       "1   2019-08-02     A       619\n",
       "2   2019-08-03     A       507\n",
       "3   2019-08-04     A       717\n",
       "4   2019-08-05     A       756\n",
       "..         ...   ...       ...\n",
       "57  2019-08-27     B       720\n",
       "58  2019-08-28     B       654\n",
       "59  2019-08-29     B       531\n",
       "60  2019-08-30     B       490\n",
       "61  2019-08-31     B       718\n",
       "\n",
       "[62 rows x 3 columns]"
      ]
     },
     "metadata": {},
     "output_type": "display_data"
    },
    {
     "data": {
      "text/plain": [
       "None"
      ]
     },
     "metadata": {},
     "output_type": "display_data"
    },
    {
     "data": {
      "text/html": [
       "<div>\n",
       "<style scoped>\n",
       "    .dataframe tbody tr th:only-of-type {\n",
       "        vertical-align: middle;\n",
       "    }\n",
       "\n",
       "    .dataframe tbody tr th {\n",
       "        vertical-align: top;\n",
       "    }\n",
       "\n",
       "    .dataframe thead th {\n",
       "        text-align: right;\n",
       "    }\n",
       "</style>\n",
       "<table border=\"1\" class=\"dataframe\">\n",
       "  <thead>\n",
       "    <tr style=\"text-align: right;\">\n",
       "      <th></th>\n",
       "      <th>visitors</th>\n",
       "    </tr>\n",
       "  </thead>\n",
       "  <tbody>\n",
       "    <tr>\n",
       "      <th>count</th>\n",
       "      <td>62.000000</td>\n",
       "    </tr>\n",
       "    <tr>\n",
       "      <th>mean</th>\n",
       "      <td>607.290323</td>\n",
       "    </tr>\n",
       "    <tr>\n",
       "      <th>std</th>\n",
       "      <td>114.400560</td>\n",
       "    </tr>\n",
       "    <tr>\n",
       "      <th>min</th>\n",
       "      <td>361.000000</td>\n",
       "    </tr>\n",
       "    <tr>\n",
       "      <th>25%</th>\n",
       "      <td>534.000000</td>\n",
       "    </tr>\n",
       "    <tr>\n",
       "      <th>50%</th>\n",
       "      <td>624.500000</td>\n",
       "    </tr>\n",
       "    <tr>\n",
       "      <th>75%</th>\n",
       "      <td>710.500000</td>\n",
       "    </tr>\n",
       "    <tr>\n",
       "      <th>max</th>\n",
       "      <td>770.000000</td>\n",
       "    </tr>\n",
       "  </tbody>\n",
       "</table>\n",
       "</div>"
      ],
      "text/plain": [
       "         visitors\n",
       "count   62.000000\n",
       "mean   607.290323\n",
       "std    114.400560\n",
       "min    361.000000\n",
       "25%    534.000000\n",
       "50%    624.500000\n",
       "75%    710.500000\n",
       "max    770.000000"
      ]
     },
     "metadata": {},
     "output_type": "display_data"
    },
    {
     "data": {
      "text/plain": [
       "None"
      ]
     },
     "metadata": {},
     "output_type": "display_data"
    },
    {
     "name": "stdout",
     "output_type": "stream",
     "text": [
      "\n",
      "<class 'pandas.core.frame.DataFrame'>\n",
      "RangeIndex: 1197 entries, 0 to 1196\n",
      "Data columns (total 5 columns):\n",
      " #   Column         Non-Null Count  Dtype \n",
      "---  ------         --------------  ----- \n",
      " 0   transactionId  1197 non-null   int64 \n",
      " 1   visitorId      1197 non-null   int64 \n",
      " 2   date           1197 non-null   object\n",
      " 3   revenue        1197 non-null   int64 \n",
      " 4   group          1197 non-null   object\n",
      "dtypes: int64(3), object(2)\n",
      "memory usage: 46.9+ KB\n"
     ]
    },
    {
     "data": {
      "text/html": [
       "<div>\n",
       "<style scoped>\n",
       "    .dataframe tbody tr th:only-of-type {\n",
       "        vertical-align: middle;\n",
       "    }\n",
       "\n",
       "    .dataframe tbody tr th {\n",
       "        vertical-align: top;\n",
       "    }\n",
       "\n",
       "    .dataframe thead th {\n",
       "        text-align: right;\n",
       "    }\n",
       "</style>\n",
       "<table border=\"1\" class=\"dataframe\">\n",
       "  <thead>\n",
       "    <tr style=\"text-align: right;\">\n",
       "      <th></th>\n",
       "      <th>transactionId</th>\n",
       "      <th>visitorId</th>\n",
       "      <th>date</th>\n",
       "      <th>revenue</th>\n",
       "      <th>group</th>\n",
       "    </tr>\n",
       "  </thead>\n",
       "  <tbody>\n",
       "    <tr>\n",
       "      <th>0</th>\n",
       "      <td>3667963787</td>\n",
       "      <td>3312258926</td>\n",
       "      <td>2019-08-15</td>\n",
       "      <td>1650</td>\n",
       "      <td>B</td>\n",
       "    </tr>\n",
       "    <tr>\n",
       "      <th>1</th>\n",
       "      <td>2804400009</td>\n",
       "      <td>3642806036</td>\n",
       "      <td>2019-08-15</td>\n",
       "      <td>730</td>\n",
       "      <td>B</td>\n",
       "    </tr>\n",
       "    <tr>\n",
       "      <th>2</th>\n",
       "      <td>2961555356</td>\n",
       "      <td>4069496402</td>\n",
       "      <td>2019-08-15</td>\n",
       "      <td>400</td>\n",
       "      <td>A</td>\n",
       "    </tr>\n",
       "    <tr>\n",
       "      <th>3</th>\n",
       "      <td>3797467345</td>\n",
       "      <td>1196621759</td>\n",
       "      <td>2019-08-15</td>\n",
       "      <td>9759</td>\n",
       "      <td>B</td>\n",
       "    </tr>\n",
       "    <tr>\n",
       "      <th>4</th>\n",
       "      <td>2282983706</td>\n",
       "      <td>2322279887</td>\n",
       "      <td>2019-08-15</td>\n",
       "      <td>2308</td>\n",
       "      <td>B</td>\n",
       "    </tr>\n",
       "    <tr>\n",
       "      <th>...</th>\n",
       "      <td>...</td>\n",
       "      <td>...</td>\n",
       "      <td>...</td>\n",
       "      <td>...</td>\n",
       "      <td>...</td>\n",
       "    </tr>\n",
       "    <tr>\n",
       "      <th>1192</th>\n",
       "      <td>2662137336</td>\n",
       "      <td>3733762160</td>\n",
       "      <td>2019-08-14</td>\n",
       "      <td>6490</td>\n",
       "      <td>B</td>\n",
       "    </tr>\n",
       "    <tr>\n",
       "      <th>1193</th>\n",
       "      <td>2203539145</td>\n",
       "      <td>370388673</td>\n",
       "      <td>2019-08-14</td>\n",
       "      <td>3190</td>\n",
       "      <td>A</td>\n",
       "    </tr>\n",
       "    <tr>\n",
       "      <th>1194</th>\n",
       "      <td>1807773912</td>\n",
       "      <td>573423106</td>\n",
       "      <td>2019-08-14</td>\n",
       "      <td>10550</td>\n",
       "      <td>A</td>\n",
       "    </tr>\n",
       "    <tr>\n",
       "      <th>1195</th>\n",
       "      <td>1947021204</td>\n",
       "      <td>1614305549</td>\n",
       "      <td>2019-08-14</td>\n",
       "      <td>100</td>\n",
       "      <td>A</td>\n",
       "    </tr>\n",
       "    <tr>\n",
       "      <th>1196</th>\n",
       "      <td>3936777065</td>\n",
       "      <td>2108080724</td>\n",
       "      <td>2019-08-15</td>\n",
       "      <td>202740</td>\n",
       "      <td>B</td>\n",
       "    </tr>\n",
       "  </tbody>\n",
       "</table>\n",
       "<p>1197 rows × 5 columns</p>\n",
       "</div>"
      ],
      "text/plain": [
       "      transactionId   visitorId        date  revenue group\n",
       "0        3667963787  3312258926  2019-08-15     1650     B\n",
       "1        2804400009  3642806036  2019-08-15      730     B\n",
       "2        2961555356  4069496402  2019-08-15      400     A\n",
       "3        3797467345  1196621759  2019-08-15     9759     B\n",
       "4        2282983706  2322279887  2019-08-15     2308     B\n",
       "...             ...         ...         ...      ...   ...\n",
       "1192     2662137336  3733762160  2019-08-14     6490     B\n",
       "1193     2203539145   370388673  2019-08-14     3190     A\n",
       "1194     1807773912   573423106  2019-08-14    10550     A\n",
       "1195     1947021204  1614305549  2019-08-14      100     A\n",
       "1196     3936777065  2108080724  2019-08-15   202740     B\n",
       "\n",
       "[1197 rows x 5 columns]"
      ]
     },
     "metadata": {},
     "output_type": "display_data"
    },
    {
     "data": {
      "text/plain": [
       "None"
      ]
     },
     "metadata": {},
     "output_type": "display_data"
    },
    {
     "data": {
      "text/html": [
       "<div>\n",
       "<style scoped>\n",
       "    .dataframe tbody tr th:only-of-type {\n",
       "        vertical-align: middle;\n",
       "    }\n",
       "\n",
       "    .dataframe tbody tr th {\n",
       "        vertical-align: top;\n",
       "    }\n",
       "\n",
       "    .dataframe thead th {\n",
       "        text-align: right;\n",
       "    }\n",
       "</style>\n",
       "<table border=\"1\" class=\"dataframe\">\n",
       "  <thead>\n",
       "    <tr style=\"text-align: right;\">\n",
       "      <th></th>\n",
       "      <th>transactionId</th>\n",
       "      <th>visitorId</th>\n",
       "      <th>revenue</th>\n",
       "    </tr>\n",
       "  </thead>\n",
       "  <tbody>\n",
       "    <tr>\n",
       "      <th>count</th>\n",
       "      <td>1.197000e+03</td>\n",
       "      <td>1.197000e+03</td>\n",
       "      <td>1.197000e+03</td>\n",
       "    </tr>\n",
       "    <tr>\n",
       "      <th>mean</th>\n",
       "      <td>2.155621e+09</td>\n",
       "      <td>2.165960e+09</td>\n",
       "      <td>8.348006e+03</td>\n",
       "    </tr>\n",
       "    <tr>\n",
       "      <th>std</th>\n",
       "      <td>1.229085e+09</td>\n",
       "      <td>1.236014e+09</td>\n",
       "      <td>3.919113e+04</td>\n",
       "    </tr>\n",
       "    <tr>\n",
       "      <th>min</th>\n",
       "      <td>1.062393e+06</td>\n",
       "      <td>5.114589e+06</td>\n",
       "      <td>5.000000e+01</td>\n",
       "    </tr>\n",
       "    <tr>\n",
       "      <th>25%</th>\n",
       "      <td>1.166776e+09</td>\n",
       "      <td>1.111826e+09</td>\n",
       "      <td>1.220000e+03</td>\n",
       "    </tr>\n",
       "    <tr>\n",
       "      <th>50%</th>\n",
       "      <td>2.145194e+09</td>\n",
       "      <td>2.217985e+09</td>\n",
       "      <td>2.978000e+03</td>\n",
       "    </tr>\n",
       "    <tr>\n",
       "      <th>75%</th>\n",
       "      <td>3.237740e+09</td>\n",
       "      <td>3.177606e+09</td>\n",
       "      <td>8.290000e+03</td>\n",
       "    </tr>\n",
       "    <tr>\n",
       "      <th>max</th>\n",
       "      <td>4.293856e+09</td>\n",
       "      <td>4.283872e+09</td>\n",
       "      <td>1.294500e+06</td>\n",
       "    </tr>\n",
       "  </tbody>\n",
       "</table>\n",
       "</div>"
      ],
      "text/plain": [
       "       transactionId     visitorId       revenue\n",
       "count   1.197000e+03  1.197000e+03  1.197000e+03\n",
       "mean    2.155621e+09  2.165960e+09  8.348006e+03\n",
       "std     1.229085e+09  1.236014e+09  3.919113e+04\n",
       "min     1.062393e+06  5.114589e+06  5.000000e+01\n",
       "25%     1.166776e+09  1.111826e+09  1.220000e+03\n",
       "50%     2.145194e+09  2.217985e+09  2.978000e+03\n",
       "75%     3.237740e+09  3.177606e+09  8.290000e+03\n",
       "max     4.293856e+09  4.283872e+09  1.294500e+06"
      ]
     },
     "metadata": {},
     "output_type": "display_data"
    },
    {
     "data": {
      "text/plain": [
       "None"
      ]
     },
     "metadata": {},
     "output_type": "display_data"
    }
   ],
   "source": [
    "def data_review(data):\n",
    "    display(data.head(pd.set_option('display.max_columns', None)), data.info(), data.describe())\n",
    "    \n",
    "display(data_review(hypothesis))\n",
    "print()\n",
    "display(data_review(visitors))\n",
    "print()\n",
    "display(data_review(orders))"
   ]
  },
  {
   "cell_type": "markdown",
   "id": "c2768c95",
   "metadata": {},
   "source": [
    "После предварительного просмотра датасета, мы заметили, что:\n",
    "\n",
    "- Названия столбцов имеют прописные буквы\n",
    "- Названия столбцов, состоящие из нескольких слов, написаны слитно, разделены заглавными буквами\n",
    "- Неправильные типы данных у столбцов с датами"
   ]
  },
  {
   "cell_type": "markdown",
   "id": "c835df58",
   "metadata": {},
   "source": [
    "Приведем названия столбцов к нижнему регистру:"
   ]
  },
  {
   "cell_type": "code",
   "execution_count": 6,
   "id": "1636e009",
   "metadata": {},
   "outputs": [],
   "source": [
    "hypothesis.columns = hypothesis.columns.str.lower()"
   ]
  },
  {
   "cell_type": "markdown",
   "id": "dd96d7c1",
   "metadata": {},
   "source": [
    "Названия столбцов, состоящих из нескольких слов, разделим знаком _ :"
   ]
  },
  {
   "cell_type": "code",
   "execution_count": 7,
   "id": "43eb83c5",
   "metadata": {},
   "outputs": [],
   "source": [
    "orders = orders.rename(columns={'transactionId': 'transaction_id', 'visitorId': 'visitor_id'})"
   ]
  },
  {
   "cell_type": "markdown",
   "id": "d5a609f8",
   "metadata": {},
   "source": [
    "Изменим типы данных:"
   ]
  },
  {
   "cell_type": "code",
   "execution_count": 8,
   "id": "ada4d2a3",
   "metadata": {},
   "outputs": [],
   "source": [
    "orders['date'] = pd.to_datetime(orders['date'])\n",
    "visitors['date'] = pd.to_datetime(visitors['date'])"
   ]
  },
  {
   "cell_type": "markdown",
   "id": "666a5549",
   "metadata": {},
   "source": [
    "Проверим данные на пропуски:"
   ]
  },
  {
   "cell_type": "code",
   "execution_count": 9,
   "id": "263e3f31",
   "metadata": {},
   "outputs": [
    {
     "name": "stdout",
     "output_type": "stream",
     "text": [
      "hypothesis    0\n",
      "reach         0\n",
      "impact        0\n",
      "confidence    0\n",
      "efforts       0\n",
      "dtype: int64\n",
      "\n",
      "transaction_id    0\n",
      "visitor_id        0\n",
      "date              0\n",
      "revenue           0\n",
      "group             0\n",
      "dtype: int64\n",
      "\n",
      "date        0\n",
      "group       0\n",
      "visitors    0\n",
      "dtype: int64\n"
     ]
    }
   ],
   "source": [
    "print(hypothesis.isna().sum().sort_values())\n",
    "print()\n",
    "print(orders.isna().sum().sort_values())\n",
    "print()\n",
    "print(visitors.isna().sum().sort_values())"
   ]
  },
  {
   "cell_type": "markdown",
   "id": "9a0f5725",
   "metadata": {},
   "source": [
    "Проверим данные на дубликаты:"
   ]
  },
  {
   "cell_type": "code",
   "execution_count": 10,
   "id": "ec0e5f74",
   "metadata": {},
   "outputs": [
    {
     "name": "stdout",
     "output_type": "stream",
     "text": [
      "0\n",
      "0\n",
      "0\n"
     ]
    }
   ],
   "source": [
    "print(hypothesis.duplicated().sum())\n",
    "print(orders.duplicated().sum())\n",
    "print(visitors.duplicated().sum())"
   ]
  },
  {
   "cell_type": "markdown",
   "id": "1b940ab5",
   "metadata": {},
   "source": [
    "Проверим качество данных:\n",
    "\n",
    "1) Есть ли в данных отрицательные числа, которых быть не должно:"
   ]
  },
  {
   "cell_type": "code",
   "execution_count": 11,
   "id": "294953a7",
   "metadata": {},
   "outputs": [],
   "source": [
    "error = []\n",
    "for i in orders['revenue']:\n",
    "    if i < 0:\n",
    "        error.append(i)"
   ]
  },
  {
   "cell_type": "code",
   "execution_count": 12,
   "id": "9f68a216",
   "metadata": {},
   "outputs": [
    {
     "name": "stdout",
     "output_type": "stream",
     "text": [
      "[]\n"
     ]
    }
   ],
   "source": [
    "print(error)"
   ]
  },
  {
   "cell_type": "code",
   "execution_count": 13,
   "id": "3b3b1132",
   "metadata": {},
   "outputs": [],
   "source": [
    "error = []\n",
    "for i in visitors['visitors']:\n",
    "    if i < 0:\n",
    "        erroe.append(i)"
   ]
  },
  {
   "cell_type": "code",
   "execution_count": 14,
   "id": "4525677a",
   "metadata": {},
   "outputs": [
    {
     "name": "stdout",
     "output_type": "stream",
     "text": [
      "[]\n"
     ]
    }
   ],
   "source": [
    "print(error)"
   ]
  },
  {
   "cell_type": "markdown",
   "id": "8cd5b4d6",
   "metadata": {},
   "source": [
    "Отрицательных значений не найдено."
   ]
  },
  {
   "cell_type": "markdown",
   "id": "50a4668e",
   "metadata": {},
   "source": [
    "Посмортим на данные с датов и временем:"
   ]
  },
  {
   "cell_type": "code",
   "execution_count": 15,
   "id": "0c0a1780",
   "metadata": {},
   "outputs": [
    {
     "name": "stdout",
     "output_type": "stream",
     "text": [
      "Первая дата в датасете orders: 2019-08-01 00:00:00\n",
      "Последняя дата в датасете orders: 2019-08-31 00:00:00\n",
      "\n",
      "Первая дата в датасете visitors: 2019-08-01 00:00:00\n",
      "Последняя дата в датасете visitors: 2019-08-31 00:00:00\n"
     ]
    }
   ],
   "source": [
    "print('Первая дата в датасете orders:', orders['date'].min())\n",
    "print('Последняя дата в датасете orders:', orders['date'].max())\n",
    "print()\n",
    "print('Первая дата в датасете visitors:', visitors['date'].min())\n",
    "print('Последняя дата в датасете visitors:', visitors['date'].max())"
   ]
  },
  {
   "cell_type": "markdown",
   "id": "5dff8f33",
   "metadata": {},
   "source": [
    "У нас есть данные о результатах А/В тестирования с 1 августа по 31 августа 2018 года."
   ]
  },
  {
   "cell_type": "markdown",
   "id": "e7d6765b",
   "metadata": {},
   "source": [
    "Изучим составы групп А/В теста: посмотрим, равномерно ли распределены пользователи, есть ли пересечения между группами."
   ]
  },
  {
   "cell_type": "code",
   "execution_count": 16,
   "id": "111fee59",
   "metadata": {},
   "outputs": [
    {
     "name": "stdout",
     "output_type": "stream",
     "text": [
      "Количество посетителей в группе А: 18736\n"
     ]
    }
   ],
   "source": [
    "print('Количество посетителей в группе А:', visitors[visitors['group'] == 'A']['visitors'].sum())"
   ]
  },
  {
   "cell_type": "code",
   "execution_count": 17,
   "id": "dfb5d938",
   "metadata": {},
   "outputs": [
    {
     "name": "stdout",
     "output_type": "stream",
     "text": [
      "Количество посетителей в группе B: 18916\n"
     ]
    }
   ],
   "source": [
    "print('Количество посетителей в группе B:', visitors[visitors['group'] == 'B']['visitors'].sum())"
   ]
  },
  {
   "cell_type": "markdown",
   "id": "d01baf9f",
   "metadata": {},
   "source": [
    "Количество пользователей в различных группах не должны различаться более, чем на 1%. Количество посетителей группы А и В различаются на 180 человек, не превышает 1%. Разница вполне допустимая."
   ]
  },
  {
   "cell_type": "markdown",
   "id": "7587ef8a",
   "metadata": {},
   "source": [
    "Посмотрим, не попали ли одни и те же пользователи в обе группы:"
   ]
  },
  {
   "cell_type": "code",
   "execution_count": 18,
   "id": "f73728b3",
   "metadata": {},
   "outputs": [],
   "source": [
    "error = []\n",
    "for i in orders[orders['group']=='A']['visitor_id'].to_list():\n",
    "    if i in orders[orders['group']=='B']['visitor_id'].to_list():\n",
    "        error.append(i)\n"
   ]
  },
  {
   "cell_type": "markdown",
   "id": "ab0eeecc",
   "metadata": {},
   "source": [
    "**Вывод:**\n",
    "\n",
    "- В исследовании используются данные трех таблиц с информацией о гипотезах (5 столбцов, 9 строк), информацией о заказах (5 столбца, 1197 строк) и информацией о посещениях (3 столбца, 62 строки).\n",
    "- У нас есть данные о результатах А/В тестирования с 1 августа по 31 августа 2018 года.\n",
    "- Названия столбцов имеют заглавные буквы, некоторые написаны слитно, что неудобно при обработке и анализе данных, поэтому они были заменены на строчные буквы и разделены нижним подчеркиванием. Значения столбцов с датами были преобразованы из строк в datetime64.\n",
    "- Пропусков и дубликатов в таблицах отсутствуют."
   ]
  },
  {
   "cell_type": "markdown",
   "id": "75d35c67",
   "metadata": {},
   "source": [
    "## Приоритизация гипотез"
   ]
  },
  {
   "cell_type": "markdown",
   "id": "39259200",
   "metadata": {},
   "source": [
    "### Применение фреймворка ICE для приоритизации гипотез."
   ]
  },
  {
   "cell_type": "markdown",
   "id": "0c7d2518",
   "metadata": {},
   "source": [
    "Формула фреймворка ICE:\n",
    "\n",
    "$$ ICE = \\frac{IMPACT * CONFIDENCE}{EFFORT} $$"
   ]
  },
  {
   "cell_type": "code",
   "execution_count": 19,
   "id": "61f93266",
   "metadata": {
    "scrolled": true
   },
   "outputs": [
    {
     "data": {
      "text/html": [
       "<div>\n",
       "<style scoped>\n",
       "    .dataframe tbody tr th:only-of-type {\n",
       "        vertical-align: middle;\n",
       "    }\n",
       "\n",
       "    .dataframe tbody tr th {\n",
       "        vertical-align: top;\n",
       "    }\n",
       "\n",
       "    .dataframe thead th {\n",
       "        text-align: right;\n",
       "    }\n",
       "</style>\n",
       "<table border=\"1\" class=\"dataframe\">\n",
       "  <thead>\n",
       "    <tr style=\"text-align: right;\">\n",
       "      <th></th>\n",
       "      <th>hypothesis</th>\n",
       "      <th>ice</th>\n",
       "    </tr>\n",
       "  </thead>\n",
       "  <tbody>\n",
       "    <tr>\n",
       "      <th>8</th>\n",
       "      <td>Запустить акцию, дающую скидку на товар в день рождения</td>\n",
       "      <td>16.20</td>\n",
       "    </tr>\n",
       "    <tr>\n",
       "      <th>0</th>\n",
       "      <td>Добавить два новых канала привлечения трафика, что позволит привлекать на 30% больше пользователей</td>\n",
       "      <td>13.33</td>\n",
       "    </tr>\n",
       "    <tr>\n",
       "      <th>7</th>\n",
       "      <td>Добавить форму подписки на все основные страницы, чтобы собрать базу клиентов для email-рассылок</td>\n",
       "      <td>11.20</td>\n",
       "    </tr>\n",
       "    <tr>\n",
       "      <th>6</th>\n",
       "      <td>Показать на главной странице баннеры с актуальными акциями и распродажами, чтобы увеличить конверсию</td>\n",
       "      <td>8.00</td>\n",
       "    </tr>\n",
       "    <tr>\n",
       "      <th>2</th>\n",
       "      <td>Добавить блоки рекомендаций товаров на сайт интернет магазина, чтобы повысить конверсию и средний чек заказа</td>\n",
       "      <td>7.00</td>\n",
       "    </tr>\n",
       "    <tr>\n",
       "      <th>1</th>\n",
       "      <td>Запустить собственную службу доставки, что сократит срок доставки заказов</td>\n",
       "      <td>2.00</td>\n",
       "    </tr>\n",
       "    <tr>\n",
       "      <th>5</th>\n",
       "      <td>Добавить страницу отзывов клиентов о магазине, что позволит увеличить количество заказов</td>\n",
       "      <td>1.33</td>\n",
       "    </tr>\n",
       "    <tr>\n",
       "      <th>3</th>\n",
       "      <td>Изменить структура категорий, что увеличит конверсию, т.к. пользователи быстрее найдут нужный товар</td>\n",
       "      <td>1.12</td>\n",
       "    </tr>\n",
       "    <tr>\n",
       "      <th>4</th>\n",
       "      <td>Изменить цвет фона главной страницы, чтобы увеличить вовлеченность пользователей</td>\n",
       "      <td>1.00</td>\n",
       "    </tr>\n",
       "  </tbody>\n",
       "</table>\n",
       "</div>"
      ],
      "text/plain": [
       "                                                                                                     hypothesis  \\\n",
       "8                                                       Запустить акцию, дающую скидку на товар в день рождения   \n",
       "0            Добавить два новых канала привлечения трафика, что позволит привлекать на 30% больше пользователей   \n",
       "7              Добавить форму подписки на все основные страницы, чтобы собрать базу клиентов для email-рассылок   \n",
       "6          Показать на главной странице баннеры с актуальными акциями и распродажами, чтобы увеличить конверсию   \n",
       "2  Добавить блоки рекомендаций товаров на сайт интернет магазина, чтобы повысить конверсию и средний чек заказа   \n",
       "1                                     Запустить собственную службу доставки, что сократит срок доставки заказов   \n",
       "5                      Добавить страницу отзывов клиентов о магазине, что позволит увеличить количество заказов   \n",
       "3           Изменить структура категорий, что увеличит конверсию, т.к. пользователи быстрее найдут нужный товар   \n",
       "4                              Изменить цвет фона главной страницы, чтобы увеличить вовлеченность пользователей   \n",
       "\n",
       "     ice  \n",
       "8  16.20  \n",
       "0  13.33  \n",
       "7  11.20  \n",
       "6   8.00  \n",
       "2   7.00  \n",
       "1   2.00  \n",
       "5   1.33  \n",
       "3   1.12  \n",
       "4   1.00  "
      ]
     },
     "metadata": {},
     "output_type": "display_data"
    }
   ],
   "source": [
    "hypothesis['ice'] = round(hypothesis['impact'] * hypothesis['confidence'] / hypothesis['efforts'], 2)\n",
    "pd.set_option('display.max_colwidth', 500)\n",
    "display(hypothesis[['hypothesis', 'ice']].sort_values(by='ice', ascending=False))"
   ]
  },
  {
   "cell_type": "markdown",
   "id": "7f13c161",
   "metadata": {},
   "source": [
    "Самой перспективной гипотезой кажется гипотеза с индексом 8. После него идут первая и седьмая гипотезы."
   ]
  },
  {
   "cell_type": "markdown",
   "id": "6367b3b9",
   "metadata": {},
   "source": [
    "### Применение фреймворка RICE для приоритизации гипотез."
   ]
  },
  {
   "cell_type": "markdown",
   "id": "76d3c837",
   "metadata": {},
   "source": [
    "Формула фреймворка RICE:\n",
    "\n",
    "$$ RICE = \\frac{REACH * IMPACT * CONFIDENCE}{EFFORT} $$"
   ]
  },
  {
   "cell_type": "code",
   "execution_count": 20,
   "id": "25df7c10",
   "metadata": {},
   "outputs": [
    {
     "data": {
      "text/html": [
       "<div>\n",
       "<style scoped>\n",
       "    .dataframe tbody tr th:only-of-type {\n",
       "        vertical-align: middle;\n",
       "    }\n",
       "\n",
       "    .dataframe tbody tr th {\n",
       "        vertical-align: top;\n",
       "    }\n",
       "\n",
       "    .dataframe thead th {\n",
       "        text-align: right;\n",
       "    }\n",
       "</style>\n",
       "<table border=\"1\" class=\"dataframe\">\n",
       "  <thead>\n",
       "    <tr style=\"text-align: right;\">\n",
       "      <th></th>\n",
       "      <th>hypothesis</th>\n",
       "      <th>rice</th>\n",
       "      <th>ice</th>\n",
       "      <th>reach</th>\n",
       "    </tr>\n",
       "  </thead>\n",
       "  <tbody>\n",
       "    <tr>\n",
       "      <th>7</th>\n",
       "      <td>Добавить форму подписки на все основные страницы, чтобы собрать базу клиентов для email-рассылок</td>\n",
       "      <td>112.0</td>\n",
       "      <td>11.20</td>\n",
       "      <td>10</td>\n",
       "    </tr>\n",
       "    <tr>\n",
       "      <th>2</th>\n",
       "      <td>Добавить блоки рекомендаций товаров на сайт интернет магазина, чтобы повысить конверсию и средний чек заказа</td>\n",
       "      <td>56.0</td>\n",
       "      <td>7.00</td>\n",
       "      <td>8</td>\n",
       "    </tr>\n",
       "    <tr>\n",
       "      <th>0</th>\n",
       "      <td>Добавить два новых канала привлечения трафика, что позволит привлекать на 30% больше пользователей</td>\n",
       "      <td>40.0</td>\n",
       "      <td>13.33</td>\n",
       "      <td>3</td>\n",
       "    </tr>\n",
       "    <tr>\n",
       "      <th>6</th>\n",
       "      <td>Показать на главной странице баннеры с актуальными акциями и распродажами, чтобы увеличить конверсию</td>\n",
       "      <td>40.0</td>\n",
       "      <td>8.00</td>\n",
       "      <td>5</td>\n",
       "    </tr>\n",
       "    <tr>\n",
       "      <th>8</th>\n",
       "      <td>Запустить акцию, дающую скидку на товар в день рождения</td>\n",
       "      <td>16.2</td>\n",
       "      <td>16.20</td>\n",
       "      <td>1</td>\n",
       "    </tr>\n",
       "    <tr>\n",
       "      <th>3</th>\n",
       "      <td>Изменить структура категорий, что увеличит конверсию, т.к. пользователи быстрее найдут нужный товар</td>\n",
       "      <td>9.0</td>\n",
       "      <td>1.12</td>\n",
       "      <td>8</td>\n",
       "    </tr>\n",
       "    <tr>\n",
       "      <th>1</th>\n",
       "      <td>Запустить собственную службу доставки, что сократит срок доставки заказов</td>\n",
       "      <td>4.0</td>\n",
       "      <td>2.00</td>\n",
       "      <td>2</td>\n",
       "    </tr>\n",
       "    <tr>\n",
       "      <th>5</th>\n",
       "      <td>Добавить страницу отзывов клиентов о магазине, что позволит увеличить количество заказов</td>\n",
       "      <td>4.0</td>\n",
       "      <td>1.33</td>\n",
       "      <td>3</td>\n",
       "    </tr>\n",
       "    <tr>\n",
       "      <th>4</th>\n",
       "      <td>Изменить цвет фона главной страницы, чтобы увеличить вовлеченность пользователей</td>\n",
       "      <td>3.0</td>\n",
       "      <td>1.00</td>\n",
       "      <td>3</td>\n",
       "    </tr>\n",
       "  </tbody>\n",
       "</table>\n",
       "</div>"
      ],
      "text/plain": [
       "                                                                                                     hypothesis  \\\n",
       "7              Добавить форму подписки на все основные страницы, чтобы собрать базу клиентов для email-рассылок   \n",
       "2  Добавить блоки рекомендаций товаров на сайт интернет магазина, чтобы повысить конверсию и средний чек заказа   \n",
       "0            Добавить два новых канала привлечения трафика, что позволит привлекать на 30% больше пользователей   \n",
       "6          Показать на главной странице баннеры с актуальными акциями и распродажами, чтобы увеличить конверсию   \n",
       "8                                                       Запустить акцию, дающую скидку на товар в день рождения   \n",
       "3           Изменить структура категорий, что увеличит конверсию, т.к. пользователи быстрее найдут нужный товар   \n",
       "1                                     Запустить собственную службу доставки, что сократит срок доставки заказов   \n",
       "5                      Добавить страницу отзывов клиентов о магазине, что позволит увеличить количество заказов   \n",
       "4                              Изменить цвет фона главной страницы, чтобы увеличить вовлеченность пользователей   \n",
       "\n",
       "    rice    ice  reach  \n",
       "7  112.0  11.20     10  \n",
       "2   56.0   7.00      8  \n",
       "0   40.0  13.33      3  \n",
       "6   40.0   8.00      5  \n",
       "8   16.2  16.20      1  \n",
       "3    9.0   1.12      8  \n",
       "1    4.0   2.00      2  \n",
       "5    4.0   1.33      3  \n",
       "4    3.0   1.00      3  "
      ]
     },
     "metadata": {},
     "output_type": "display_data"
    }
   ],
   "source": [
    "hypothesis['rice'] = round(hypothesis['reach'] * hypothesis['impact'] * hypothesis['confidence'] / hypothesis['efforts'], 2)\n",
    "pd.set_option('display.max_colwidth', 500)\n",
    "display(hypothesis[['hypothesis', 'rice', 'ice', 'reach']].sort_values(by='rice', ascending=False))"
   ]
  },
  {
   "cell_type": "markdown",
   "id": "e6e3c897",
   "metadata": {},
   "source": [
    "Гипотеза с 7-м индексом остается в лидерах. Ранее он был на 3 месте. 2 гипотеза  внезапно поднялась на второе месте, ранее он стоял только на 5-м. 3-м по приоритетности гипотезой оказалась первая, ранее стоявшая на 2-м месте. "
   ]
  },
  {
   "cell_type": "markdown",
   "id": "9fdaade4",
   "metadata": {},
   "source": [
    "**Вывод:**\n",
    "\n",
    "Таблицы приоретизации гипотез ICE и RICE значительно отличаются друг от друга:\n",
    "- если в ICE лидировали гипотезы с индексами 8, 0, 7 , то в RICE - 7(была на 3 мете), 2(была на 5), 0(на 2). А лидер таблицы ICE - 8 сместился аж на пятую позицию, в то время как 2 перешел на второе место с пятого. \n",
    "- отличия этих методов заключается в добавлении в RICE параметра Reach. Reach показывает скольких пользователей затронет изменение, которое вы хотите внести. Чем больше значение этого параметра, тем лучше.\n",
    "- учитывая параметр Reach лучше предложить для тестирования гипотезу с индексом 7 и возможно еще 2."
   ]
  },
  {
   "cell_type": "markdown",
   "id": "89e64e3b",
   "metadata": {},
   "source": [
    "## Анализ A/B-теста"
   ]
  },
  {
   "cell_type": "markdown",
   "id": "94f51e1b",
   "metadata": {},
   "source": [
    "### Стабильность кумулятивных метрик"
   ]
  },
  {
   "cell_type": "markdown",
   "id": "7cc593d5",
   "metadata": {},
   "source": [
    "#### График кумулятивной выручки по группам"
   ]
  },
  {
   "cell_type": "markdown",
   "id": "5ac95dc3",
   "metadata": {},
   "source": [
    "Соберём агрегированные кумулятивные по дням данные о заказах:"
   ]
  },
  {
   "cell_type": "code",
   "execution_count": 21,
   "id": "0116ac24",
   "metadata": {},
   "outputs": [
    {
     "data": {
      "text/html": [
       "<div>\n",
       "<style scoped>\n",
       "    .dataframe tbody tr th:only-of-type {\n",
       "        vertical-align: middle;\n",
       "    }\n",
       "\n",
       "    .dataframe tbody tr th {\n",
       "        vertical-align: top;\n",
       "    }\n",
       "\n",
       "    .dataframe thead th {\n",
       "        text-align: right;\n",
       "    }\n",
       "</style>\n",
       "<table border=\"1\" class=\"dataframe\">\n",
       "  <thead>\n",
       "    <tr style=\"text-align: right;\">\n",
       "      <th></th>\n",
       "      <th>date</th>\n",
       "      <th>group</th>\n",
       "      <th>orders</th>\n",
       "      <th>buyers</th>\n",
       "      <th>revenue</th>\n",
       "      <th>visitors</th>\n",
       "    </tr>\n",
       "  </thead>\n",
       "  <tbody>\n",
       "    <tr>\n",
       "      <th>0</th>\n",
       "      <td>2019-08-01</td>\n",
       "      <td>A</td>\n",
       "      <td>24</td>\n",
       "      <td>20</td>\n",
       "      <td>148579</td>\n",
       "      <td>719</td>\n",
       "    </tr>\n",
       "    <tr>\n",
       "      <th>1</th>\n",
       "      <td>2019-08-01</td>\n",
       "      <td>B</td>\n",
       "      <td>21</td>\n",
       "      <td>20</td>\n",
       "      <td>101217</td>\n",
       "      <td>713</td>\n",
       "    </tr>\n",
       "    <tr>\n",
       "      <th>2</th>\n",
       "      <td>2019-08-02</td>\n",
       "      <td>A</td>\n",
       "      <td>44</td>\n",
       "      <td>38</td>\n",
       "      <td>242401</td>\n",
       "      <td>1338</td>\n",
       "    </tr>\n",
       "    <tr>\n",
       "      <th>3</th>\n",
       "      <td>2019-08-02</td>\n",
       "      <td>B</td>\n",
       "      <td>45</td>\n",
       "      <td>43</td>\n",
       "      <td>266748</td>\n",
       "      <td>1294</td>\n",
       "    </tr>\n",
       "    <tr>\n",
       "      <th>4</th>\n",
       "      <td>2019-08-03</td>\n",
       "      <td>A</td>\n",
       "      <td>68</td>\n",
       "      <td>62</td>\n",
       "      <td>354874</td>\n",
       "      <td>1845</td>\n",
       "    </tr>\n",
       "  </tbody>\n",
       "</table>\n",
       "</div>"
      ],
      "text/plain": [
       "        date group  orders  buyers  revenue  visitors\n",
       "0 2019-08-01     A      24      20   148579       719\n",
       "1 2019-08-01     B      21      20   101217       713\n",
       "2 2019-08-02     A      44      38   242401      1338\n",
       "3 2019-08-02     B      45      43   266748      1294\n",
       "4 2019-08-03     A      68      62   354874      1845"
      ]
     },
     "metadata": {},
     "output_type": "display_data"
    }
   ],
   "source": [
    "datesGroups = orders[['date','group']].drop_duplicates()\n",
    "\n",
    "ordersAggregated = datesGroups.apply(lambda x: orders[np.logical_and(orders['date'] <= x['date'], orders['group'] == x['group'])]. \\\n",
    "                                     agg({'date' : 'max', \n",
    "                                          'group' : 'max', \n",
    "                                          'transaction_id' : pd.Series.nunique, \n",
    "                                          'visitor_id' : pd.Series.nunique, \n",
    "                                          'revenue' : 'sum'}), axis=1).sort_values(by=['date','group'])\n",
    "\n",
    "visitorsAggregated = datesGroups.apply(lambda x: visitors[np.logical_and(visitors['date'] <= x['date'], visitors['group'] == x['group'])]. \\\n",
    "                                       agg({'date' : 'max', \n",
    "                                            'group' : 'max', \n",
    "                                            'visitors' : 'sum'}), axis=1).sort_values(by=['date','group'])\n",
    "\n",
    "cumulativeData = ordersAggregated.merge(visitorsAggregated, left_on=['date', 'group'], right_on=['date', 'group'])\n",
    "cumulativeData.columns = ['date', 'group', 'orders', 'buyers', 'revenue', 'visitors']\n",
    "\n",
    "display(cumulativeData.head(5))"
   ]
  },
  {
   "cell_type": "markdown",
   "id": "ffe9f36e",
   "metadata": {},
   "source": [
    "Построим графики кумулятивной выручки по дням и группам A/B-тестирования: "
   ]
  },
  {
   "cell_type": "code",
   "execution_count": 22,
   "id": "665b0a7b",
   "metadata": {},
   "outputs": [
    {
     "data": {
      "text/plain": [
       "Text(0, 0.5, 'Кумулятивная выручка')"
      ]
     },
     "execution_count": 22,
     "metadata": {},
     "output_type": "execute_result"
    },
    {
     "data": {
      "image/png": "[encoded data removed]",
      "text/plain": [
       "<Figure size 1500x500 with 1 Axes>"
      ]
     },
     "metadata": {},
     "output_type": "display_data"
    }
   ],
   "source": [
    "cumulativeRevenueA = cumulativeData[cumulativeData['group']=='A'][['date','revenue', 'orders']]\n",
    "cumulativeRevenueB = cumulativeData[cumulativeData['group']=='B'][['date','revenue', 'orders']]\n",
    "\n",
    "from pandas.plotting import register_matplotlib_converters\n",
    "register_matplotlib_converters()\n",
    "\n",
    "plt.figure(figsize=(15,5))\n",
    "plt.plot(cumulativeRevenueA['date'], cumulativeRevenueA['revenue'], label='A')\n",
    "plt.plot(cumulativeRevenueB['date'], cumulativeRevenueB['revenue'], label='B')\n",
    "plt.grid()\n",
    "plt.legend() \n",
    "plt.title('График кумулятивной выручки по группам')\n",
    "plt.xlabel('Дата')\n",
    "plt.ylabel('Кумулятивная выручка')"
   ]
  },
  {
   "cell_type": "markdown",
   "id": "29ea833c",
   "metadata": {},
   "source": [
    "**Вывод:**\n",
    "- Оба графика имеют положительную динамику. Выручка у обеих групп постепенно растет, это отличный знак.\n",
    "- Выручка группы В с самого начало увеличивалось чуть быстрее группы А. С середины месяца разница стала более очевидной.\n",
    "- График выручки группы А растет стабильно, а график группы B 19го августа резко вырос. Это может сигнализировать о всплесках числа заказов, либо о появлении очень дорогих заказов в выборке. \n",
    "\n"
   ]
  },
  {
   "cell_type": "markdown",
   "id": "ba1f9675",
   "metadata": {},
   "source": [
    "#### График кумулятивного среднего чека по группам"
   ]
  },
  {
   "cell_type": "markdown",
   "id": "bf365024",
   "metadata": {},
   "source": [
    "Построим графики среднего чека по группам — разделим кумулятивную выручку на кумулятивное число заказов:"
   ]
  },
  {
   "cell_type": "code",
   "execution_count": 23,
   "id": "83bf0807",
   "metadata": {},
   "outputs": [
    {
     "data": {
      "text/plain": [
       "Text(0, 0.5, 'Кумулятивный средний чек')"
      ]
     },
     "execution_count": 23,
     "metadata": {},
     "output_type": "execute_result"
    },
    {
     "data": {
      "image/png": "[encoded data removed]",
      "text/plain": [
       "<Figure size 1500x500 with 1 Axes>"
      ]
     },
     "metadata": {},
     "output_type": "display_data"
    }
   ],
   "source": [
    "plt.figure(figsize=(15,5))\n",
    "plt.plot(cumulativeRevenueA['date'], cumulativeRevenueA['revenue']/cumulativeRevenueA['orders'], label='A')\n",
    "plt.plot(cumulativeRevenueB['date'], cumulativeRevenueB['revenue']/cumulativeRevenueB['orders'], label='B')\n",
    "plt.legend()\n",
    "plt.title('График кумулятивного среднего чека по группам')\n",
    "plt.xlabel('Дата')\n",
    "plt.ylabel('Кумулятивный средний чек')"
   ]
  },
  {
   "cell_type": "markdown",
   "id": "837a4ea8",
   "metadata": {},
   "source": [
    "**Выводы:**\n",
    "\n",
    "- На этом графике мы снова видим резкий скачок кумулятивного среднего чека группы В в районе 17го-20го августа. Скорее всего, в этом периоде была покупка (или покупки) на аномально высокую сумму.\n",
    "- Средний чек группы В почти всегда опережает группу А. Хотя с 11 по 15 августа средний чек группы А был выше группы В. С 18 августа группа В стабильно выше группы А."
   ]
  },
  {
   "cell_type": "markdown",
   "id": "88e4a15f",
   "metadata": {},
   "source": [
    "#### График относительного изменения кумулятивного среднего чека группы B к группе A"
   ]
  },
  {
   "cell_type": "markdown",
   "id": "e5ea2f23",
   "metadata": {},
   "source": [
    "Построим график относительного различия для среднего чека."
   ]
  },
  {
   "cell_type": "code",
   "execution_count": 24,
   "id": "f52a2c26",
   "metadata": {},
   "outputs": [
    {
     "data": {
      "text/plain": [
       "Text(0, 0.5, 'Относительное изменение в %')"
      ]
     },
     "execution_count": 24,
     "metadata": {},
     "output_type": "execute_result"
    },
    {
     "data": {
      "text/plain": [
       "<Figure size 1500x500 with 0 Axes>"
      ]
     },
     "metadata": {},
     "output_type": "display_data"
    },
    {
     "data": {
      "image/png": "[encoded data removed]",
      "text/plain": [
       "<Figure size 1500x500 with 1 Axes>"
      ]
     },
     "metadata": {},
     "output_type": "display_data"
    }
   ],
   "source": [
    "plt.figure(figsize=(15,5))\n",
    "mergedCumulativeRevenue = cumulativeRevenueA.merge(cumulativeRevenueB, left_on='date', right_on='date', how='left', suffixes=['A', 'B'])\n",
    "\n",
    "plt.figure(figsize=(15,5))\n",
    "plt.grid()\n",
    "plt.plot(mergedCumulativeRevenue['date'], (mergedCumulativeRevenue['revenueB']/mergedCumulativeRevenue['ordersB'])/\n",
    "         (mergedCumulativeRevenue['revenueA']/mergedCumulativeRevenue['ordersA'])-1)\n",
    "plt.title('Относительное изменение кумулятивного среднего чека групп \"B\" к \"А\"')\n",
    "plt.axhline(y=0, color='black', linestyle='--')\n",
    "plt.xlabel('Дата')\n",
    "plt.ylabel('Относительное изменение в %')"
   ]
  },
  {
   "cell_type": "markdown",
   "id": "2c5d01ac",
   "metadata": {},
   "source": [
    "**Выводы:**\n",
    "\n",
    "В этом графике мы видим аналогичную тенденцию. Средняя выручка группы В стабильно выше группы А, за исключением периода с 11 по 15 августа. Стоит отметить, что в нескольких точках график различия между сегментами резко «скачет». Предполагаем, что там прячутся аномальные значения.К концу месяца график стабилизировался и показывает, что средний чек группы В примерно на 30% выше, чем группы А."
   ]
  },
  {
   "cell_type": "markdown",
   "id": "46bf03b0",
   "metadata": {},
   "source": [
    "#### График кумулятивного среднего количества заказов на посетителя по группам"
   ]
  },
  {
   "cell_type": "markdown",
   "id": "e2e82c4f",
   "metadata": {},
   "source": [
    "Аналогично проанализируем график кумулятивного среднего количества заказов. "
   ]
  },
  {
   "cell_type": "code",
   "execution_count": 25,
   "id": "1e59ea14",
   "metadata": {},
   "outputs": [
    {
     "data": {
      "text/plain": [
       "(18109.0, 18139.0, 0.028, 0.038)"
      ]
     },
     "execution_count": 25,
     "metadata": {},
     "output_type": "execute_result"
    },
    {
     "data": {
      "image/png": "[encoded data removed]",
      "text/plain": [
       "<Figure size 1500x500 with 1 Axes>"
      ]
     },
     "metadata": {},
     "output_type": "display_data"
    }
   ],
   "source": [
    "\n",
    "cumulativeData['orderscount'] = cumulativeData['orders']/cumulativeData['visitors']\n",
    "\n",
    "cumulativeDataA = cumulativeData[cumulativeData['group']=='A']\n",
    "cumulativeDataB = cumulativeData[cumulativeData['group']=='B']\n",
    "\n",
    "plt.figure(figsize=(15,5))\n",
    "plt.grid()\n",
    "plt.plot(cumulativeDataA['date'], cumulativeDataA['orderscount'], label='A')\n",
    "plt.plot(cumulativeDataB['date'], cumulativeDataB['orderscount'], label='B')\n",
    "plt.title('Кумулятивное количество заказов')\n",
    "plt.xlabel('Дата')\n",
    "plt.ylabel('Кумулятивное количество заказов')\n",
    "plt.legend()\n",
    "plt.axis([\"2019-08-01\", '2019-08-31', 0.028, 0.038])"
   ]
  },
  {
   "cell_type": "markdown",
   "id": "d8dc6604",
   "metadata": {},
   "source": [
    "**Выводы:**\n",
    "\n",
    "Обе группы в начале меяца сильно колебались. С 6 августа количество заказов группы А значительно выше группы В. С середины месяца график зафиксировался."
   ]
  },
  {
   "cell_type": "markdown",
   "id": "e21a93e3",
   "metadata": {},
   "source": [
    "#### График относительного изменения кумулятивного среднего количества заказов на посетителя группы B к группе A"
   ]
  },
  {
   "cell_type": "code",
   "execution_count": 26,
   "id": "66c9acb6",
   "metadata": {},
   "outputs": [
    {
     "data": {
      "text/plain": [
       "(18109.0, 18139.0, -0.15, 0.25)"
      ]
     },
     "execution_count": 26,
     "metadata": {},
     "output_type": "execute_result"
    },
    {
     "data": {
      "image/png": "[encoded data removed]",
      "text/plain": [
       "<Figure size 1500x500 with 1 Axes>"
      ]
     },
     "metadata": {},
     "output_type": "display_data"
    }
   ],
   "source": [
    "mergedCumulativeConversions = cumulativeDataA[['date','orderscount']].merge(cumulativeDataB[['date','orderscount']], \n",
    "                                            left_on='date', right_on='date', how='left', suffixes=['A', 'B'])\n",
    "\n",
    "plt.figure(figsize=(15,5))\n",
    "plt.plot(mergedCumulativeConversions['date'], mergedCumulativeConversions['orderscountB']\n",
    "         /mergedCumulativeConversions['orderscountA']-1)\n",
    "plt.title('График относительного изменения кумулятивного среднего количества заказов на посетителя группы B к группе A')\n",
    "plt.xlabel('Дата')\n",
    "plt.ylabel('Относительное изменение в %')\n",
    "plt.axhline(y=0, color='black', linestyle='--')\n",
    "plt.axhline(y=-0.1, color='grey', linestyle='--')\n",
    "plt.axhline(y=0.1, color='grey', linestyle='--')\n",
    "plt.axis([\"2019-08-01\", '2019-08-31', -0.15, 0.25])"
   ]
  },
  {
   "cell_type": "markdown",
   "id": "94fb0300",
   "metadata": {},
   "source": [
    "**Выводы:**\n",
    "\n",
    "До 6 августа группа B значительно проигрывала группе A, затем вырвалась вперёд и зафиксировалась. С 8 августа группа В стабильно выше группы А на 10%. "
   ]
  },
  {
   "cell_type": "markdown",
   "id": "aa0548dc",
   "metadata": {},
   "source": [
    "**Общие выводы по анализу кумулятивных метрик**\n",
    "\n",
    "Кумулятивные выручка, средний чек и количество заказов группы В значительно выше группы А. Но в графиках периодически наблюдаются резкие \"скачки\", что говорит о наличии аномальных зхначений, что мы проанализируем в следующем разделе. \n",
    "\n"
   ]
  },
  {
   "cell_type": "markdown",
   "id": "691e5e8d",
   "metadata": {},
   "source": [
    "### Анализ выбросов и всплесков"
   ]
  },
  {
   "cell_type": "markdown",
   "id": "98e8b75a",
   "metadata": {},
   "source": [
    "#### Точечный график количества заказов по пользователям"
   ]
  },
  {
   "cell_type": "code",
   "execution_count": 27,
   "id": "41859b44",
   "metadata": {},
   "outputs": [
    {
     "data": {
      "text/html": [
       "<div>\n",
       "<style scoped>\n",
       "    .dataframe tbody tr th:only-of-type {\n",
       "        vertical-align: middle;\n",
       "    }\n",
       "\n",
       "    .dataframe tbody tr th {\n",
       "        vertical-align: top;\n",
       "    }\n",
       "\n",
       "    .dataframe thead th {\n",
       "        text-align: right;\n",
       "    }\n",
       "</style>\n",
       "<table border=\"1\" class=\"dataframe\">\n",
       "  <thead>\n",
       "    <tr style=\"text-align: right;\">\n",
       "      <th></th>\n",
       "      <th>user_id</th>\n",
       "      <th>orders</th>\n",
       "    </tr>\n",
       "  </thead>\n",
       "  <tbody>\n",
       "    <tr>\n",
       "      <th>1023</th>\n",
       "      <td>4256040402</td>\n",
       "      <td>11</td>\n",
       "    </tr>\n",
       "    <tr>\n",
       "      <th>591</th>\n",
       "      <td>2458001652</td>\n",
       "      <td>11</td>\n",
       "    </tr>\n",
       "    <tr>\n",
       "      <th>569</th>\n",
       "      <td>2378935119</td>\n",
       "      <td>9</td>\n",
       "    </tr>\n",
       "    <tr>\n",
       "      <th>487</th>\n",
       "      <td>2038680547</td>\n",
       "      <td>8</td>\n",
       "    </tr>\n",
       "    <tr>\n",
       "      <th>44</th>\n",
       "      <td>199603092</td>\n",
       "      <td>5</td>\n",
       "    </tr>\n",
       "    <tr>\n",
       "      <th>744</th>\n",
       "      <td>3062433592</td>\n",
       "      <td>5</td>\n",
       "    </tr>\n",
       "    <tr>\n",
       "      <th>55</th>\n",
       "      <td>237748145</td>\n",
       "      <td>5</td>\n",
       "    </tr>\n",
       "    <tr>\n",
       "      <th>917</th>\n",
       "      <td>3803269165</td>\n",
       "      <td>5</td>\n",
       "    </tr>\n",
       "    <tr>\n",
       "      <th>299</th>\n",
       "      <td>1230306981</td>\n",
       "      <td>5</td>\n",
       "    </tr>\n",
       "    <tr>\n",
       "      <th>897</th>\n",
       "      <td>3717692402</td>\n",
       "      <td>5</td>\n",
       "    </tr>\n",
       "  </tbody>\n",
       "</table>\n",
       "</div>"
      ],
      "text/plain": [
       "         user_id  orders\n",
       "1023  4256040402      11\n",
       "591   2458001652      11\n",
       "569   2378935119       9\n",
       "487   2038680547       8\n",
       "44     199603092       5\n",
       "744   3062433592       5\n",
       "55     237748145       5\n",
       "917   3803269165       5\n",
       "299   1230306981       5\n",
       "897   3717692402       5"
      ]
     },
     "metadata": {},
     "output_type": "display_data"
    }
   ],
   "source": [
    "ordersByUsers = (\n",
    "    orders.groupby('visitor_id', as_index=False)\n",
    "    .agg({'transaction_id': 'nunique'})\n",
    ")\n",
    "\n",
    "ordersByUsers.columns = ['user_id', 'orders']\n",
    "\n",
    "display(ordersByUsers.sort_values(by='orders', ascending=False).head(10)) "
   ]
  },
  {
   "cell_type": "code",
   "execution_count": 28,
   "id": "2474e369",
   "metadata": {},
   "outputs": [
    {
     "data": {
      "text/plain": [
       "<matplotlib.collections.PathCollection at 0x7f7d0080b5e0>"
      ]
     },
     "execution_count": 28,
     "metadata": {},
     "output_type": "execute_result"
    },
    {
     "data": {
      "image/png": "[encoded data removed]",
      "text/plain": [
       "<Figure size 1500x500 with 1 Axes>"
      ]
     },
     "metadata": {},
     "output_type": "display_data"
    }
   ],
   "source": [
    "plt.figure(figsize=(15,5))\n",
    "x_values = pd.Series(range(0,len(ordersByUsers)))\n",
    "plt.title('График количества заказов по пользователям')\n",
    "plt.xlabel('Пользователи')\n",
    "plt.ylabel('Количество заказов')\n",
    "plt.scatter(x_values, ordersByUsers['orders'])"
   ]
  },
  {
   "cell_type": "markdown",
   "id": "14b91bd2",
   "metadata": {},
   "source": [
    "Большинсво пользователей совершают по 1 заказу. . Однако доля пользователей с 2 заказами тоже значительна. Пользователей с 4 заказами становится уже очень мало. "
   ]
  },
  {
   "cell_type": "markdown",
   "id": "35f021da",
   "metadata": {},
   "source": [
    "#### Граница заказов для определения аномальных пользователей"
   ]
  },
  {
   "cell_type": "markdown",
   "id": "35667ae7",
   "metadata": {},
   "source": [
    "Посчитаем 95-й и 99-й перцентили количества заказов на пользователя."
   ]
  },
  {
   "cell_type": "code",
   "execution_count": 29,
   "id": "009d25ac",
   "metadata": {},
   "outputs": [
    {
     "name": "stdout",
     "output_type": "stream",
     "text": [
      "[1. 2. 4.]\n"
     ]
    }
   ],
   "source": [
    "print(np.percentile(ordersByUsers['orders'], [90, 95, 99]))"
   ]
  },
  {
   "cell_type": "markdown",
   "id": "c9109827",
   "metadata": {},
   "source": [
    "Для большей точности рассчитаем все процентили с 95 по 99:"
   ]
  },
  {
   "cell_type": "code",
   "execution_count": 30,
   "id": "42b4dbc2",
   "metadata": {},
   "outputs": [
    {
     "name": "stdout",
     "output_type": "stream",
     "text": [
      "[2. 2. 2. 3. 4.]\n"
     ]
    }
   ],
   "source": [
    "print(np.percentile(ordersByUsers['orders'], [95, 96, 97, 98, 99]))"
   ]
  },
  {
   "cell_type": "markdown",
   "id": "f99d65bd",
   "metadata": {},
   "source": [
    "Пользователей, оформляющих 3 и более заказов можно считать аномальными."
   ]
  },
  {
   "cell_type": "markdown",
   "id": "1618e5a7",
   "metadata": {},
   "source": [
    "#### График стоимостей заказов"
   ]
  },
  {
   "cell_type": "markdown",
   "id": "2a270c41",
   "metadata": {},
   "source": [
    "Построим точечный график стоимостей заказов."
   ]
  },
  {
   "cell_type": "code",
   "execution_count": 31,
   "id": "f835801f",
   "metadata": {},
   "outputs": [
    {
     "data": {
      "text/plain": [
       "<matplotlib.collections.PathCollection at 0x7f7d0080b460>"
      ]
     },
     "execution_count": 31,
     "metadata": {},
     "output_type": "execute_result"
    },
    {
     "data": {
      "image/png": "[encoded data removed]",
      "text/plain": [
       "<Figure size 1500x500 with 1 Axes>"
      ]
     },
     "metadata": {},
     "output_type": "display_data"
    }
   ],
   "source": [
    "plt.figure(figsize=(15,5))\n",
    "x_values = pd.Series(range(0, len(orders['revenue'])))\n",
    "plt.scatter(x_values, orders['revenue']) \n",
    "plt.grid()\n",
    "plt.title('График стоимостей заказов')\n",
    "plt.xlabel('Пользователи')\n",
    "plt.ylabel('Стоимость заказов')\n",
    "plt.scatter(x_values, orders['revenue'])"
   ]
  },
  {
   "cell_type": "markdown",
   "id": "065abe24",
   "metadata": {},
   "source": [
    "Мы видим, что есть один явный выброс, покупка на сумму 129 4500. Уберем этот выброс и посмотрим на график поближе:"
   ]
  },
  {
   "cell_type": "code",
   "execution_count": 32,
   "id": "f271fba1",
   "metadata": {},
   "outputs": [
    {
     "data": {
      "text/plain": [
       "<matplotlib.collections.PathCollection at 0x7f7d23d8f3d0>"
      ]
     },
     "execution_count": 32,
     "metadata": {},
     "output_type": "execute_result"
    },
    {
     "data": {
      "image/png": "[encoded data removed]",
      "text/plain": [
       "<Figure size 1500x500 with 1 Axes>"
      ]
     },
     "metadata": {},
     "output_type": "display_data"
    }
   ],
   "source": [
    "new_orders = orders[orders['revenue']<1294500]['revenue']\n",
    "xn_values = pd.Series(range(0, len(new_orders)))\n",
    "plt.figure(figsize=(15,5))\n",
    "plt.grid()\n",
    "plt.title('График стоимостей заказов')\n",
    "plt.xlabel('Пользователи')\n",
    "plt.ylabel('Стоимость заказов')\n",
    "plt.scatter(xn_values, new_orders)"
   ]
  },
  {
   "cell_type": "markdown",
   "id": "dd3e8b0d",
   "metadata": {},
   "source": [
    "Сейчас мы видим, что большинство заказов было на сумму ниже 50 000."
   ]
  },
  {
   "cell_type": "markdown",
   "id": "f19aed93",
   "metadata": {},
   "source": [
    "#### Граница для определения аномальных заказов."
   ]
  },
  {
   "cell_type": "code",
   "execution_count": 33,
   "id": "61b0575d",
   "metadata": {},
   "outputs": [
    {
     "name": "stdout",
     "output_type": "stream",
     "text": [
      "[18168.  28000.  58233.2]\n"
     ]
    }
   ],
   "source": [
    "print(np.percentile(orders['revenue'], [90, 95, 99]))"
   ]
  },
  {
   "cell_type": "code",
   "execution_count": 34,
   "id": "505bf163",
   "metadata": {},
   "outputs": [
    {
     "name": "stdout",
     "output_type": "stream",
     "text": [
      "[28000.  31382.  35485.  44133.2 58233.2]\n"
     ]
    }
   ],
   "source": [
    "print(np.percentile(orders['revenue'], [95, 96, 97, 98, 99]))"
   ]
  },
  {
   "cell_type": "markdown",
   "id": "dfe2163c",
   "metadata": {},
   "source": [
    "97% пользователей оформляют заказы на сумму ниже 50 000. Заказы со стоимостью выше, можно считать аномальными."
   ]
  },
  {
   "cell_type": "markdown",
   "id": "ce092967",
   "metadata": {},
   "source": [
    "#### Различия в среднем количестве заказов на посетителя между группами по «сырым» данным."
   ]
  },
  {
   "cell_type": "markdown",
   "id": "4dcb1c73",
   "metadata": {},
   "source": [
    "Посчитаем статистическую значимость различий в количестве заказов между группами по «сырым» данным - — без удаления аномальных пользователей.\n",
    "\n",
    "Сформулируем гипотезы. Нулевая: различий в среднем количестве заказов между группами по «сырым» данным нет. Альтернативная: различия в среднем количестве заказов между группами по «сырым» данным есть."
   ]
  },
  {
   "cell_type": "code",
   "execution_count": 35,
   "id": "91e4abd3",
   "metadata": {},
   "outputs": [],
   "source": [
    "visitorsADaily = visitors[visitors['group']=='A'][['date', 'visitors']]\n",
    "visitorsADaily.columns = ['date', 'visitorsPerDateA']\n",
    "\n",
    "visitorsACummulative = visitorsADaily.apply(lambda x: visitorsADaily[visitorsADaily['date'] <= x['date']]. \\\n",
    "                                            agg({'date' : 'max', 'visitorsPerDateA' : 'sum'}), axis=1)\n",
    "visitorsACummulative.columns = ['date', 'visitorsCummulativeA']\n",
    "\n",
    "visitorsBDaily = visitors[visitors['group']=='B'][['date', 'visitors']]\n",
    "visitorsBDaily.columns = ['date', 'visitorsPerDateB']\n",
    "\n",
    "visitorsBCummulative = visitorsBDaily.apply(lambda x: visitorsBDaily[visitorsBDaily['date'] <= x['date']]. \\\n",
    "                                            agg({'date' : 'max', 'visitorsPerDateB' : 'sum'}), axis=1)\n",
    "visitorsBCummulative.columns = ['date', 'visitorsCummulativeB']\n",
    "\n",
    "\n",
    "ordersADaily = orders[orders['group']=='A'][['date', 'transaction_id', 'visitor_id', 'revenue']]\\\n",
    "    .groupby('date', as_index=False)\\\n",
    "    .agg({'transaction_id' : pd.Series.nunique, 'revenue' : 'sum'})\n",
    "ordersADaily.columns = ['date', 'ordersPerDateA', 'revenuePerDateA']\n",
    "\n",
    "ordersACummulative = ordersADaily.apply(\n",
    "    lambda x: \\\n",
    "        ordersADaily[ordersADaily['date'] <= x['date']]\\\n",
    "            .agg({\n",
    "                'date' : 'max',\n",
    "                'ordersPerDateA' : 'sum',\n",
    "                'revenuePerDateA' : 'sum'}), axis=1).sort_values(by=['date'])\n",
    "ordersACummulative.columns = ['date', 'ordersCummulativeA', 'revenueCummulativeA']\n",
    "\n",
    "ordersBDaily = orders[orders['group']=='B'][['date', 'transaction_id', 'visitor_id', 'revenue']]\\\n",
    "    .groupby('date', as_index=False)\\\n",
    "    .agg({'transaction_id' : pd.Series.nunique, 'revenue' : 'sum'})\n",
    "ordersBDaily.columns = ['date', 'ordersPerDateB', 'revenuePerDateB']\n",
    "\n",
    "ordersBCummulative = ordersBDaily.apply(\n",
    "    lambda x: \\\n",
    "        ordersBDaily[ordersBDaily['date'] <= x['date']]\\\n",
    "            .agg({\n",
    "                'date' : 'max',\n",
    "                'ordersPerDateB' : 'sum',\n",
    "        'revenuePerDateB' : 'sum'}), axis=1).sort_values(by=['date'])\n",
    "ordersBCummulative.columns = ['date', 'ordersCummulativeB', 'revenueCummulativeB']"
   ]
  },
  {
   "cell_type": "code",
   "execution_count": 36,
   "id": "e5f77449",
   "metadata": {},
   "outputs": [],
   "source": [
    "data = (\n",
    "    ordersADaily.merge(\n",
    "        ordersBDaily, left_on='date', right_on='date', how='left'\n",
    "    )\n",
    "    .merge(ordersACummulative, left_on='date', right_on='date', how='left')\n",
    "    .merge(ordersBCummulative, left_on='date', right_on='date', how='left')\n",
    "    .merge(visitorsADaily, left_on='date', right_on='date', how='left')\n",
    "    .merge(visitorsBDaily, left_on='date', right_on='date', how='left')\n",
    "    .merge(visitorsACummulative, left_on='date', right_on='date', how='left')\n",
    "    .merge(visitorsBCummulative, left_on='date', right_on='date', how='left')\n",
    ")"
   ]
  },
  {
   "cell_type": "code",
   "execution_count": 37,
   "id": "40dc2e84",
   "metadata": {},
   "outputs": [
    {
     "name": "stdout",
     "output_type": "stream",
     "text": [
      "p-value = 0.017\n",
      "Относительный показатель 'B' и 'A' = 0.138\n"
     ]
    }
   ],
   "source": [
    "ordersByUsersA = (\n",
    "    orders[orders['group'] == 'A']\n",
    "    .groupby('visitor_id', as_index=False)\n",
    "    .agg({'transaction_id': pd.Series.nunique})\n",
    ")\n",
    "ordersByUsersA.columns = ['user_id', 'orders']\n",
    "\n",
    "ordersByUsersB = (\n",
    "    orders[orders['group'] == 'B']\n",
    "    .groupby('visitor_id', as_index=False)\n",
    "    .agg({'transaction_id': pd.Series.nunique})\n",
    ")\n",
    "ordersByUsersB.columns = ['user_id', 'orders']\n",
    "\n",
    "sampleA = pd.concat(\n",
    "    [\n",
    "        ordersByUsersA['orders'],\n",
    "        pd.Series(\n",
    "            0,\n",
    "            index=np.arange(\n",
    "                data['visitorsPerDateA'].sum() - len(ordersByUsersA['orders'])\n",
    "            ),\n",
    "            name='orders',\n",
    "        ),\n",
    "    ],\n",
    "    axis=0,\n",
    ")\n",
    "\n",
    "sampleB = pd.concat(\n",
    "    [\n",
    "        ordersByUsersB['orders'],\n",
    "        pd.Series(\n",
    "            0,\n",
    "            index=np.arange(\n",
    "                data['visitorsPerDateB'].sum() - len(ordersByUsersB['orders'])\n",
    "            ),\n",
    "            name='orders',\n",
    "        ),\n",
    "    ],\n",
    "    axis=0,\n",
    ")\n",
    "\n",
    "print(\"p-value = {0:.3f}\".format(stats.mannwhitneyu(sampleA, sampleB)[1]))\n",
    "\n",
    "print(\"Относительный показатель 'B' и 'A' = {0:.3f}\".format(sampleB.mean() / sampleA.mean() - 1))\n"
   ]
  },
  {
   "cell_type": "markdown",
   "id": "d777fbf6",
   "metadata": {},
   "source": [
    "**Вывод:** \n",
    "\n",
    "Первое число — p-value = 0.017, больше 0.05. Значит, нулевую гипотезу о том, что статистически значимых различий в среднем числе заказов между группами нет, отвергаем. Это значит: по «сырым» данным различия в количестве заказов групп A и B есть. А относительный выигрыш группы \"B\" над \"A\" равен 13.8%"
   ]
  },
  {
   "cell_type": "markdown",
   "id": "698f75f5",
   "metadata": {},
   "source": [
    "#### Различия в среднем чеке заказа между группами по «сырым» данным."
   ]
  },
  {
   "cell_type": "markdown",
   "id": "b8f9d783",
   "metadata": {},
   "source": [
    "Теперь проверим статистическую значимость различий в среднем чеке между сегментами. \n",
    "\n",
    "Нулевая гипотеза: различий в среднем чеке между группами по «сырым» данным нет. Альтернативная гипотеза: различия в среднем чеке между группами по «сырым» данным есть. "
   ]
  },
  {
   "cell_type": "code",
   "execution_count": 38,
   "id": "8ee1c301",
   "metadata": {
    "scrolled": true
   },
   "outputs": [
    {
     "name": "stdout",
     "output_type": "stream",
     "text": [
      "p-value = 0.729\n",
      "Относительный показатель 'B' и 'A' = 0.259\n"
     ]
    }
   ],
   "source": [
    "print('p-value = {0:.3f}'.format(stats.mannwhitneyu(orders[orders['group']=='A']['revenue'], \n",
    "                                          orders[orders['group']=='B']['revenue'])[1]))\n",
    "print(\"Относительный показатель 'B' и 'A' = {0:.3f}\".format(orders[orders['group']=='B']['revenue'].mean()/\n",
    "                       orders[orders['group']=='A']['revenue'].mean()-1))"
   ]
  },
  {
   "cell_type": "markdown",
   "id": "2024440b",
   "metadata": {},
   "source": [
    "**Вывод:**\n",
    "\n",
    "P-value = 0.729, значительно больше 0.05, нулевую гипотезу о том, что в среднем чеке есть различия, не отвергаем. Это значит, что средние чеки по \"сырым\" данным похожи друг на друга. И при этом, средний чек группы B примерно на 26% выше среднего чека группы A."
   ]
  },
  {
   "cell_type": "markdown",
   "id": "fef7fda3",
   "metadata": {},
   "source": [
    "#### Различия в среднем количестве заказов на посетителя между группами по «очищенным» данным."
   ]
  },
  {
   "cell_type": "markdown",
   "id": "47345f26",
   "metadata": {},
   "source": [
    "Вспомним - из предыдущих пунктов мы приняли за аномальных пользователей тех, кто совершил 3 и больше заказов или совершил заказ дороже 50 000. рублей. \n",
    "\n",
    "Сделаем срезы пользователей с числом заказов больше 3 — usersWithManyOrders и пользователей, совершивших заказы дороже 50 000 — usersWithExpensiveOrders. Объединим их в таблице abnormalUsers. "
   ]
  },
  {
   "cell_type": "code",
   "execution_count": 39,
   "id": "e2af9bb0",
   "metadata": {},
   "outputs": [
    {
     "name": "stdout",
     "output_type": "stream",
     "text": [
      "1099    148427295\n",
      "18      199603092\n",
      "23      237748145\n",
      "1137    759473111\n",
      "949     887908475\n",
      "dtype: int64\n",
      "26\n"
     ]
    }
   ],
   "source": [
    "usersWithManyOrders = pd.concat(\n",
    "    [\n",
    "        ordersByUsersA[ordersByUsersA['orders'] > 3]['user_id'],\n",
    "        ordersByUsersB[ordersByUsersB['orders'] > 3]['user_id'],\n",
    "    ],\n",
    "    axis=0,\n",
    ")\n",
    "usersWithExpensiveOrders = orders[orders['revenue'] > 50000]['visitor_id']\n",
    "abnormalUsers = (\n",
    "    pd.concat([usersWithManyOrders, usersWithExpensiveOrders], axis=0)\n",
    "    .drop_duplicates()\n",
    "    .sort_values()\n",
    ")\n",
    "print(abnormalUsers.head(5))\n",
    "print(abnormalUsers.shape[0])"
   ]
  },
  {
   "cell_type": "markdown",
   "id": "eb126493",
   "metadata": {},
   "source": [
    "Всего 26 аномальных пользователей. \n",
    "\n",
    "Узнаем, как их действия повлияли на результаты теста. Посчитаем статистическую значимость различий в среднем количестве заказов между группами теста по очищенным данным. Сначала подготовим выборки количества заказов по пользователям по группам теста:"
   ]
  },
  {
   "cell_type": "code",
   "execution_count": 40,
   "id": "c68649b1",
   "metadata": {},
   "outputs": [],
   "source": [
    "sampleAFiltered = pd.concat(\n",
    "    [\n",
    "        ordersByUsersA[\n",
    "            np.logical_not(ordersByUsersA['user_id'].isin(abnormalUsers))\n",
    "        ]['orders'],\n",
    "        pd.Series(\n",
    "            0,\n",
    "            index=np.arange(\n",
    "                data['visitorsPerDateA'].sum() - len(ordersByUsersA['orders'])\n",
    "            ),\n",
    "            name='orders',\n",
    "        ),\n",
    "    ],\n",
    "    axis=0,\n",
    ")\n",
    "\n",
    "sampleBFiltered = pd.concat(\n",
    "    [\n",
    "        ordersByUsersB[\n",
    "            np.logical_not(ordersByUsersB['user_id'].isin(abnormalUsers))\n",
    "        ]['orders'],\n",
    "        pd.Series(\n",
    "            0,\n",
    "            index=np.arange(\n",
    "                data['visitorsPerDateB'].sum() - len(ordersByUsersB['orders'])\n",
    "            ),\n",
    "            name='orders',\n",
    "        ),\n",
    "    ],\n",
    "    axis=0,\n",
    ")"
   ]
  },
  {
   "cell_type": "markdown",
   "id": "b725cb53",
   "metadata": {},
   "source": [
    "Применим статистический критерий Манна-Уитни к полученным выборкам:\n",
    "\n",
    "За нулевую гипотезу возьмём то, что: \"статистически значимых различий в количестве заказов по \"очищенным\" данным между группами нет\", за альтернативную гипотезу - \"статистически значимые различия в количестве заказов есть\"."
   ]
  },
  {
   "cell_type": "code",
   "execution_count": 41,
   "id": "cd46073b",
   "metadata": {},
   "outputs": [
    {
     "name": "stdout",
     "output_type": "stream",
     "text": [
      "p-value = 0.011\n",
      "Относительный показатель 'B' и 'A' = 0.158\n"
     ]
    }
   ],
   "source": [
    "print('p-value = {0:.3f}'.format(stats.mannwhitneyu(sampleAFiltered, sampleBFiltered)[1]))\n",
    "print(\"Относительный показатель 'B' и 'A' = {0:.3f}\".format(sampleBFiltered.mean()/sampleAFiltered.mean()-1))"
   ]
  },
  {
   "cell_type": "markdown",
   "id": "41853c92",
   "metadata": {},
   "source": [
    "**Вывод:**\n",
    "\n",
    "p-value = 0.011, меньше 0.05. Нулевую гипотезу о том, что статистически значимых различий в в количестве заказов между группами по \"очищенным\" данным нет, - отвергаем. А относительный выигрыш группы \"B\" над \"A\" равен 15,8%."
   ]
  },
  {
   "cell_type": "markdown",
   "id": "0534e9e9",
   "metadata": {},
   "source": [
    "#### Различия в среднем чеке заказа между группами по «очищенным» данным."
   ]
  },
  {
   "cell_type": "markdown",
   "id": "cd6b08cd",
   "metadata": {},
   "source": [
    "Сформулируем гипотезы. \n",
    "\n",
    "Нулевая: различий в среднем количестве заказов между группами по \"очищенным\" данным нет. \n",
    "\n",
    "Альтернативная: различия в среднем чеке между группами по \"очищенным\" данным есть."
   ]
  },
  {
   "cell_type": "markdown",
   "id": "9d010273",
   "metadata": {},
   "source": [
    "Посчитаем статистическую значимость различий в среднем чеке заказа между группами по «очищенным» данным. "
   ]
  },
  {
   "cell_type": "code",
   "execution_count": 42,
   "id": "658f308d",
   "metadata": {},
   "outputs": [
    {
     "name": "stdout",
     "output_type": "stream",
     "text": [
      "0.819\n",
      "0.024\n"
     ]
    }
   ],
   "source": [
    "print(\n",
    "    '{0:.3f}'.format(\n",
    "        stats.mannwhitneyu(\n",
    "            orders[\n",
    "                np.logical_and(\n",
    "                    orders['group'] == 'A',\n",
    "                    np.logical_not(orders['visitor_id'].isin(abnormalUsers)),\n",
    "                )\n",
    "            ]['revenue'],\n",
    "            orders[\n",
    "                np.logical_and(\n",
    "                    orders['group'] == 'B',\n",
    "                    np.logical_not(orders['visitor_id'].isin(abnormalUsers)),\n",
    "                )\n",
    "            ]['revenue'],\n",
    "        )[1]\n",
    "    )\n",
    ")\n",
    "\n",
    "print(\n",
    "    \"{0:.3f}\".format(\n",
    "        orders[\n",
    "            np.logical_and(\n",
    "                orders['group'] == 'B',\n",
    "                np.logical_not(orders['visitor_id'].isin(abnormalUsers)),\n",
    "            )\n",
    "        ]['revenue'].mean()\n",
    "        / orders[\n",
    "            np.logical_and(\n",
    "                orders['group'] == 'A',\n",
    "                np.logical_not(orders['visitor_id'].isin(abnormalUsers)),\n",
    "            )\n",
    "        ]['revenue'].mean()\n",
    "        - 1\n",
    "    )\n",
    ")"
   ]
  },
  {
   "cell_type": "markdown",
   "id": "44740465",
   "metadata": {},
   "source": [
    "**Вывод:**\n",
    "\n",
    "P-value = 0.819, значительно больше 0.05. Значит, причин отвергать нулевую гипотезу и считать, что в среднем чеке есть различия,тоже нет, как и с \"сырыми\" данным. А вот разница между средними чеками группы А и В снизилась. Если по \"сырым\" данным группа В выигрывала у группы А примерно на 26%, то сейчас только на 2,4%. Убрали заказы на аномально большие суммы, и чеки сравнялись.\n"
   ]
  },
  {
   "cell_type": "markdown",
   "id": "aef37e94",
   "metadata": {},
   "source": [
    "### Общие выводы"
   ]
  },
  {
   "cell_type": "markdown",
   "id": "38e82f5a",
   "metadata": {},
   "source": [
    "Имеющиеся факты:\n",
    "- И по \"сырым\" и по \"очищенным\" данным есть ощутимые различия в среднем количестве заказов на посетителя между группами А и В. Среднее количество заказов группы В выше среднего количества заказов группы А на 13.8% по \"сырым\" данным, и на 15,8% по \"очищенным\" данным. \n",
    "- Статистически значимого различия по среднему чеку между группами ни по «сырым», ни по данным после фильтрации аномалий нет. По \"сырым\" данным средний чек группы В был выше группы А на 26%. После того, как убрали аномальные заказы, чеки сравнялись."
   ]
  },
  {
   "cell_type": "markdown",
   "id": "27fad063",
   "metadata": {},
   "source": [
    "- В итоге можно принять решение остановить тестирование и констатировать успех и победу группы B : группа B значительно лучше группы A по количеству заказов, хотя по среднему чеку группы примерно равны."
   ]
  },
  {
   "cell_type": "code",
   "execution_count": null,
   "id": "52d609cf",
   "metadata": {},
   "outputs": [],
   "source": []
  }
 ],
 "metadata": {
  "ExecuteTimeLog": [
   {
    "duration": 1302,
    "start_time": "2023-05-02T11:53:10.846Z"
   },
   {
    "duration": 123,
    "start_time": "2023-05-02T11:53:12.149Z"
   },
   {
    "duration": 126,
    "start_time": "2023-05-02T11:53:12.274Z"
   },
   {
    "duration": 101,
    "start_time": "2023-05-02T11:53:12.402Z"
   },
   {
    "duration": 82,
    "start_time": "2023-05-02T11:53:12.505Z"
   },
   {
    "duration": 3,
    "start_time": "2023-05-02T11:53:12.588Z"
   },
   {
    "duration": 12,
    "start_time": "2023-05-02T11:53:12.593Z"
   },
   {
    "duration": 8,
    "start_time": "2023-05-02T11:53:12.606Z"
   },
   {
    "duration": 10,
    "start_time": "2023-05-02T11:53:12.615Z"
   },
   {
    "duration": 25,
    "start_time": "2023-05-02T11:53:12.628Z"
   },
   {
    "duration": 3,
    "start_time": "2023-05-02T11:53:12.655Z"
   },
   {
    "duration": 5,
    "start_time": "2023-05-02T11:53:12.660Z"
   },
   {
    "duration": 5,
    "start_time": "2023-05-02T11:53:12.666Z"
   },
   {
    "duration": 5,
    "start_time": "2023-05-02T11:53:12.673Z"
   },
   {
    "duration": 6,
    "start_time": "2023-05-02T11:53:12.680Z"
   },
   {
    "duration": 10,
    "start_time": "2023-05-02T11:53:12.687Z"
   },
   {
    "duration": 10,
    "start_time": "2023-05-02T11:53:12.699Z"
   },
   {
    "duration": 337,
    "start_time": "2023-05-02T11:53:12.710Z"
   },
   {
    "duration": 300,
    "start_time": "2023-05-02T11:53:13.049Z"
   },
   {
    "duration": 201,
    "start_time": "2023-05-02T11:53:13.351Z"
   },
   {
    "duration": 348,
    "start_time": "2023-05-02T11:53:13.553Z"
   },
   {
    "duration": 197,
    "start_time": "2023-05-02T11:53:13.903Z"
   },
   {
    "duration": 292,
    "start_time": "2023-05-02T11:53:14.101Z"
   },
   {
    "duration": 11,
    "start_time": "2023-05-02T11:53:14.395Z"
   },
   {
    "duration": 150,
    "start_time": "2023-05-02T11:53:14.407Z"
   },
   {
    "duration": 5,
    "start_time": "2023-05-02T11:53:14.559Z"
   },
   {
    "duration": 13,
    "start_time": "2023-05-02T11:53:14.566Z"
   },
   {
    "duration": 11,
    "start_time": "2023-05-02T11:53:14.583Z"
   },
   {
    "duration": 189,
    "start_time": "2023-05-02T11:53:14.595Z"
   },
   {
    "duration": 272,
    "start_time": "2023-05-02T11:53:14.787Z"
   },
   {
    "duration": 5,
    "start_time": "2023-05-02T11:53:15.061Z"
   },
   {
    "duration": 22,
    "start_time": "2023-05-02T11:53:15.067Z"
   },
   {
    "duration": 199,
    "start_time": "2023-05-02T11:53:15.091Z"
   },
   {
    "duration": 24,
    "start_time": "2023-05-02T11:53:15.292Z"
   },
   {
    "duration": 182,
    "start_time": "2023-05-02T11:53:15.318Z"
   },
   {
    "duration": 10,
    "start_time": "2023-05-02T11:53:15.502Z"
   },
   {
    "duration": 13,
    "start_time": "2023-05-02T11:53:15.513Z"
   },
   {
    "duration": 23,
    "start_time": "2023-05-02T11:53:15.528Z"
   },
   {
    "duration": 21,
    "start_time": "2023-05-02T11:53:15.553Z"
   },
   {
    "duration": 13,
    "start_time": "2023-05-02T11:53:15.576Z"
   },
   {
    "duration": 7,
    "start_time": "2023-05-02T12:10:28.608Z"
   },
   {
    "duration": 47,
    "start_time": "2023-05-02T23:21:38.423Z"
   },
   {
    "duration": 1190,
    "start_time": "2023-05-02T23:21:47.278Z"
   },
   {
    "duration": 72,
    "start_time": "2023-05-02T23:21:48.470Z"
   },
   {
    "duration": 82,
    "start_time": "2023-05-02T23:21:48.544Z"
   },
   {
    "duration": 61,
    "start_time": "2023-05-02T23:21:48.628Z"
   },
   {
    "duration": 92,
    "start_time": "2023-05-02T23:21:48.691Z"
   },
   {
    "duration": 3,
    "start_time": "2023-05-02T23:21:48.785Z"
   },
   {
    "duration": 10,
    "start_time": "2023-05-02T23:21:48.789Z"
   },
   {
    "duration": 21,
    "start_time": "2023-05-02T23:21:48.801Z"
   },
   {
    "duration": 11,
    "start_time": "2023-05-02T23:21:48.823Z"
   },
   {
    "duration": 21,
    "start_time": "2023-05-02T23:21:48.836Z"
   },
   {
    "duration": 13,
    "start_time": "2023-05-02T23:21:48.859Z"
   },
   {
    "duration": 16,
    "start_time": "2023-05-02T23:21:48.874Z"
   },
   {
    "duration": 8,
    "start_time": "2023-05-02T23:21:48.891Z"
   },
   {
    "duration": 9,
    "start_time": "2023-05-02T23:21:48.901Z"
   },
   {
    "duration": 9,
    "start_time": "2023-05-02T23:21:48.911Z"
   },
   {
    "duration": 24,
    "start_time": "2023-05-02T23:21:48.921Z"
   },
   {
    "duration": 14,
    "start_time": "2023-05-02T23:21:48.946Z"
   },
   {
    "duration": 308,
    "start_time": "2023-05-02T23:21:48.961Z"
   },
   {
    "duration": 6,
    "start_time": "2023-05-02T23:21:49.271Z"
   },
   {
    "duration": 29,
    "start_time": "2023-05-02T23:21:49.279Z"
   },
   {
    "duration": 21,
    "start_time": "2023-05-02T23:21:49.310Z"
   },
   {
    "duration": 33,
    "start_time": "2023-05-02T23:21:49.333Z"
   },
   {
    "duration": 343,
    "start_time": "2023-05-02T23:21:49.368Z"
   },
   {
    "duration": 320,
    "start_time": "2023-05-02T23:21:49.713Z"
   },
   {
    "duration": 232,
    "start_time": "2023-05-02T23:21:50.035Z"
   },
   {
    "duration": 340,
    "start_time": "2023-05-02T23:21:50.269Z"
   },
   {
    "duration": 219,
    "start_time": "2023-05-02T23:21:50.611Z"
   },
   {
    "duration": 351,
    "start_time": "2023-05-02T23:21:50.833Z"
   },
   {
    "duration": 11,
    "start_time": "2023-05-02T23:21:51.185Z"
   },
   {
    "duration": 172,
    "start_time": "2023-05-02T23:21:51.198Z"
   },
   {
    "duration": 4,
    "start_time": "2023-05-02T23:21:51.372Z"
   },
   {
    "duration": 13,
    "start_time": "2023-05-02T23:21:51.378Z"
   },
   {
    "duration": 194,
    "start_time": "2023-05-02T23:21:51.392Z"
   },
   {
    "duration": 273,
    "start_time": "2023-05-02T23:21:51.588Z"
   },
   {
    "duration": 4,
    "start_time": "2023-05-02T23:21:51.863Z"
   },
   {
    "duration": 22,
    "start_time": "2023-05-02T23:21:51.868Z"
   },
   {
    "duration": 201,
    "start_time": "2023-05-02T23:21:51.892Z"
   },
   {
    "duration": 20,
    "start_time": "2023-05-02T23:21:52.095Z"
   },
   {
    "duration": 172,
    "start_time": "2023-05-02T23:21:52.117Z"
   },
   {
    "duration": 10,
    "start_time": "2023-05-02T23:21:52.291Z"
   },
   {
    "duration": 27,
    "start_time": "2023-05-02T23:21:52.303Z"
   },
   {
    "duration": 37,
    "start_time": "2023-05-02T23:21:52.332Z"
   },
   {
    "duration": 39,
    "start_time": "2023-05-02T23:21:52.371Z"
   },
   {
    "duration": 13,
    "start_time": "2023-05-02T23:21:52.412Z"
   },
   {
    "duration": 11,
    "start_time": "2023-05-02T23:22:23.269Z"
   },
   {
    "duration": 316,
    "start_time": "2023-05-02T23:22:56.781Z"
   },
   {
    "duration": 4,
    "start_time": "2023-05-02T23:23:02.677Z"
   },
   {
    "duration": 103,
    "start_time": "2023-05-02T23:26:12.516Z"
   },
   {
    "duration": 3,
    "start_time": "2023-05-02T23:26:23.580Z"
   }
  ],
  "kernelspec": {
   "display_name": "Python 3 (ipykernel)",
   "language": "python",
   "name": "python3"
  },
  "language_info": {
   "codemirror_mode": {
    "name": "ipython",
    "version": 3
   },
   "file_extension": ".py",
   "mimetype": "text/x-python",
   "name": "python",
   "nbconvert_exporter": "python",
   "pygments_lexer": "ipython3",
   "version": "3.9.15"
  },
  "toc": {
   "base_numbering": 1,
   "nav_menu": {},
   "number_sections": true,
   "sideBar": true,
   "skip_h1_title": true,
   "title_cell": "Table of Contents",
   "title_sidebar": "Contents",
   "toc_cell": true,
   "toc_position": {
    "height": "calc(100% - 180px)",
    "left": "10px",
    "top": "150px",
    "width": "165px"
   },
   "toc_section_display": true,
   "toc_window_display": true
  }
 },
 "nbformat": 4,
 "nbformat_minor": 5
}
